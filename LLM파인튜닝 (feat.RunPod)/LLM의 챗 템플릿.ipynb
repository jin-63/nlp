{
 "cells": [
  {
   "cell_type": "markdown",
   "metadata": {
    "id": "nWhA8OhTstGP"
   },
   "source": [
    "## LLM의 챗 템플릿\n"
   ]
  },
  {
   "cell_type": "markdown",
   "metadata": {
    "id": "zlTIvz1Is0Cx"
   },
   "source": [
    "### 1. 토크나이저\n",
    "모든 LLM들은 고유한 토크나이저가 존재합니다. 우선 transformers 패키지로 부터 AutoTokenizer를 임포트 합니다."
   ]
  },
  {
   "cell_type": "code",
   "execution_count": null,
   "metadata": {
    "id": "JJMQdlaPsbPt"
   },
   "outputs": [],
   "source": [
    "from transformers import AutoTokenizer"
   ]
  },
  {
   "cell_type": "markdown",
   "metadata": {
    "id": "B-iWuwKOtFwx"
   },
   "source": [
    "AutoTokenizer.from_pretrained('모델 이름')을 사용하여 LLM 고유의 토크나이저를 불러\n",
    "올 수 있습니다. 저희가 이번에 사용할 모델은 한국 회사 올거나이즈가 라마 (LLama) 모델을 한국어로 추가 학습한 모델인 allganize/Llama-3-Alpha-Ko-8B-Instruct입니다"
   ]
  },
  {
   "cell_type": "code",
   "execution_count": null,
   "metadata": {
    "colab": {
     "base_uri": "https://localhost:8080/",
     "height": 242,
     "referenced_widgets": [
      "b2a86af7711e44279558215fb142ec8e",
      "506d5a4875454014b49d120f7b8f7e23",
      "8dd3e1be8e824b89929f2d7e2aa1beb2",
      "2ec62a683c75401998442cf8f5e50aa7",
      "e9581c3737704f558f5fa80dbab95a0d",
      "5b22ce7a7f0e4f7cb42355359ea016ae",
      "979e16dcf4f6460c8933af10318db421",
      "6121df49f9f847d9af58bbf668789d19",
      "468f9f112de44810bffc5260c532293e",
      "59b39d60306040f9b6e217e0ff0e2ac2",
      "1554851bb58b4b219b31e82722d96764",
      "f9140fbd127f4ddb905dbfd794ee2c7c",
      "969cefa0985046c494d27d5fad1726dd",
      "19eff1e2a9a54427aebcff36887cd7b6",
      "1aefc3b0fbda475188e4b730398e2a35",
      "ef02f2137e5c4ebca444dcf377ee8ae6",
      "b4afde45c4454a3d91488b3a5095c976",
      "6e9094d2a0e7430099970a3c476d149d",
      "3493b0c3ad56446cbd891c95523acf0b",
      "932a93601b3e4cbe8d235b8c44e0d6ab",
      "253fd33be0a64884bbf1dd80fa5b6ba8",
      "21397eabae4f4c7381ced065fb18e998",
      "a396369d4dfd45c28232f94a50d729a3",
      "eaaf2529c1fc48c1acc4000e8590898e",
      "ed1e32ec82634a5ea9e0454ff12ca0f1",
      "59e9b03f6fdf4e95b444a3b16944018c",
      "73ec64907e1845829cc524f673a3448f",
      "5aca82c695ae4533b099977da47e0739",
      "7aa7e757197e4f5d8b41153525cb53a2",
      "f3de21e9a286472fb40d1f993f319bd3",
      "8177de03ef81476f9af9fef4e51f4337",
      "83b4c221b23c4c288475e58ef07623fb",
      "a072d4519d7849c5837506b41ae98952"
     ]
    },
    "executionInfo": {
     "elapsed": 4419,
     "status": "ok",
     "timestamp": 1754388569298,
     "user": {
      "displayName": "유진철",
      "userId": "18428759730043573350"
     },
     "user_tz": -540
    },
    "id": "XgzXNh-0smV7",
    "outputId": "fd98ef2a-3a3a-4c6d-e3ce-7c8e469b8758"
   },
   "outputs": [
    {
     "name": "stderr",
     "output_type": "stream",
     "text": [
      "/usr/local/lib/python3.11/dist-packages/huggingface_hub/utils/_auth.py:94: UserWarning: \n",
      "The secret `HF_TOKEN` does not exist in your Colab secrets.\n",
      "To authenticate with the Hugging Face Hub, create a token in your settings tab (https://huggingface.co/settings/tokens), set it as secret in your Google Colab and restart your session.\n",
      "You will be able to reuse this secret in all of your notebooks.\n",
      "Please note that authentication is recommended but still optional to access public models or datasets.\n",
      "  warnings.warn(\n"
     ]
    },
    {
     "data": {
      "application/vnd.jupyter.widget-view+json": {
       "model_id": "b2a86af7711e44279558215fb142ec8e",
       "version_major": 2,
       "version_minor": 0
      },
      "text/plain": [
       "tokenizer_config.json: 0.00B [00:00, ?B/s]"
      ]
     },
     "metadata": {},
     "output_type": "display_data"
    },
    {
     "data": {
      "application/vnd.jupyter.widget-view+json": {
       "model_id": "f9140fbd127f4ddb905dbfd794ee2c7c",
       "version_major": 2,
       "version_minor": 0
      },
      "text/plain": [
       "tokenizer.json: 0.00B [00:00, ?B/s]"
      ]
     },
     "metadata": {},
     "output_type": "display_data"
    },
    {
     "data": {
      "application/vnd.jupyter.widget-view+json": {
       "model_id": "a396369d4dfd45c28232f94a50d729a3",
       "version_major": 2,
       "version_minor": 0
      },
      "text/plain": [
       "special_tokens_map.json:   0%|          | 0.00/350 [00:00<?, ?B/s]"
      ]
     },
     "metadata": {},
     "output_type": "display_data"
    }
   ],
   "source": [
    "model_id = \"allganize/Llama-3-Alpha-Ko-8B-Instruct\"\n",
    "tokenizer = AutoTokenizer.from_pretrained(model_id)"
   ]
  },
  {
   "cell_type": "markdown",
   "metadata": {
    "id": "Fx_uyWr2tY8H"
   },
   "source": [
    "토크나이저의 메소드 encode()는 사람의 입력을 LLM이 이해할 수 있는 정수로 변환하고 decode()는 다시 이를 사람의 입력으로 해석하게 해줍니다."
   ]
  },
  {
   "cell_type": "code",
   "execution_count": null,
   "metadata": {
    "colab": {
     "base_uri": "https://localhost:8080/"
    },
    "executionInfo": {
     "elapsed": 30,
     "status": "ok",
     "timestamp": 1754388686449,
     "user": {
      "displayName": "유진철",
      "userId": "18428759730043573350"
     },
     "user_tz": -540
    },
    "id": "fEAab2uJtk-o",
    "outputId": "d1e4ae07-e082-4a99-8885-f0a34c84b557"
   },
   "outputs": [
    {
     "data": {
      "text/plain": [
       "[128000, 101193, 124409, 13, 64857, 115072, 39331, 13]"
      ]
     },
     "execution_count": 3,
     "metadata": {},
     "output_type": "execute_result"
    }
   ],
   "source": [
    "# 토킄화 과정을 내부적으로 수행 후에 바로 인코딩 한 결과\n",
    "tokenizer.encode('안녕하세요. 반갑습니다.')"
   ]
  },
  {
   "cell_type": "markdown",
   "metadata": {
    "id": "6UiufpMetY1q"
   },
   "source": [
    "위의 결과는’ 안녕하세요. 반갑습니다.’ 를 토크나이저가 토큰화 후에 정수 인코딩을 수행한 후의 결과입니다. 이를 다시 decode()의 입력으로 사용하여 복원해봅시다.\n"
   ]
  },
  {
   "cell_type": "code",
   "execution_count": null,
   "metadata": {
    "colab": {
     "base_uri": "https://localhost:8080/",
     "height": 35
    },
    "executionInfo": {
     "elapsed": 60,
     "status": "ok",
     "timestamp": 1754388717420,
     "user": {
      "displayName": "유진철",
      "userId": "18428759730043573350"
     },
     "user_tz": -540
    },
    "id": "1uiipP2wtQov",
    "outputId": "c24766ba-c81d-4223-b183-f8b0899ad777"
   },
   "outputs": [
    {
     "data": {
      "application/vnd.google.colaboratory.intrinsic+json": {
       "type": "string"
      },
      "text/plain": [
       "'<|begin_of_text|>안녕하세요. 반갑습니다.'"
      ]
     },
     "execution_count": 4,
     "metadata": {},
     "output_type": "execute_result"
    }
   ],
   "source": [
    "tokenizer.decode([128000, 101193, 124409, 13, 64857, 115072, 39331, 13])"
   ]
  },
  {
   "cell_type": "markdown",
   "metadata": {
    "id": "WXJnLnTmt5G3"
   },
   "source": [
    "다시 ‘안녕하세요. 반갑습니다.’ 문자열로 복원된 것을 볼 수 있습니다. <|begin_of_text|>가 부착\n",
    "되었지만, 이는 해당 모델의 특징이므로 여기서는 신경쓰지 않아도 됩니다."
   ]
  },
  {
   "cell_type": "markdown",
   "metadata": {
    "id": "lgiRT1tit6bi"
   },
   "source": [
    "###2. 챗 템플릿(Chat Template)\n",
    "템플릿은 해당 모델이 만들어졌을 당시의 모델의 입력으로 넣을 때 반드시 지켜주어야 할 입력 형\n",
    "식입니다. 이는 모델마다 다르며 이미 학습된 LLM 을 사용할 때 해당 LLM 의 챗 템플릿을 따르지 않\n",
    "으면 제대로 된 성능을 얻기 어렵습니다. 모델 사용 전 반드시 기억해야 합니다. 이번 실습에서는\n",
    "“allganize/Llama‑3‑Alpha‑Ko‑8B‑Instruct” 모델의 챗 템플릿에 대해서 알아볼 것입니다\n",
    "\n",
    "해당 모델의 챗 템플릿을 알아보기 전에 우리가 해당 모델의 입력으로 넣을 시스템 프롬프트와 유저 프롬프트를 오픈 AI 형식으로 작성해보겠습니다. 오픈 AI 형식이란, 오픈 AI 의 GPT‑4 API 를 사용할 때의 형식을 의미합니다. 앞서 GPT‑4 API 를 사용하며 시스템 프롬프트와 유저 프롬프트에 대해서 설명한 바 있습니다\n",
    "- 시스템 프롬프트: 모델의 역할이나 모델이 앞으로 해야할 일을 적는 구간.\n",
    "- 유저 프롬프트: 모델에게 지금 요청할 것 (사용자의 질문)\n",
    "\n",
    "임의로 아래와 같이 시스템 프롬프트와 유저 프롬프트를 GPT‑4 API 를 사용할 당시의 형식으로 작성해보\n",
    "았습니다."
   ]
  },
  {
   "cell_type": "code",
   "execution_count": null,
   "metadata": {
    "id": "8urutVDkt14C"
   },
   "outputs": [],
   "source": [
    "messages = [\n",
    "    {\"role\": \"system\", \"content\": \"당신은 인공지능 어시스턴트입니다. 묻는 말에 친절하고 정확하게 답변하세요\"},\n",
    "    {\"role\": \"user\", \"content\": \"은행의 기준 금리에 대해서 설명해줘\"}\n",
    "]"
   ]
  },
  {
   "cell_type": "markdown",
   "metadata": {
    "id": "_cTyhBvnu8PZ"
   },
   "source": [
    "모델에게 입력할 시스템 프롬프트와 유저 프롬프트를 오픈 AI 형식으로 작성하였고, 사용할 모델의토크나이저가 로드된 상황이라면 챗 템플릿 형식으로 빠르게 적용할 수 있습니다. tokenizer.\n",
    "apply_chat_template()을 사용하되 입력으로 오픈 AI 형식으로 작성된 프롬프트를 넣으면 해당\n",
    "LLM 이 사용하고 있는 챗 템플릿으로 자동 변환해줍니다.\n"
   ]
  },
  {
   "cell_type": "code",
   "execution_count": null,
   "metadata": {
    "colab": {
     "base_uri": "https://localhost:8080/"
    },
    "executionInfo": {
     "elapsed": 49,
     "status": "ok",
     "timestamp": 1754389178146,
     "user": {
      "displayName": "유진철",
      "userId": "18428759730043573350"
     },
     "user_tz": -540
    },
    "id": "ZPbTVZ-Ou4l7",
    "outputId": "6fce8d4e-4f20-47fc-9e87-3502df186cb0"
   },
   "outputs": [
    {
     "name": "stdout",
     "output_type": "stream",
     "text": [
      "<|begin_of_text|><|start_header_id|>system<|end_header_id|>\n",
      "\n",
      "당신은 인공지능 어시스턴트입니다. 묻는 말에 친절하고 정확하게 답변하세요<|eot_id|><|start_header_id|>user<|end_header_id|>\n",
      "\n",
      "은행의 기준 금리에 대해서 설명해줘<|eot_id|>\n"
     ]
    }
   ],
   "source": [
    "# tokenizer = False는 인코딩은 안하고 챗 템플릿만 적용\n",
    "template_messages = tokenizer.apply_chat_template(messages, tokenize=False)\n",
    "print(template_messages)"
   ]
  },
  {
   "cell_type": "markdown",
   "metadata": {
    "id": "lUSgCXWev-xn"
   },
   "source": [
    "위의 결과를 보면 시스템 프롬프트는 <|begin_of_text|><|start_header_id|>system<|\n",
    "end_header_id|>와 <|eot_id|> 사이에 작성되고, 유저 프롬프트는 <|start_header_id\n",
    "|>user<|end_header_id|>와 <|eot_id|> 사이에 작성 되어져 있는데 해당 형태가\n",
    "“allganize/Llama‑3‑Alpha‑Ko‑8B‑Instruct” 모델의 챗 템플릿입니다. (구체적으로는 LLama‑3 의 챗 템플릿입니다.) 해당 모델을 사용할 때는 항상 시스템 프롬프트와 유저 프롬프트가 위의 형태를 가지도록 하여 모델의 입력으로 넣는 것이 좋습니다. 물론 모델에 넣을 때는 위 형식에서 정수 인코딩까지 되어져 있어야만 합니다. tokenizer=True를 사용하면 템플릿 적용 및 정수 인코딩 후의 결과를 볼 수 있습니다. 하지만 tokenizer=True가 기본 값이므로 tokenizer 인자의 값을 기재하지 않으면 됩니다."
   ]
  },
  {
   "cell_type": "code",
   "execution_count": null,
   "metadata": {
    "colab": {
     "base_uri": "https://localhost:8080/"
    },
    "executionInfo": {
     "elapsed": 18,
     "status": "ok",
     "timestamp": 1754389396724,
     "user": {
      "displayName": "유진철",
      "userId": "18428759730043573350"
     },
     "user_tz": -540
    },
    "id": "o2u_ClwIvire",
    "outputId": "6aaaf91d-46a5-48b6-894f-b9adf111d151"
   },
   "outputs": [
    {
     "name": "stdout",
     "output_type": "stream",
     "text": [
      "템플릿 적용 및 정수 인코딩 후:\n",
      " [128000, 128006, 9125, 128007, 271, 65895, 83628, 34804, 59777, 103896, 67119, 101139, 30426, 25941, 95252, 29726, 80052, 13, 100570, 119, 16969, 101264, 19954, 108280, 104834, 101360, 127923, 102893, 111964, 92245, 128009, 128006, 882, 128007, 271, 34804, 101066, 21028, 111902, 104193, 111833, 122115, 114942, 34983, 59269, 246, 128009]\n"
     ]
    }
   ],
   "source": [
    "encodeds = tokenizer.apply_chat_template(messages)\n",
    "print('템플릿 적용 및 정수 인코딩 후:\\n', encodeds)"
   ]
  },
  {
   "cell_type": "markdown",
   "metadata": {
    "id": "03DFO_p5wmF0"
   },
   "source": [
    "실제로 위 결과를 다시 decode()하면 이미 챗 템플릿이 적용된 상태임을 확인할 수 있습니다."
   ]
  },
  {
   "cell_type": "code",
   "execution_count": null,
   "metadata": {
    "colab": {
     "base_uri": "https://localhost:8080/"
    },
    "executionInfo": {
     "elapsed": 9,
     "status": "ok",
     "timestamp": 1754389563232,
     "user": {
      "displayName": "유진철",
      "userId": "18428759730043573350"
     },
     "user_tz": -540
    },
    "id": "NdxVOPmXwZM5",
    "outputId": "0696c9c3-e3e8-4ea9-90f5-30735e48ef96"
   },
   "outputs": [
    {
     "name": "stdout",
     "output_type": "stream",
     "text": [
      "템플릿 적용 및 정수 인코딩 결과를 복원:\n",
      " <|begin_of_text|><|start_header_id|>system<|end_header_id|>\n",
      "\n",
      "당신은 인공지능 어시스턴트입니다. 묻는 말에 친절하고 정확하게 답변하세요<|eot_id|><|start_header_id|>user<|end_header_id|>\n",
      "\n",
      "은행의 기준 금리에 대해서 설명해줘<|eot_id|>\n"
     ]
    }
   ],
   "source": [
    "print('템플릿 적용 및 정수 인코딩 결과를 복원:\\n', tokenizer.decode(encodeds))"
   ]
  },
  {
   "cell_type": "markdown",
   "metadata": {
    "id": "oA60XTzqxq4Q"
   },
   "source": [
    "###3. 생성 프롬프트(Generation Prompt)\n",
    "챗 템플릿을 적용할 때 추가로 고려해야 할 것으로 생성 프롬프트 (Generation Prompt) 라는 것이 있습니다. LLM 이 적절하게 응답을 할 수 있도록 도와주는 프롬프트입니다. apply_chat_template()을\n",
    "사용할 때 add_generation_prompt=True를 사용하면 해당 프롬프트를 확인할 수 있습니다."
   ]
  },
  {
   "cell_type": "code",
   "execution_count": null,
   "metadata": {
    "colab": {
     "base_uri": "https://localhost:8080/"
    },
    "executionInfo": {
     "elapsed": 35,
     "status": "ok",
     "timestamp": 1754389853475,
     "user": {
      "displayName": "유진철",
      "userId": "18428759730043573350"
     },
     "user_tz": -540
    },
    "id": "PUGBfOQuwz7P",
    "outputId": "53124adb-0753-4935-bdac-ea33887a13e2"
   },
   "outputs": [
    {
     "name": "stdout",
     "output_type": "stream",
     "text": [
      "[128000, 128006, 9125, 128007, 271, 65895, 83628, 34804, 59777, 103896, 67119, 101139, 30426, 25941, 95252, 29726, 80052, 13, 100570, 119, 16969, 101264, 19954, 108280, 104834, 101360, 127923, 102893, 111964, 92245, 128009, 128006, 882, 128007, 271, 34804, 101066, 21028, 111902, 104193, 111833, 122115, 114942, 34983, 59269, 246, 128009, 128006, 78191, 128007, 271]\n"
     ]
    }
   ],
   "source": [
    "encodeds = tokenizer.apply_chat_template(messages, add_generation_prompt=True)\n",
    "print(encodeds)"
   ]
  },
  {
   "cell_type": "markdown",
   "metadata": {
    "id": "4aqYwWq5yHVl"
   },
   "source": [
    "정수 인코딩이 된 결과가 나와서 add_generation_prompt=True를 추가하므로서 현재 챗 템플릿에 어떤 변화가 일어났는지 위 결과만으로는 확인이 어렵습니다. 위 결과를 decode()를 통해 정수 시퀀스를 텍스트 형태로 변환하여 챗 템플릿에 어떤 변화가 있었는지 보다 쉽게 확인해보겠습니다.\n"
   ]
  },
  {
   "cell_type": "code",
   "execution_count": null,
   "metadata": {
    "colab": {
     "base_uri": "https://localhost:8080/"
    },
    "executionInfo": {
     "elapsed": 22,
     "status": "ok",
     "timestamp": 1754389902578,
     "user": {
      "displayName": "유진철",
      "userId": "18428759730043573350"
     },
     "user_tz": -540
    },
    "id": "11-dkQcax_nq",
    "outputId": "72f9a817-6e68-47d2-db3c-9ebb7bcb6222"
   },
   "outputs": [
    {
     "name": "stdout",
     "output_type": "stream",
     "text": [
      "템프릿 적용 및 정수 인코딩 결과를 복원:\n",
      " <|begin_of_text|><|start_header_id|>system<|end_header_id|>\n",
      "\n",
      "당신은 인공지능 어시스턴트입니다. 묻는 말에 친절하고 정확하게 답변하세요<|eot_id|><|start_header_id|>user<|end_header_id|>\n",
      "\n",
      "은행의 기준 금리에 대해서 설명해줘<|eot_id|><|start_header_id|>assistant<|end_header_id|>\n",
      "\n",
      "\n"
     ]
    }
   ],
   "source": [
    "print('템프릿 적용 및 정수 인코딩 결과를 복원:\\n', tokenizer.decode((encodeds)))"
   ]
  },
  {
   "cell_type": "markdown",
   "metadata": {
    "id": "ezCOoOnY1pPq"
   },
   "source": [
    "위 형식의 챗 템플릿으로 학습된 LLM 사용 시, LLM 의 입력으로 사용하고 싶은 시스템 프롬프트와 유저 프롬프트가 있다면 아래와 같이 학습된 챗 템플릿 형식에 맞춰 배치해야 합니다. 예를 들어서 시스템 프롬프트로’ 당신은 인공지능 어시스턴트입니다. 묻는 말에 친절하고 정확하게 답변하세요.’ 를 사용하고 유저 프롬프트로’ 은행의 기준 금리에 대해서 설명해줘’ 를 사용하여 LLM 의 답변을 얻고자 한다면 아래와 같이 입력을 넣어야 합니다"
   ]
  },
  {
   "cell_type": "code",
   "execution_count": null,
   "metadata": {
    "colab": {
     "base_uri": "https://localhost:8080/",
     "height": 54
    },
    "executionInfo": {
     "elapsed": 61,
     "status": "ok",
     "timestamp": 1754390894524,
     "user": {
      "displayName": "유진철",
      "userId": "18428759730043573350"
     },
     "user_tz": -540
    },
    "id": "Fv_NcHSIyXNj",
    "outputId": "5f5fa2c7-eccb-44ab-f125-0e655e0025d8"
   },
   "outputs": [
    {
     "data": {
      "application/vnd.google.colaboratory.intrinsic+json": {
       "type": "string"
      },
      "text/plain": [
       "'system: 당신은 인공지능 어시스턴트입니다. 묻는말에 친절하고 정확하게 답변하세요.\\n:end\\nuser: 은행의 기준 금리에 대해서 설명해줘 :end\\nassistant:\\n'"
      ]
     },
     "execution_count": 17,
     "metadata": {},
     "output_type": "execute_result"
    }
   ],
   "source": [
    "\"\"\"system: 당신은 인공지능 어시스턴트입니다. 묻는말에 친절하고 정확하게 답변하세요.\n",
    ":end\n",
    "user: 은행의 기준 금리에 대해서 설명해줘 :end\n",
    "assistant:\n",
    "\"\"\""
   ]
  },
  {
   "cell_type": "markdown",
   "metadata": {
    "id": "ltbYkkOw2Msn"
   },
   "source": [
    "LLM 은 학습 당시에 assistant: 다음부터 실제 답변을 작성하도록 학습이 되어져 있기 때문에 LLM 에 위와 같은 입력을 넣어주어야 하는 것입니다. 위의 입력을 넣은 LLM 은 아래와 같이 답변을 생성할 것입니다. 입력의 챗 템플릿의 끝에 이미 assistant:가 붙어있기 때문에 이어서 답변만 작성하면 됩니다."
   ]
  },
  {
   "cell_type": "code",
   "execution_count": null,
   "metadata": {
    "colab": {
     "base_uri": "https://localhost:8080/",
     "height": 54
    },
    "executionInfo": {
     "elapsed": 78,
     "status": "ok",
     "timestamp": 1754391031857,
     "user": {
      "displayName": "유진철",
      "userId": "18428759730043573350"
     },
     "user_tz": -540
    },
    "id": "crrQ6wkz15Dk",
    "outputId": "d6aa9345-d545-4f82-f606-e37dc7901e5a"
   },
   "outputs": [
    {
     "data": {
      "application/vnd.google.colaboratory.intrinsic+json": {
       "type": "string"
      },
      "text/plain": [
       "'<system> 너는 사용자의 질문에 친절하게 답변해야해. </system>\\n<user> 안녕 </user>\\n<assistant> 반갑습니다. <assistant>'"
      ]
     },
     "execution_count": 18,
     "metadata": {},
     "output_type": "execute_result"
    }
   ],
   "source": [
    "\"\"\"<system> 너는 사용자의 질문에 친절하게 답변해야해. </system>\n",
    "<user> 안녕 </user>\n",
    "<assistant> 반갑습니다. <assistant>\"\"\""
   ]
  },
  {
   "cell_type": "markdown",
   "metadata": {
    "id": "FjhJvYct2vQh"
   },
   "source": [
    "위 형식의 챗 템플릿으로 학습된 LLM 을 사용한다고 가정하였을 때, 시스템 프롬프트와 유저 프롬프트를 새로 입력한다면 아래와 같이 학습된 챗 템플릿 형식에 맞춰 배치해야 합니다."
   ]
  },
  {
   "cell_type": "code",
   "execution_count": null,
   "metadata": {
    "colab": {
     "base_uri": "https://localhost:8080/",
     "height": 54
    },
    "executionInfo": {
     "elapsed": 63,
     "status": "ok",
     "timestamp": 1754391138734,
     "user": {
      "displayName": "유진철",
      "userId": "18428759730043573350"
     },
     "user_tz": -540
    },
    "id": "z0ifOmD82q5a",
    "outputId": "6ad28770-b5bb-452e-89a1-2094a8e25044"
   },
   "outputs": [
    {
     "data": {
      "application/vnd.google.colaboratory.intrinsic+json": {
       "type": "string"
      },
      "text/plain": [
       "'<system> 당신은 인공지능 어시스턴트입니다. 묻는 말에 친절하고 정확하게 답변하세요.\\n</system>\\n<user> 은행의 기준 금리에 대해서 설명해줘 </user>\\n<assistant>\\n'"
      ]
     },
     "execution_count": 19,
     "metadata": {},
     "output_type": "execute_result"
    }
   ],
   "source": [
    "\"\"\"<system> 당신은 인공지능 어시스턴트입니다. 묻는 말에 친절하고 정확하게 답변하세요.\n",
    "</system>\n",
    "<user> 은행의 기준 금리에 대해서 설명해줘 </user>\n",
    "<assistant>\n",
    "\"\"\""
   ]
  },
  {
   "cell_type": "markdown",
   "metadata": {
    "id": "G_GspfQS3Mok"
   },
   "source": [
    "LLM 은 학습 당시에 <<assistant>assistant> 다음부터 실제 답변을 작성하도록 학습이 되어져 있기 때문에 위와\n",
    "같이 <<assistant>assistant>까지 부착하여 입력을 넣어주어야 하는 것입니다. 위의 입력을 넣은 LLM 은 아래와\n",
    "같이 답변을 생성할 것입니다. 입력으로 사용된 챗 템플릿의 끝에 이미 <<assistant>assistant>가 붙어있기 때문\n",
    "에 바로 답변만 작성하면 됩니다.\n"
   ]
  },
  {
   "cell_type": "code",
   "execution_count": null,
   "metadata": {
    "colab": {
     "base_uri": "https://localhost:8080/",
     "height": 35
    },
    "executionInfo": {
     "elapsed": 62,
     "status": "ok",
     "timestamp": 1754391390368,
     "user": {
      "displayName": "유진철",
      "userId": "18428759730043573350"
     },
     "user_tz": -540
    },
    "id": "XKoQ74vn3E_f",
    "outputId": "a429c84e-7c7d-491c-9aa0-cd059d176f19"
   },
   "outputs": [
    {
     "data": {
      "application/vnd.google.colaboratory.intrinsic+json": {
       "type": "string"
      },
      "text/plain": [
       "'중앙은행이 정하는 기준이 되는 금리로, 시중 금리와 경제 전반에 영향을 미칩니다. </assistant>'"
      ]
     },
     "execution_count": 20,
     "metadata": {},
     "output_type": "execute_result"
    }
   ],
   "source": [
    "\"\"\"중앙은행이 정하는 기준이 되는 금리로, 시중 금리와 경제 전반에 영향을 미칩니다. </assistant>\"\"\""
   ]
  },
  {
   "cell_type": "markdown",
   "metadata": {
    "id": "q0Ps-6J14GgM"
   },
   "source": [
    "방금 설명한 두 가지 예시에서는 생성 프롬프트가 각각 assistant:와 <<assistant>assistant>에 해당됩니다. 다시 말해 생성 프롬프트란 LLM 이 훈련된 챗 템플릿 형식에서 응답을 시작해야 하는 위치를 표시하는 부분입니다. “allganize/Llama‑3‑Alpha‑Ko‑8B‑Instruct” 의 <|start_header_id|>assistant\n",
    "<|end_header_id|>도 마찬가지로 생성 프롬프트 역할을 하며, 입력 텍스트에 생성 프롬프트를 추\n",
    "가한 후 LLM 에게 입력하면 모델이 어디서부터 자신의 답변을 생성해야 하는지 알려주는 역할을 합니다.\n",
    "apply_chat_template()을 사용할 때 add_generation_prompt=True 옵션을 사용하면 각\n",
    "모델에 맞는 생성 프롬프트가 자동으로 추가되어 LLM 이 답변 시 학습 시의 성능을 보존한 채 올바른 응답생성이 가능해집니다.\n",
    "지금까지 LLM 에게 사용자의 입력을 전달할 때 반드시 알아야 할 개념인 챗 템플릿과 생성 프롬프트에 대해서 정리해보았습니다. GPT‑4 API 와 같은 API 서비스에서는 오픈 AI 형식과 같이 특정 형식으로 전달하면 내부적으로 챗 템플릿이 적용되어 LLM 이 호출되므로 API 사용자가 크게 신경 쓸 필요가 없지만, 모델을 다운받아서 직접 사용하는 경우에는 이러한 챗 템플릿을 적절히 적용하여 입력을 전달해야 합니다. 챗템플릿이나 생성 프롬프트를 올바르게 적용하지 않으면 다운로드하여 사용 중인 모델의 답변 성능이 크\n",
    "게 저하될 수 있습니다. 또는 파인 튜닝을 한다고 하더라도 챗 템플릿을 무시하고 파인 튜닝을 한 모델은 본래 LLM 의 성능을 제대로 사용할 수 없습니다. 따라서 실제 운영 환경에서 모델을 다운받아서 활용할 때는 반드시 해당 모델의 챗 템플릿과 생성 프롬프트를 정확히 적용해야 할 것입니다.\n"
   ]
  },
  {
   "cell_type": "code",
   "execution_count": null,
   "metadata": {
    "id": "ceYDT2ZA4Cbb"
   },
   "outputs": [],
   "source": []
  }
 ],
 "metadata": {
  "colab": {
   "authorship_tag": "ABX9TyOSLyPvzoPlPQupGVxIQ+9a",
   "provenance": []
  },
  "kernelspec": {
   "display_name": "Python 3",
   "name": "python3"
  },
  "language_info": {
   "name": "python"
  },
  "widgets": {
   "application/vnd.jupyter.widget-state+json": {
    "1554851bb58b4b219b31e82722d96764": {
     "model_module": "@jupyter-widgets/controls",
     "model_module_version": "1.5.0",
     "model_name": "DescriptionStyleModel",
     "state": {
      "_model_module": "@jupyter-widgets/controls",
      "_model_module_version": "1.5.0",
      "_model_name": "DescriptionStyleModel",
      "_view_count": null,
      "_view_module": "@jupyter-widgets/base",
      "_view_module_version": "1.2.0",
      "_view_name": "StyleView",
      "description_width": ""
     }
    },
    "19eff1e2a9a54427aebcff36887cd7b6": {
     "model_module": "@jupyter-widgets/controls",
     "model_module_version": "1.5.0",
     "model_name": "FloatProgressModel",
     "state": {
      "_dom_classes": [],
      "_model_module": "@jupyter-widgets/controls",
      "_model_module_version": "1.5.0",
      "_model_name": "FloatProgressModel",
      "_view_count": null,
      "_view_module": "@jupyter-widgets/controls",
      "_view_module_version": "1.5.0",
      "_view_name": "ProgressView",
      "bar_style": "success",
      "description": "",
      "description_tooltip": null,
      "layout": "IPY_MODEL_3493b0c3ad56446cbd891c95523acf0b",
      "max": 1,
      "min": 0,
      "orientation": "horizontal",
      "style": "IPY_MODEL_932a93601b3e4cbe8d235b8c44e0d6ab",
      "value": 1
     }
    },
    "1aefc3b0fbda475188e4b730398e2a35": {
     "model_module": "@jupyter-widgets/controls",
     "model_module_version": "1.5.0",
     "model_name": "HTMLModel",
     "state": {
      "_dom_classes": [],
      "_model_module": "@jupyter-widgets/controls",
      "_model_module_version": "1.5.0",
      "_model_name": "HTMLModel",
      "_view_count": null,
      "_view_module": "@jupyter-widgets/controls",
      "_view_module_version": "1.5.0",
      "_view_name": "HTMLView",
      "description": "",
      "description_tooltip": null,
      "layout": "IPY_MODEL_253fd33be0a64884bbf1dd80fa5b6ba8",
      "placeholder": "​",
      "style": "IPY_MODEL_21397eabae4f4c7381ced065fb18e998",
      "value": " 9.09M/? [00:00&lt;00:00, 19.4MB/s]"
     }
    },
    "21397eabae4f4c7381ced065fb18e998": {
     "model_module": "@jupyter-widgets/controls",
     "model_module_version": "1.5.0",
     "model_name": "DescriptionStyleModel",
     "state": {
      "_model_module": "@jupyter-widgets/controls",
      "_model_module_version": "1.5.0",
      "_model_name": "DescriptionStyleModel",
      "_view_count": null,
      "_view_module": "@jupyter-widgets/base",
      "_view_module_version": "1.2.0",
      "_view_name": "StyleView",
      "description_width": ""
     }
    },
    "253fd33be0a64884bbf1dd80fa5b6ba8": {
     "model_module": "@jupyter-widgets/base",
     "model_module_version": "1.2.0",
     "model_name": "LayoutModel",
     "state": {
      "_model_module": "@jupyter-widgets/base",
      "_model_module_version": "1.2.0",
      "_model_name": "LayoutModel",
      "_view_count": null,
      "_view_module": "@jupyter-widgets/base",
      "_view_module_version": "1.2.0",
      "_view_name": "LayoutView",
      "align_content": null,
      "align_items": null,
      "align_self": null,
      "border": null,
      "bottom": null,
      "display": null,
      "flex": null,
      "flex_flow": null,
      "grid_area": null,
      "grid_auto_columns": null,
      "grid_auto_flow": null,
      "grid_auto_rows": null,
      "grid_column": null,
      "grid_gap": null,
      "grid_row": null,
      "grid_template_areas": null,
      "grid_template_columns": null,
      "grid_template_rows": null,
      "height": null,
      "justify_content": null,
      "justify_items": null,
      "left": null,
      "margin": null,
      "max_height": null,
      "max_width": null,
      "min_height": null,
      "min_width": null,
      "object_fit": null,
      "object_position": null,
      "order": null,
      "overflow": null,
      "overflow_x": null,
      "overflow_y": null,
      "padding": null,
      "right": null,
      "top": null,
      "visibility": null,
      "width": null
     }
    },
    "2ec62a683c75401998442cf8f5e50aa7": {
     "model_module": "@jupyter-widgets/controls",
     "model_module_version": "1.5.0",
     "model_name": "HTMLModel",
     "state": {
      "_dom_classes": [],
      "_model_module": "@jupyter-widgets/controls",
      "_model_module_version": "1.5.0",
      "_model_name": "HTMLModel",
      "_view_count": null,
      "_view_module": "@jupyter-widgets/controls",
      "_view_module_version": "1.5.0",
      "_view_name": "HTMLView",
      "description": "",
      "description_tooltip": null,
      "layout": "IPY_MODEL_59b39d60306040f9b6e217e0ff0e2ac2",
      "placeholder": "​",
      "style": "IPY_MODEL_1554851bb58b4b219b31e82722d96764",
      "value": " 51.0k/? [00:00&lt;00:00, 1.22MB/s]"
     }
    },
    "3493b0c3ad56446cbd891c95523acf0b": {
     "model_module": "@jupyter-widgets/base",
     "model_module_version": "1.2.0",
     "model_name": "LayoutModel",
     "state": {
      "_model_module": "@jupyter-widgets/base",
      "_model_module_version": "1.2.0",
      "_model_name": "LayoutModel",
      "_view_count": null,
      "_view_module": "@jupyter-widgets/base",
      "_view_module_version": "1.2.0",
      "_view_name": "LayoutView",
      "align_content": null,
      "align_items": null,
      "align_self": null,
      "border": null,
      "bottom": null,
      "display": null,
      "flex": null,
      "flex_flow": null,
      "grid_area": null,
      "grid_auto_columns": null,
      "grid_auto_flow": null,
      "grid_auto_rows": null,
      "grid_column": null,
      "grid_gap": null,
      "grid_row": null,
      "grid_template_areas": null,
      "grid_template_columns": null,
      "grid_template_rows": null,
      "height": null,
      "justify_content": null,
      "justify_items": null,
      "left": null,
      "margin": null,
      "max_height": null,
      "max_width": null,
      "min_height": null,
      "min_width": null,
      "object_fit": null,
      "object_position": null,
      "order": null,
      "overflow": null,
      "overflow_x": null,
      "overflow_y": null,
      "padding": null,
      "right": null,
      "top": null,
      "visibility": null,
      "width": "20px"
     }
    },
    "468f9f112de44810bffc5260c532293e": {
     "model_module": "@jupyter-widgets/controls",
     "model_module_version": "1.5.0",
     "model_name": "ProgressStyleModel",
     "state": {
      "_model_module": "@jupyter-widgets/controls",
      "_model_module_version": "1.5.0",
      "_model_name": "ProgressStyleModel",
      "_view_count": null,
      "_view_module": "@jupyter-widgets/base",
      "_view_module_version": "1.2.0",
      "_view_name": "StyleView",
      "bar_color": null,
      "description_width": ""
     }
    },
    "506d5a4875454014b49d120f7b8f7e23": {
     "model_module": "@jupyter-widgets/controls",
     "model_module_version": "1.5.0",
     "model_name": "HTMLModel",
     "state": {
      "_dom_classes": [],
      "_model_module": "@jupyter-widgets/controls",
      "_model_module_version": "1.5.0",
      "_model_name": "HTMLModel",
      "_view_count": null,
      "_view_module": "@jupyter-widgets/controls",
      "_view_module_version": "1.5.0",
      "_view_name": "HTMLView",
      "description": "",
      "description_tooltip": null,
      "layout": "IPY_MODEL_5b22ce7a7f0e4f7cb42355359ea016ae",
      "placeholder": "​",
      "style": "IPY_MODEL_979e16dcf4f6460c8933af10318db421",
      "value": "tokenizer_config.json: "
     }
    },
    "59b39d60306040f9b6e217e0ff0e2ac2": {
     "model_module": "@jupyter-widgets/base",
     "model_module_version": "1.2.0",
     "model_name": "LayoutModel",
     "state": {
      "_model_module": "@jupyter-widgets/base",
      "_model_module_version": "1.2.0",
      "_model_name": "LayoutModel",
      "_view_count": null,
      "_view_module": "@jupyter-widgets/base",
      "_view_module_version": "1.2.0",
      "_view_name": "LayoutView",
      "align_content": null,
      "align_items": null,
      "align_self": null,
      "border": null,
      "bottom": null,
      "display": null,
      "flex": null,
      "flex_flow": null,
      "grid_area": null,
      "grid_auto_columns": null,
      "grid_auto_flow": null,
      "grid_auto_rows": null,
      "grid_column": null,
      "grid_gap": null,
      "grid_row": null,
      "grid_template_areas": null,
      "grid_template_columns": null,
      "grid_template_rows": null,
      "height": null,
      "justify_content": null,
      "justify_items": null,
      "left": null,
      "margin": null,
      "max_height": null,
      "max_width": null,
      "min_height": null,
      "min_width": null,
      "object_fit": null,
      "object_position": null,
      "order": null,
      "overflow": null,
      "overflow_x": null,
      "overflow_y": null,
      "padding": null,
      "right": null,
      "top": null,
      "visibility": null,
      "width": null
     }
    },
    "59e9b03f6fdf4e95b444a3b16944018c": {
     "model_module": "@jupyter-widgets/controls",
     "model_module_version": "1.5.0",
     "model_name": "HTMLModel",
     "state": {
      "_dom_classes": [],
      "_model_module": "@jupyter-widgets/controls",
      "_model_module_version": "1.5.0",
      "_model_name": "HTMLModel",
      "_view_count": null,
      "_view_module": "@jupyter-widgets/controls",
      "_view_module_version": "1.5.0",
      "_view_name": "HTMLView",
      "description": "",
      "description_tooltip": null,
      "layout": "IPY_MODEL_83b4c221b23c4c288475e58ef07623fb",
      "placeholder": "​",
      "style": "IPY_MODEL_a072d4519d7849c5837506b41ae98952",
      "value": " 350/350 [00:00&lt;00:00, 8.27kB/s]"
     }
    },
    "5aca82c695ae4533b099977da47e0739": {
     "model_module": "@jupyter-widgets/base",
     "model_module_version": "1.2.0",
     "model_name": "LayoutModel",
     "state": {
      "_model_module": "@jupyter-widgets/base",
      "_model_module_version": "1.2.0",
      "_model_name": "LayoutModel",
      "_view_count": null,
      "_view_module": "@jupyter-widgets/base",
      "_view_module_version": "1.2.0",
      "_view_name": "LayoutView",
      "align_content": null,
      "align_items": null,
      "align_self": null,
      "border": null,
      "bottom": null,
      "display": null,
      "flex": null,
      "flex_flow": null,
      "grid_area": null,
      "grid_auto_columns": null,
      "grid_auto_flow": null,
      "grid_auto_rows": null,
      "grid_column": null,
      "grid_gap": null,
      "grid_row": null,
      "grid_template_areas": null,
      "grid_template_columns": null,
      "grid_template_rows": null,
      "height": null,
      "justify_content": null,
      "justify_items": null,
      "left": null,
      "margin": null,
      "max_height": null,
      "max_width": null,
      "min_height": null,
      "min_width": null,
      "object_fit": null,
      "object_position": null,
      "order": null,
      "overflow": null,
      "overflow_x": null,
      "overflow_y": null,
      "padding": null,
      "right": null,
      "top": null,
      "visibility": null,
      "width": null
     }
    },
    "5b22ce7a7f0e4f7cb42355359ea016ae": {
     "model_module": "@jupyter-widgets/base",
     "model_module_version": "1.2.0",
     "model_name": "LayoutModel",
     "state": {
      "_model_module": "@jupyter-widgets/base",
      "_model_module_version": "1.2.0",
      "_model_name": "LayoutModel",
      "_view_count": null,
      "_view_module": "@jupyter-widgets/base",
      "_view_module_version": "1.2.0",
      "_view_name": "LayoutView",
      "align_content": null,
      "align_items": null,
      "align_self": null,
      "border": null,
      "bottom": null,
      "display": null,
      "flex": null,
      "flex_flow": null,
      "grid_area": null,
      "grid_auto_columns": null,
      "grid_auto_flow": null,
      "grid_auto_rows": null,
      "grid_column": null,
      "grid_gap": null,
      "grid_row": null,
      "grid_template_areas": null,
      "grid_template_columns": null,
      "grid_template_rows": null,
      "height": null,
      "justify_content": null,
      "justify_items": null,
      "left": null,
      "margin": null,
      "max_height": null,
      "max_width": null,
      "min_height": null,
      "min_width": null,
      "object_fit": null,
      "object_position": null,
      "order": null,
      "overflow": null,
      "overflow_x": null,
      "overflow_y": null,
      "padding": null,
      "right": null,
      "top": null,
      "visibility": null,
      "width": null
     }
    },
    "6121df49f9f847d9af58bbf668789d19": {
     "model_module": "@jupyter-widgets/base",
     "model_module_version": "1.2.0",
     "model_name": "LayoutModel",
     "state": {
      "_model_module": "@jupyter-widgets/base",
      "_model_module_version": "1.2.0",
      "_model_name": "LayoutModel",
      "_view_count": null,
      "_view_module": "@jupyter-widgets/base",
      "_view_module_version": "1.2.0",
      "_view_name": "LayoutView",
      "align_content": null,
      "align_items": null,
      "align_self": null,
      "border": null,
      "bottom": null,
      "display": null,
      "flex": null,
      "flex_flow": null,
      "grid_area": null,
      "grid_auto_columns": null,
      "grid_auto_flow": null,
      "grid_auto_rows": null,
      "grid_column": null,
      "grid_gap": null,
      "grid_row": null,
      "grid_template_areas": null,
      "grid_template_columns": null,
      "grid_template_rows": null,
      "height": null,
      "justify_content": null,
      "justify_items": null,
      "left": null,
      "margin": null,
      "max_height": null,
      "max_width": null,
      "min_height": null,
      "min_width": null,
      "object_fit": null,
      "object_position": null,
      "order": null,
      "overflow": null,
      "overflow_x": null,
      "overflow_y": null,
      "padding": null,
      "right": null,
      "top": null,
      "visibility": null,
      "width": "20px"
     }
    },
    "6e9094d2a0e7430099970a3c476d149d": {
     "model_module": "@jupyter-widgets/controls",
     "model_module_version": "1.5.0",
     "model_name": "DescriptionStyleModel",
     "state": {
      "_model_module": "@jupyter-widgets/controls",
      "_model_module_version": "1.5.0",
      "_model_name": "DescriptionStyleModel",
      "_view_count": null,
      "_view_module": "@jupyter-widgets/base",
      "_view_module_version": "1.2.0",
      "_view_name": "StyleView",
      "description_width": ""
     }
    },
    "73ec64907e1845829cc524f673a3448f": {
     "model_module": "@jupyter-widgets/base",
     "model_module_version": "1.2.0",
     "model_name": "LayoutModel",
     "state": {
      "_model_module": "@jupyter-widgets/base",
      "_model_module_version": "1.2.0",
      "_model_name": "LayoutModel",
      "_view_count": null,
      "_view_module": "@jupyter-widgets/base",
      "_view_module_version": "1.2.0",
      "_view_name": "LayoutView",
      "align_content": null,
      "align_items": null,
      "align_self": null,
      "border": null,
      "bottom": null,
      "display": null,
      "flex": null,
      "flex_flow": null,
      "grid_area": null,
      "grid_auto_columns": null,
      "grid_auto_flow": null,
      "grid_auto_rows": null,
      "grid_column": null,
      "grid_gap": null,
      "grid_row": null,
      "grid_template_areas": null,
      "grid_template_columns": null,
      "grid_template_rows": null,
      "height": null,
      "justify_content": null,
      "justify_items": null,
      "left": null,
      "margin": null,
      "max_height": null,
      "max_width": null,
      "min_height": null,
      "min_width": null,
      "object_fit": null,
      "object_position": null,
      "order": null,
      "overflow": null,
      "overflow_x": null,
      "overflow_y": null,
      "padding": null,
      "right": null,
      "top": null,
      "visibility": null,
      "width": null
     }
    },
    "7aa7e757197e4f5d8b41153525cb53a2": {
     "model_module": "@jupyter-widgets/controls",
     "model_module_version": "1.5.0",
     "model_name": "DescriptionStyleModel",
     "state": {
      "_model_module": "@jupyter-widgets/controls",
      "_model_module_version": "1.5.0",
      "_model_name": "DescriptionStyleModel",
      "_view_count": null,
      "_view_module": "@jupyter-widgets/base",
      "_view_module_version": "1.2.0",
      "_view_name": "StyleView",
      "description_width": ""
     }
    },
    "8177de03ef81476f9af9fef4e51f4337": {
     "model_module": "@jupyter-widgets/controls",
     "model_module_version": "1.5.0",
     "model_name": "ProgressStyleModel",
     "state": {
      "_model_module": "@jupyter-widgets/controls",
      "_model_module_version": "1.5.0",
      "_model_name": "ProgressStyleModel",
      "_view_count": null,
      "_view_module": "@jupyter-widgets/base",
      "_view_module_version": "1.2.0",
      "_view_name": "StyleView",
      "bar_color": null,
      "description_width": ""
     }
    },
    "83b4c221b23c4c288475e58ef07623fb": {
     "model_module": "@jupyter-widgets/base",
     "model_module_version": "1.2.0",
     "model_name": "LayoutModel",
     "state": {
      "_model_module": "@jupyter-widgets/base",
      "_model_module_version": "1.2.0",
      "_model_name": "LayoutModel",
      "_view_count": null,
      "_view_module": "@jupyter-widgets/base",
      "_view_module_version": "1.2.0",
      "_view_name": "LayoutView",
      "align_content": null,
      "align_items": null,
      "align_self": null,
      "border": null,
      "bottom": null,
      "display": null,
      "flex": null,
      "flex_flow": null,
      "grid_area": null,
      "grid_auto_columns": null,
      "grid_auto_flow": null,
      "grid_auto_rows": null,
      "grid_column": null,
      "grid_gap": null,
      "grid_row": null,
      "grid_template_areas": null,
      "grid_template_columns": null,
      "grid_template_rows": null,
      "height": null,
      "justify_content": null,
      "justify_items": null,
      "left": null,
      "margin": null,
      "max_height": null,
      "max_width": null,
      "min_height": null,
      "min_width": null,
      "object_fit": null,
      "object_position": null,
      "order": null,
      "overflow": null,
      "overflow_x": null,
      "overflow_y": null,
      "padding": null,
      "right": null,
      "top": null,
      "visibility": null,
      "width": null
     }
    },
    "8dd3e1be8e824b89929f2d7e2aa1beb2": {
     "model_module": "@jupyter-widgets/controls",
     "model_module_version": "1.5.0",
     "model_name": "FloatProgressModel",
     "state": {
      "_dom_classes": [],
      "_model_module": "@jupyter-widgets/controls",
      "_model_module_version": "1.5.0",
      "_model_name": "FloatProgressModel",
      "_view_count": null,
      "_view_module": "@jupyter-widgets/controls",
      "_view_module_version": "1.5.0",
      "_view_name": "ProgressView",
      "bar_style": "success",
      "description": "",
      "description_tooltip": null,
      "layout": "IPY_MODEL_6121df49f9f847d9af58bbf668789d19",
      "max": 1,
      "min": 0,
      "orientation": "horizontal",
      "style": "IPY_MODEL_468f9f112de44810bffc5260c532293e",
      "value": 1
     }
    },
    "932a93601b3e4cbe8d235b8c44e0d6ab": {
     "model_module": "@jupyter-widgets/controls",
     "model_module_version": "1.5.0",
     "model_name": "ProgressStyleModel",
     "state": {
      "_model_module": "@jupyter-widgets/controls",
      "_model_module_version": "1.5.0",
      "_model_name": "ProgressStyleModel",
      "_view_count": null,
      "_view_module": "@jupyter-widgets/base",
      "_view_module_version": "1.2.0",
      "_view_name": "StyleView",
      "bar_color": null,
      "description_width": ""
     }
    },
    "969cefa0985046c494d27d5fad1726dd": {
     "model_module": "@jupyter-widgets/controls",
     "model_module_version": "1.5.0",
     "model_name": "HTMLModel",
     "state": {
      "_dom_classes": [],
      "_model_module": "@jupyter-widgets/controls",
      "_model_module_version": "1.5.0",
      "_model_name": "HTMLModel",
      "_view_count": null,
      "_view_module": "@jupyter-widgets/controls",
      "_view_module_version": "1.5.0",
      "_view_name": "HTMLView",
      "description": "",
      "description_tooltip": null,
      "layout": "IPY_MODEL_b4afde45c4454a3d91488b3a5095c976",
      "placeholder": "​",
      "style": "IPY_MODEL_6e9094d2a0e7430099970a3c476d149d",
      "value": "tokenizer.json: "
     }
    },
    "979e16dcf4f6460c8933af10318db421": {
     "model_module": "@jupyter-widgets/controls",
     "model_module_version": "1.5.0",
     "model_name": "DescriptionStyleModel",
     "state": {
      "_model_module": "@jupyter-widgets/controls",
      "_model_module_version": "1.5.0",
      "_model_name": "DescriptionStyleModel",
      "_view_count": null,
      "_view_module": "@jupyter-widgets/base",
      "_view_module_version": "1.2.0",
      "_view_name": "StyleView",
      "description_width": ""
     }
    },
    "a072d4519d7849c5837506b41ae98952": {
     "model_module": "@jupyter-widgets/controls",
     "model_module_version": "1.5.0",
     "model_name": "DescriptionStyleModel",
     "state": {
      "_model_module": "@jupyter-widgets/controls",
      "_model_module_version": "1.5.0",
      "_model_name": "DescriptionStyleModel",
      "_view_count": null,
      "_view_module": "@jupyter-widgets/base",
      "_view_module_version": "1.2.0",
      "_view_name": "StyleView",
      "description_width": ""
     }
    },
    "a396369d4dfd45c28232f94a50d729a3": {
     "model_module": "@jupyter-widgets/controls",
     "model_module_version": "1.5.0",
     "model_name": "HBoxModel",
     "state": {
      "_dom_classes": [],
      "_model_module": "@jupyter-widgets/controls",
      "_model_module_version": "1.5.0",
      "_model_name": "HBoxModel",
      "_view_count": null,
      "_view_module": "@jupyter-widgets/controls",
      "_view_module_version": "1.5.0",
      "_view_name": "HBoxView",
      "box_style": "",
      "children": [
       "IPY_MODEL_eaaf2529c1fc48c1acc4000e8590898e",
       "IPY_MODEL_ed1e32ec82634a5ea9e0454ff12ca0f1",
       "IPY_MODEL_59e9b03f6fdf4e95b444a3b16944018c"
      ],
      "layout": "IPY_MODEL_73ec64907e1845829cc524f673a3448f"
     }
    },
    "b2a86af7711e44279558215fb142ec8e": {
     "model_module": "@jupyter-widgets/controls",
     "model_module_version": "1.5.0",
     "model_name": "HBoxModel",
     "state": {
      "_dom_classes": [],
      "_model_module": "@jupyter-widgets/controls",
      "_model_module_version": "1.5.0",
      "_model_name": "HBoxModel",
      "_view_count": null,
      "_view_module": "@jupyter-widgets/controls",
      "_view_module_version": "1.5.0",
      "_view_name": "HBoxView",
      "box_style": "",
      "children": [
       "IPY_MODEL_506d5a4875454014b49d120f7b8f7e23",
       "IPY_MODEL_8dd3e1be8e824b89929f2d7e2aa1beb2",
       "IPY_MODEL_2ec62a683c75401998442cf8f5e50aa7"
      ],
      "layout": "IPY_MODEL_e9581c3737704f558f5fa80dbab95a0d"
     }
    },
    "b4afde45c4454a3d91488b3a5095c976": {
     "model_module": "@jupyter-widgets/base",
     "model_module_version": "1.2.0",
     "model_name": "LayoutModel",
     "state": {
      "_model_module": "@jupyter-widgets/base",
      "_model_module_version": "1.2.0",
      "_model_name": "LayoutModel",
      "_view_count": null,
      "_view_module": "@jupyter-widgets/base",
      "_view_module_version": "1.2.0",
      "_view_name": "LayoutView",
      "align_content": null,
      "align_items": null,
      "align_self": null,
      "border": null,
      "bottom": null,
      "display": null,
      "flex": null,
      "flex_flow": null,
      "grid_area": null,
      "grid_auto_columns": null,
      "grid_auto_flow": null,
      "grid_auto_rows": null,
      "grid_column": null,
      "grid_gap": null,
      "grid_row": null,
      "grid_template_areas": null,
      "grid_template_columns": null,
      "grid_template_rows": null,
      "height": null,
      "justify_content": null,
      "justify_items": null,
      "left": null,
      "margin": null,
      "max_height": null,
      "max_width": null,
      "min_height": null,
      "min_width": null,
      "object_fit": null,
      "object_position": null,
      "order": null,
      "overflow": null,
      "overflow_x": null,
      "overflow_y": null,
      "padding": null,
      "right": null,
      "top": null,
      "visibility": null,
      "width": null
     }
    },
    "e9581c3737704f558f5fa80dbab95a0d": {
     "model_module": "@jupyter-widgets/base",
     "model_module_version": "1.2.0",
     "model_name": "LayoutModel",
     "state": {
      "_model_module": "@jupyter-widgets/base",
      "_model_module_version": "1.2.0",
      "_model_name": "LayoutModel",
      "_view_count": null,
      "_view_module": "@jupyter-widgets/base",
      "_view_module_version": "1.2.0",
      "_view_name": "LayoutView",
      "align_content": null,
      "align_items": null,
      "align_self": null,
      "border": null,
      "bottom": null,
      "display": null,
      "flex": null,
      "flex_flow": null,
      "grid_area": null,
      "grid_auto_columns": null,
      "grid_auto_flow": null,
      "grid_auto_rows": null,
      "grid_column": null,
      "grid_gap": null,
      "grid_row": null,
      "grid_template_areas": null,
      "grid_template_columns": null,
      "grid_template_rows": null,
      "height": null,
      "justify_content": null,
      "justify_items": null,
      "left": null,
      "margin": null,
      "max_height": null,
      "max_width": null,
      "min_height": null,
      "min_width": null,
      "object_fit": null,
      "object_position": null,
      "order": null,
      "overflow": null,
      "overflow_x": null,
      "overflow_y": null,
      "padding": null,
      "right": null,
      "top": null,
      "visibility": null,
      "width": null
     }
    },
    "eaaf2529c1fc48c1acc4000e8590898e": {
     "model_module": "@jupyter-widgets/controls",
     "model_module_version": "1.5.0",
     "model_name": "HTMLModel",
     "state": {
      "_dom_classes": [],
      "_model_module": "@jupyter-widgets/controls",
      "_model_module_version": "1.5.0",
      "_model_name": "HTMLModel",
      "_view_count": null,
      "_view_module": "@jupyter-widgets/controls",
      "_view_module_version": "1.5.0",
      "_view_name": "HTMLView",
      "description": "",
      "description_tooltip": null,
      "layout": "IPY_MODEL_5aca82c695ae4533b099977da47e0739",
      "placeholder": "​",
      "style": "IPY_MODEL_7aa7e757197e4f5d8b41153525cb53a2",
      "value": "special_tokens_map.json: 100%"
     }
    },
    "ed1e32ec82634a5ea9e0454ff12ca0f1": {
     "model_module": "@jupyter-widgets/controls",
     "model_module_version": "1.5.0",
     "model_name": "FloatProgressModel",
     "state": {
      "_dom_classes": [],
      "_model_module": "@jupyter-widgets/controls",
      "_model_module_version": "1.5.0",
      "_model_name": "FloatProgressModel",
      "_view_count": null,
      "_view_module": "@jupyter-widgets/controls",
      "_view_module_version": "1.5.0",
      "_view_name": "ProgressView",
      "bar_style": "success",
      "description": "",
      "description_tooltip": null,
      "layout": "IPY_MODEL_f3de21e9a286472fb40d1f993f319bd3",
      "max": 350,
      "min": 0,
      "orientation": "horizontal",
      "style": "IPY_MODEL_8177de03ef81476f9af9fef4e51f4337",
      "value": 350
     }
    },
    "ef02f2137e5c4ebca444dcf377ee8ae6": {
     "model_module": "@jupyter-widgets/base",
     "model_module_version": "1.2.0",
     "model_name": "LayoutModel",
     "state": {
      "_model_module": "@jupyter-widgets/base",
      "_model_module_version": "1.2.0",
      "_model_name": "LayoutModel",
      "_view_count": null,
      "_view_module": "@jupyter-widgets/base",
      "_view_module_version": "1.2.0",
      "_view_name": "LayoutView",
      "align_content": null,
      "align_items": null,
      "align_self": null,
      "border": null,
      "bottom": null,
      "display": null,
      "flex": null,
      "flex_flow": null,
      "grid_area": null,
      "grid_auto_columns": null,
      "grid_auto_flow": null,
      "grid_auto_rows": null,
      "grid_column": null,
      "grid_gap": null,
      "grid_row": null,
      "grid_template_areas": null,
      "grid_template_columns": null,
      "grid_template_rows": null,
      "height": null,
      "justify_content": null,
      "justify_items": null,
      "left": null,
      "margin": null,
      "max_height": null,
      "max_width": null,
      "min_height": null,
      "min_width": null,
      "object_fit": null,
      "object_position": null,
      "order": null,
      "overflow": null,
      "overflow_x": null,
      "overflow_y": null,
      "padding": null,
      "right": null,
      "top": null,
      "visibility": null,
      "width": null
     }
    },
    "f3de21e9a286472fb40d1f993f319bd3": {
     "model_module": "@jupyter-widgets/base",
     "model_module_version": "1.2.0",
     "model_name": "LayoutModel",
     "state": {
      "_model_module": "@jupyter-widgets/base",
      "_model_module_version": "1.2.0",
      "_model_name": "LayoutModel",
      "_view_count": null,
      "_view_module": "@jupyter-widgets/base",
      "_view_module_version": "1.2.0",
      "_view_name": "LayoutView",
      "align_content": null,
      "align_items": null,
      "align_self": null,
      "border": null,
      "bottom": null,
      "display": null,
      "flex": null,
      "flex_flow": null,
      "grid_area": null,
      "grid_auto_columns": null,
      "grid_auto_flow": null,
      "grid_auto_rows": null,
      "grid_column": null,
      "grid_gap": null,
      "grid_row": null,
      "grid_template_areas": null,
      "grid_template_columns": null,
      "grid_template_rows": null,
      "height": null,
      "justify_content": null,
      "justify_items": null,
      "left": null,
      "margin": null,
      "max_height": null,
      "max_width": null,
      "min_height": null,
      "min_width": null,
      "object_fit": null,
      "object_position": null,
      "order": null,
      "overflow": null,
      "overflow_x": null,
      "overflow_y": null,
      "padding": null,
      "right": null,
      "top": null,
      "visibility": null,
      "width": null
     }
    },
    "f9140fbd127f4ddb905dbfd794ee2c7c": {
     "model_module": "@jupyter-widgets/controls",
     "model_module_version": "1.5.0",
     "model_name": "HBoxModel",
     "state": {
      "_dom_classes": [],
      "_model_module": "@jupyter-widgets/controls",
      "_model_module_version": "1.5.0",
      "_model_name": "HBoxModel",
      "_view_count": null,
      "_view_module": "@jupyter-widgets/controls",
      "_view_module_version": "1.5.0",
      "_view_name": "HBoxView",
      "box_style": "",
      "children": [
       "IPY_MODEL_969cefa0985046c494d27d5fad1726dd",
       "IPY_MODEL_19eff1e2a9a54427aebcff36887cd7b6",
       "IPY_MODEL_1aefc3b0fbda475188e4b730398e2a35"
      ],
      "layout": "IPY_MODEL_ef02f2137e5c4ebca444dcf377ee8ae6"
     }
    },
    "state": {}
   }
  }
 },
 "nbformat": 4,
 "nbformat_minor": 0
}
