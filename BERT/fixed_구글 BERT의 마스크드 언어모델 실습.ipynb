{
  "nbformat": 4,
  "nbformat_minor": 0,
  "metadata": {
    "colab": {
      "provenance": [],
      "authorship_tag": "ABX9TyNZMES/8JHR+BzXduXaRpmp"
    },
    "kernelspec": {
      "name": "python3",
      "display_name": "Python 3"
    },
    "language_info": {
      "name": "python"
    },
    "widgets": {
      "application/vnd.jupyter.widget-state+json": {
        "ba6a2d43ca004a93b88a26563b61a5ef": {
          "model_module": "@jupyter-widgets/controls",
          "model_name": "HBoxModel",
          "model_module_version": "1.5.0",
          "state": {
            "_dom_classes": [],
            "_model_module": "@jupyter-widgets/controls",
            "_model_module_version": "1.5.0",
            "_model_name": "HBoxModel",
            "_view_count": null,
            "_view_module": "@jupyter-widgets/controls",
            "_view_module_version": "1.5.0",
            "_view_name": "HBoxView",
            "box_style": "",
            "children": [
              "IPY_MODEL_0026e6fdcf9c4ea0b480775bdcd9994b",
              "IPY_MODEL_0ebf59fb774843f483ffe9271ef853df",
              "IPY_MODEL_c5a4a694b8f841909a4f02bd23532d8f"
            ],
            "layout": "IPY_MODEL_60b8173a9990405e97b1b8d4dbdb4adc"
          }
        },
        "0026e6fdcf9c4ea0b480775bdcd9994b": {
          "model_module": "@jupyter-widgets/controls",
          "model_name": "HTMLModel",
          "model_module_version": "1.5.0",
          "state": {
            "_dom_classes": [],
            "_model_module": "@jupyter-widgets/controls",
            "_model_module_version": "1.5.0",
            "_model_name": "HTMLModel",
            "_view_count": null,
            "_view_module": "@jupyter-widgets/controls",
            "_view_module_version": "1.5.0",
            "_view_name": "HTMLView",
            "description": "",
            "description_tooltip": null,
            "layout": "IPY_MODEL_a273b778bcf74eb0a2d0fd53bef3428d",
            "placeholder": "\u200b",
            "style": "IPY_MODEL_5b217ba6797b4ccfbb38eb48f111943e",
            "value": "config.json:\u2007100%"
          }
        },
        "0ebf59fb774843f483ffe9271ef853df": {
          "model_module": "@jupyter-widgets/controls",
          "model_name": "FloatProgressModel",
          "model_module_version": "1.5.0",
          "state": {
            "_dom_classes": [],
            "_model_module": "@jupyter-widgets/controls",
            "_model_module_version": "1.5.0",
            "_model_name": "FloatProgressModel",
            "_view_count": null,
            "_view_module": "@jupyter-widgets/controls",
            "_view_module_version": "1.5.0",
            "_view_name": "ProgressView",
            "bar_style": "success",
            "description": "",
            "description_tooltip": null,
            "layout": "IPY_MODEL_39587fd6da054433a0551d498732eb1a",
            "max": 571,
            "min": 0,
            "orientation": "horizontal",
            "style": "IPY_MODEL_e86a7b0ab6d34726b87f684182207072",
            "value": 571
          }
        },
        "c5a4a694b8f841909a4f02bd23532d8f": {
          "model_module": "@jupyter-widgets/controls",
          "model_name": "HTMLModel",
          "model_module_version": "1.5.0",
          "state": {
            "_dom_classes": [],
            "_model_module": "@jupyter-widgets/controls",
            "_model_module_version": "1.5.0",
            "_model_name": "HTMLModel",
            "_view_count": null,
            "_view_module": "@jupyter-widgets/controls",
            "_view_module_version": "1.5.0",
            "_view_name": "HTMLView",
            "description": "",
            "description_tooltip": null,
            "layout": "IPY_MODEL_3f721470596140b28959d95aad395f9f",
            "placeholder": "\u200b",
            "style": "IPY_MODEL_138c5c5310b646bfbdb0ba7ae63376a3",
            "value": "\u2007571/571\u2007[00:00&lt;00:00,\u200726.5kB/s]"
          }
        },
        "60b8173a9990405e97b1b8d4dbdb4adc": {
          "model_module": "@jupyter-widgets/base",
          "model_name": "LayoutModel",
          "model_module_version": "1.2.0",
          "state": {
            "_model_module": "@jupyter-widgets/base",
            "_model_module_version": "1.2.0",
            "_model_name": "LayoutModel",
            "_view_count": null,
            "_view_module": "@jupyter-widgets/base",
            "_view_module_version": "1.2.0",
            "_view_name": "LayoutView",
            "align_content": null,
            "align_items": null,
            "align_self": null,
            "border": null,
            "bottom": null,
            "display": null,
            "flex": null,
            "flex_flow": null,
            "grid_area": null,
            "grid_auto_columns": null,
            "grid_auto_flow": null,
            "grid_auto_rows": null,
            "grid_column": null,
            "grid_gap": null,
            "grid_row": null,
            "grid_template_areas": null,
            "grid_template_columns": null,
            "grid_template_rows": null,
            "height": null,
            "justify_content": null,
            "justify_items": null,
            "left": null,
            "margin": null,
            "max_height": null,
            "max_width": null,
            "min_height": null,
            "min_width": null,
            "object_fit": null,
            "object_position": null,
            "order": null,
            "overflow": null,
            "overflow_x": null,
            "overflow_y": null,
            "padding": null,
            "right": null,
            "top": null,
            "visibility": null,
            "width": null
          }
        },
        "a273b778bcf74eb0a2d0fd53bef3428d": {
          "model_module": "@jupyter-widgets/base",
          "model_name": "LayoutModel",
          "model_module_version": "1.2.0",
          "state": {
            "_model_module": "@jupyter-widgets/base",
            "_model_module_version": "1.2.0",
            "_model_name": "LayoutModel",
            "_view_count": null,
            "_view_module": "@jupyter-widgets/base",
            "_view_module_version": "1.2.0",
            "_view_name": "LayoutView",
            "align_content": null,
            "align_items": null,
            "align_self": null,
            "border": null,
            "bottom": null,
            "display": null,
            "flex": null,
            "flex_flow": null,
            "grid_area": null,
            "grid_auto_columns": null,
            "grid_auto_flow": null,
            "grid_auto_rows": null,
            "grid_column": null,
            "grid_gap": null,
            "grid_row": null,
            "grid_template_areas": null,
            "grid_template_columns": null,
            "grid_template_rows": null,
            "height": null,
            "justify_content": null,
            "justify_items": null,
            "left": null,
            "margin": null,
            "max_height": null,
            "max_width": null,
            "min_height": null,
            "min_width": null,
            "object_fit": null,
            "object_position": null,
            "order": null,
            "overflow": null,
            "overflow_x": null,
            "overflow_y": null,
            "padding": null,
            "right": null,
            "top": null,
            "visibility": null,
            "width": null
          }
        },
        "5b217ba6797b4ccfbb38eb48f111943e": {
          "model_module": "@jupyter-widgets/controls",
          "model_name": "DescriptionStyleModel",
          "model_module_version": "1.5.0",
          "state": {
            "_model_module": "@jupyter-widgets/controls",
            "_model_module_version": "1.5.0",
            "_model_name": "DescriptionStyleModel",
            "_view_count": null,
            "_view_module": "@jupyter-widgets/base",
            "_view_module_version": "1.2.0",
            "_view_name": "StyleView",
            "description_width": ""
          }
        },
        "39587fd6da054433a0551d498732eb1a": {
          "model_module": "@jupyter-widgets/base",
          "model_name": "LayoutModel",
          "model_module_version": "1.2.0",
          "state": {
            "_model_module": "@jupyter-widgets/base",
            "_model_module_version": "1.2.0",
            "_model_name": "LayoutModel",
            "_view_count": null,
            "_view_module": "@jupyter-widgets/base",
            "_view_module_version": "1.2.0",
            "_view_name": "LayoutView",
            "align_content": null,
            "align_items": null,
            "align_self": null,
            "border": null,
            "bottom": null,
            "display": null,
            "flex": null,
            "flex_flow": null,
            "grid_area": null,
            "grid_auto_columns": null,
            "grid_auto_flow": null,
            "grid_auto_rows": null,
            "grid_column": null,
            "grid_gap": null,
            "grid_row": null,
            "grid_template_areas": null,
            "grid_template_columns": null,
            "grid_template_rows": null,
            "height": null,
            "justify_content": null,
            "justify_items": null,
            "left": null,
            "margin": null,
            "max_height": null,
            "max_width": null,
            "min_height": null,
            "min_width": null,
            "object_fit": null,
            "object_position": null,
            "order": null,
            "overflow": null,
            "overflow_x": null,
            "overflow_y": null,
            "padding": null,
            "right": null,
            "top": null,
            "visibility": null,
            "width": null
          }
        },
        "e86a7b0ab6d34726b87f684182207072": {
          "model_module": "@jupyter-widgets/controls",
          "model_name": "ProgressStyleModel",
          "model_module_version": "1.5.0",
          "state": {
            "_model_module": "@jupyter-widgets/controls",
            "_model_module_version": "1.5.0",
            "_model_name": "ProgressStyleModel",
            "_view_count": null,
            "_view_module": "@jupyter-widgets/base",
            "_view_module_version": "1.2.0",
            "_view_name": "StyleView",
            "bar_color": null,
            "description_width": ""
          }
        },
        "3f721470596140b28959d95aad395f9f": {
          "model_module": "@jupyter-widgets/base",
          "model_name": "LayoutModel",
          "model_module_version": "1.2.0",
          "state": {
            "_model_module": "@jupyter-widgets/base",
            "_model_module_version": "1.2.0",
            "_model_name": "LayoutModel",
            "_view_count": null,
            "_view_module": "@jupyter-widgets/base",
            "_view_module_version": "1.2.0",
            "_view_name": "LayoutView",
            "align_content": null,
            "align_items": null,
            "align_self": null,
            "border": null,
            "bottom": null,
            "display": null,
            "flex": null,
            "flex_flow": null,
            "grid_area": null,
            "grid_auto_columns": null,
            "grid_auto_flow": null,
            "grid_auto_rows": null,
            "grid_column": null,
            "grid_gap": null,
            "grid_row": null,
            "grid_template_areas": null,
            "grid_template_columns": null,
            "grid_template_rows": null,
            "height": null,
            "justify_content": null,
            "justify_items": null,
            "left": null,
            "margin": null,
            "max_height": null,
            "max_width": null,
            "min_height": null,
            "min_width": null,
            "object_fit": null,
            "object_position": null,
            "order": null,
            "overflow": null,
            "overflow_x": null,
            "overflow_y": null,
            "padding": null,
            "right": null,
            "top": null,
            "visibility": null,
            "width": null
          }
        },
        "138c5c5310b646bfbdb0ba7ae63376a3": {
          "model_module": "@jupyter-widgets/controls",
          "model_name": "DescriptionStyleModel",
          "model_module_version": "1.5.0",
          "state": {
            "_model_module": "@jupyter-widgets/controls",
            "_model_module_version": "1.5.0",
            "_model_name": "DescriptionStyleModel",
            "_view_count": null,
            "_view_module": "@jupyter-widgets/base",
            "_view_module_version": "1.2.0",
            "_view_name": "StyleView",
            "description_width": ""
          }
        },
        "8602aae1d3cc441bbaa704457c30521f": {
          "model_module": "@jupyter-widgets/controls",
          "model_name": "HBoxModel",
          "model_module_version": "1.5.0",
          "state": {
            "_dom_classes": [],
            "_model_module": "@jupyter-widgets/controls",
            "_model_module_version": "1.5.0",
            "_model_name": "HBoxModel",
            "_view_count": null,
            "_view_module": "@jupyter-widgets/controls",
            "_view_module_version": "1.5.0",
            "_view_name": "HBoxView",
            "box_style": "",
            "children": [
              "IPY_MODEL_09aae3f41076465dba3b4ec445765224",
              "IPY_MODEL_a5657048be654197ac4b364aaffcc94f",
              "IPY_MODEL_a6e97df1e3a241c0a19814403d343e2a"
            ],
            "layout": "IPY_MODEL_7aae10bfc4254556a226eaed457f02bf"
          }
        },
        "09aae3f41076465dba3b4ec445765224": {
          "model_module": "@jupyter-widgets/controls",
          "model_name": "HTMLModel",
          "model_module_version": "1.5.0",
          "state": {
            "_dom_classes": [],
            "_model_module": "@jupyter-widgets/controls",
            "_model_module_version": "1.5.0",
            "_model_name": "HTMLModel",
            "_view_count": null,
            "_view_module": "@jupyter-widgets/controls",
            "_view_module_version": "1.5.0",
            "_view_name": "HTMLView",
            "description": "",
            "description_tooltip": null,
            "layout": "IPY_MODEL_0449935afd224634936c1dd38335e972",
            "placeholder": "\u200b",
            "style": "IPY_MODEL_29dc5ffca2bf4929895a311ee1cf386b",
            "value": "model.safetensors:\u2007100%"
          }
        },
        "a5657048be654197ac4b364aaffcc94f": {
          "model_module": "@jupyter-widgets/controls",
          "model_name": "FloatProgressModel",
          "model_module_version": "1.5.0",
          "state": {
            "_dom_classes": [],
            "_model_module": "@jupyter-widgets/controls",
            "_model_module_version": "1.5.0",
            "_model_name": "FloatProgressModel",
            "_view_count": null,
            "_view_module": "@jupyter-widgets/controls",
            "_view_module_version": "1.5.0",
            "_view_name": "ProgressView",
            "bar_style": "success",
            "description": "",
            "description_tooltip": null,
            "layout": "IPY_MODEL_143c6c9681924fe09c94225892bfac24",
            "max": 1344951957,
            "min": 0,
            "orientation": "horizontal",
            "style": "IPY_MODEL_9e24252d2c68463e8221c43d7f183571",
            "value": 1344951957
          }
        },
        "a6e97df1e3a241c0a19814403d343e2a": {
          "model_module": "@jupyter-widgets/controls",
          "model_name": "HTMLModel",
          "model_module_version": "1.5.0",
          "state": {
            "_dom_classes": [],
            "_model_module": "@jupyter-widgets/controls",
            "_model_module_version": "1.5.0",
            "_model_name": "HTMLModel",
            "_view_count": null,
            "_view_module": "@jupyter-widgets/controls",
            "_view_module_version": "1.5.0",
            "_view_name": "HTMLView",
            "description": "",
            "description_tooltip": null,
            "layout": "IPY_MODEL_a79ece5817484df78b1103d1480bf3a5",
            "placeholder": "\u200b",
            "style": "IPY_MODEL_240426240a1344deb087badcccfc5246",
            "value": "\u20071.34G/1.34G\u2007[00:47&lt;00:00,\u200761.3MB/s]"
          }
        },
        "7aae10bfc4254556a226eaed457f02bf": {
          "model_module": "@jupyter-widgets/base",
          "model_name": "LayoutModel",
          "model_module_version": "1.2.0",
          "state": {
            "_model_module": "@jupyter-widgets/base",
            "_model_module_version": "1.2.0",
            "_model_name": "LayoutModel",
            "_view_count": null,
            "_view_module": "@jupyter-widgets/base",
            "_view_module_version": "1.2.0",
            "_view_name": "LayoutView",
            "align_content": null,
            "align_items": null,
            "align_self": null,
            "border": null,
            "bottom": null,
            "display": null,
            "flex": null,
            "flex_flow": null,
            "grid_area": null,
            "grid_auto_columns": null,
            "grid_auto_flow": null,
            "grid_auto_rows": null,
            "grid_column": null,
            "grid_gap": null,
            "grid_row": null,
            "grid_template_areas": null,
            "grid_template_columns": null,
            "grid_template_rows": null,
            "height": null,
            "justify_content": null,
            "justify_items": null,
            "left": null,
            "margin": null,
            "max_height": null,
            "max_width": null,
            "min_height": null,
            "min_width": null,
            "object_fit": null,
            "object_position": null,
            "order": null,
            "overflow": null,
            "overflow_x": null,
            "overflow_y": null,
            "padding": null,
            "right": null,
            "top": null,
            "visibility": null,
            "width": null
          }
        },
        "0449935afd224634936c1dd38335e972": {
          "model_module": "@jupyter-widgets/base",
          "model_name": "LayoutModel",
          "model_module_version": "1.2.0",
          "state": {
            "_model_module": "@jupyter-widgets/base",
            "_model_module_version": "1.2.0",
            "_model_name": "LayoutModel",
            "_view_count": null,
            "_view_module": "@jupyter-widgets/base",
            "_view_module_version": "1.2.0",
            "_view_name": "LayoutView",
            "align_content": null,
            "align_items": null,
            "align_self": null,
            "border": null,
            "bottom": null,
            "display": null,
            "flex": null,
            "flex_flow": null,
            "grid_area": null,
            "grid_auto_columns": null,
            "grid_auto_flow": null,
            "grid_auto_rows": null,
            "grid_column": null,
            "grid_gap": null,
            "grid_row": null,
            "grid_template_areas": null,
            "grid_template_columns": null,
            "grid_template_rows": null,
            "height": null,
            "justify_content": null,
            "justify_items": null,
            "left": null,
            "margin": null,
            "max_height": null,
            "max_width": null,
            "min_height": null,
            "min_width": null,
            "object_fit": null,
            "object_position": null,
            "order": null,
            "overflow": null,
            "overflow_x": null,
            "overflow_y": null,
            "padding": null,
            "right": null,
            "top": null,
            "visibility": null,
            "width": null
          }
        },
        "29dc5ffca2bf4929895a311ee1cf386b": {
          "model_module": "@jupyter-widgets/controls",
          "model_name": "DescriptionStyleModel",
          "model_module_version": "1.5.0",
          "state": {
            "_model_module": "@jupyter-widgets/controls",
            "_model_module_version": "1.5.0",
            "_model_name": "DescriptionStyleModel",
            "_view_count": null,
            "_view_module": "@jupyter-widgets/base",
            "_view_module_version": "1.2.0",
            "_view_name": "StyleView",
            "description_width": ""
          }
        },
        "143c6c9681924fe09c94225892bfac24": {
          "model_module": "@jupyter-widgets/base",
          "model_name": "LayoutModel",
          "model_module_version": "1.2.0",
          "state": {
            "_model_module": "@jupyter-widgets/base",
            "_model_module_version": "1.2.0",
            "_model_name": "LayoutModel",
            "_view_count": null,
            "_view_module": "@jupyter-widgets/base",
            "_view_module_version": "1.2.0",
            "_view_name": "LayoutView",
            "align_content": null,
            "align_items": null,
            "align_self": null,
            "border": null,
            "bottom": null,
            "display": null,
            "flex": null,
            "flex_flow": null,
            "grid_area": null,
            "grid_auto_columns": null,
            "grid_auto_flow": null,
            "grid_auto_rows": null,
            "grid_column": null,
            "grid_gap": null,
            "grid_row": null,
            "grid_template_areas": null,
            "grid_template_columns": null,
            "grid_template_rows": null,
            "height": null,
            "justify_content": null,
            "justify_items": null,
            "left": null,
            "margin": null,
            "max_height": null,
            "max_width": null,
            "min_height": null,
            "min_width": null,
            "object_fit": null,
            "object_position": null,
            "order": null,
            "overflow": null,
            "overflow_x": null,
            "overflow_y": null,
            "padding": null,
            "right": null,
            "top": null,
            "visibility": null,
            "width": null
          }
        },
        "9e24252d2c68463e8221c43d7f183571": {
          "model_module": "@jupyter-widgets/controls",
          "model_name": "ProgressStyleModel",
          "model_module_version": "1.5.0",
          "state": {
            "_model_module": "@jupyter-widgets/controls",
            "_model_module_version": "1.5.0",
            "_model_name": "ProgressStyleModel",
            "_view_count": null,
            "_view_module": "@jupyter-widgets/base",
            "_view_module_version": "1.2.0",
            "_view_name": "StyleView",
            "bar_color": null,
            "description_width": ""
          }
        },
        "a79ece5817484df78b1103d1480bf3a5": {
          "model_module": "@jupyter-widgets/base",
          "model_name": "LayoutModel",
          "model_module_version": "1.2.0",
          "state": {
            "_model_module": "@jupyter-widgets/base",
            "_model_module_version": "1.2.0",
            "_model_name": "LayoutModel",
            "_view_count": null,
            "_view_module": "@jupyter-widgets/base",
            "_view_module_version": "1.2.0",
            "_view_name": "LayoutView",
            "align_content": null,
            "align_items": null,
            "align_self": null,
            "border": null,
            "bottom": null,
            "display": null,
            "flex": null,
            "flex_flow": null,
            "grid_area": null,
            "grid_auto_columns": null,
            "grid_auto_flow": null,
            "grid_auto_rows": null,
            "grid_column": null,
            "grid_gap": null,
            "grid_row": null,
            "grid_template_areas": null,
            "grid_template_columns": null,
            "grid_template_rows": null,
            "height": null,
            "justify_content": null,
            "justify_items": null,
            "left": null,
            "margin": null,
            "max_height": null,
            "max_width": null,
            "min_height": null,
            "min_width": null,
            "object_fit": null,
            "object_position": null,
            "order": null,
            "overflow": null,
            "overflow_x": null,
            "overflow_y": null,
            "padding": null,
            "right": null,
            "top": null,
            "visibility": null,
            "width": null
          }
        },
        "240426240a1344deb087badcccfc5246": {
          "model_module": "@jupyter-widgets/controls",
          "model_name": "DescriptionStyleModel",
          "model_module_version": "1.5.0",
          "state": {
            "_model_module": "@jupyter-widgets/controls",
            "_model_module_version": "1.5.0",
            "_model_name": "DescriptionStyleModel",
            "_view_count": null,
            "_view_module": "@jupyter-widgets/base",
            "_view_module_version": "1.2.0",
            "_view_name": "StyleView",
            "description_width": ""
          }
        },
        "547f5891eaa449a89b1ece6788491899": {
          "model_module": "@jupyter-widgets/controls",
          "model_name": "HBoxModel",
          "model_module_version": "1.5.0",
          "state": {
            "_dom_classes": [],
            "_model_module": "@jupyter-widgets/controls",
            "_model_module_version": "1.5.0",
            "_model_name": "HBoxModel",
            "_view_count": null,
            "_view_module": "@jupyter-widgets/controls",
            "_view_module_version": "1.5.0",
            "_view_name": "HBoxView",
            "box_style": "",
            "children": [
              "IPY_MODEL_b63c9141ef364125b01a5743589bf850",
              "IPY_MODEL_e167a112d3a143a38c9b847321ae1fbf",
              "IPY_MODEL_36861ddc8dfe4977865d42c85a1afa40"
            ],
            "layout": "IPY_MODEL_073a8ce2d5574cc99236001c3e6d3cfc"
          }
        },
        "b63c9141ef364125b01a5743589bf850": {
          "model_module": "@jupyter-widgets/controls",
          "model_name": "HTMLModel",
          "model_module_version": "1.5.0",
          "state": {
            "_dom_classes": [],
            "_model_module": "@jupyter-widgets/controls",
            "_model_module_version": "1.5.0",
            "_model_name": "HTMLModel",
            "_view_count": null,
            "_view_module": "@jupyter-widgets/controls",
            "_view_module_version": "1.5.0",
            "_view_name": "HTMLView",
            "description": "",
            "description_tooltip": null,
            "layout": "IPY_MODEL_ed4f3d9554b041798c4bb277ae4e6edc",
            "placeholder": "\u200b",
            "style": "IPY_MODEL_c8b867b06b3c41ba9b6812dc34a1b170",
            "value": "tokenizer_config.json:\u2007100%"
          }
        },
        "e167a112d3a143a38c9b847321ae1fbf": {
          "model_module": "@jupyter-widgets/controls",
          "model_name": "FloatProgressModel",
          "model_module_version": "1.5.0",
          "state": {
            "_dom_classes": [],
            "_model_module": "@jupyter-widgets/controls",
            "_model_module_version": "1.5.0",
            "_model_name": "FloatProgressModel",
            "_view_count": null,
            "_view_module": "@jupyter-widgets/controls",
            "_view_module_version": "1.5.0",
            "_view_name": "ProgressView",
            "bar_style": "success",
            "description": "",
            "description_tooltip": null,
            "layout": "IPY_MODEL_52cfafe54cf748858ef6c751332e74b5",
            "max": 48,
            "min": 0,
            "orientation": "horizontal",
            "style": "IPY_MODEL_126632eeba2c409db12b2b208ab3fbb1",
            "value": 48
          }
        },
        "36861ddc8dfe4977865d42c85a1afa40": {
          "model_module": "@jupyter-widgets/controls",
          "model_name": "HTMLModel",
          "model_module_version": "1.5.0",
          "state": {
            "_dom_classes": [],
            "_model_module": "@jupyter-widgets/controls",
            "_model_module_version": "1.5.0",
            "_model_name": "HTMLModel",
            "_view_count": null,
            "_view_module": "@jupyter-widgets/controls",
            "_view_module_version": "1.5.0",
            "_view_name": "HTMLView",
            "description": "",
            "description_tooltip": null,
            "layout": "IPY_MODEL_60a65ce7dbe54c8e8580e22c002fc801",
            "placeholder": "\u200b",
            "style": "IPY_MODEL_fc9fd646de0f44588fee2709ac839819",
            "value": "\u200748.0/48.0\u2007[00:00&lt;00:00,\u20071.23kB/s]"
          }
        },
        "073a8ce2d5574cc99236001c3e6d3cfc": {
          "model_module": "@jupyter-widgets/base",
          "model_name": "LayoutModel",
          "model_module_version": "1.2.0",
          "state": {
            "_model_module": "@jupyter-widgets/base",
            "_model_module_version": "1.2.0",
            "_model_name": "LayoutModel",
            "_view_count": null,
            "_view_module": "@jupyter-widgets/base",
            "_view_module_version": "1.2.0",
            "_view_name": "LayoutView",
            "align_content": null,
            "align_items": null,
            "align_self": null,
            "border": null,
            "bottom": null,
            "display": null,
            "flex": null,
            "flex_flow": null,
            "grid_area": null,
            "grid_auto_columns": null,
            "grid_auto_flow": null,
            "grid_auto_rows": null,
            "grid_column": null,
            "grid_gap": null,
            "grid_row": null,
            "grid_template_areas": null,
            "grid_template_columns": null,
            "grid_template_rows": null,
            "height": null,
            "justify_content": null,
            "justify_items": null,
            "left": null,
            "margin": null,
            "max_height": null,
            "max_width": null,
            "min_height": null,
            "min_width": null,
            "object_fit": null,
            "object_position": null,
            "order": null,
            "overflow": null,
            "overflow_x": null,
            "overflow_y": null,
            "padding": null,
            "right": null,
            "top": null,
            "visibility": null,
            "width": null
          }
        },
        "ed4f3d9554b041798c4bb277ae4e6edc": {
          "model_module": "@jupyter-widgets/base",
          "model_name": "LayoutModel",
          "model_module_version": "1.2.0",
          "state": {
            "_model_module": "@jupyter-widgets/base",
            "_model_module_version": "1.2.0",
            "_model_name": "LayoutModel",
            "_view_count": null,
            "_view_module": "@jupyter-widgets/base",
            "_view_module_version": "1.2.0",
            "_view_name": "LayoutView",
            "align_content": null,
            "align_items": null,
            "align_self": null,
            "border": null,
            "bottom": null,
            "display": null,
            "flex": null,
            "flex_flow": null,
            "grid_area": null,
            "grid_auto_columns": null,
            "grid_auto_flow": null,
            "grid_auto_rows": null,
            "grid_column": null,
            "grid_gap": null,
            "grid_row": null,
            "grid_template_areas": null,
            "grid_template_columns": null,
            "grid_template_rows": null,
            "height": null,
            "justify_content": null,
            "justify_items": null,
            "left": null,
            "margin": null,
            "max_height": null,
            "max_width": null,
            "min_height": null,
            "min_width": null,
            "object_fit": null,
            "object_position": null,
            "order": null,
            "overflow": null,
            "overflow_x": null,
            "overflow_y": null,
            "padding": null,
            "right": null,
            "top": null,
            "visibility": null,
            "width": null
          }
        },
        "c8b867b06b3c41ba9b6812dc34a1b170": {
          "model_module": "@jupyter-widgets/controls",
          "model_name": "DescriptionStyleModel",
          "model_module_version": "1.5.0",
          "state": {
            "_model_module": "@jupyter-widgets/controls",
            "_model_module_version": "1.5.0",
            "_model_name": "DescriptionStyleModel",
            "_view_count": null,
            "_view_module": "@jupyter-widgets/base",
            "_view_module_version": "1.2.0",
            "_view_name": "StyleView",
            "description_width": ""
          }
        },
        "52cfafe54cf748858ef6c751332e74b5": {
          "model_module": "@jupyter-widgets/base",
          "model_name": "LayoutModel",
          "model_module_version": "1.2.0",
          "state": {
            "_model_module": "@jupyter-widgets/base",
            "_model_module_version": "1.2.0",
            "_model_name": "LayoutModel",
            "_view_count": null,
            "_view_module": "@jupyter-widgets/base",
            "_view_module_version": "1.2.0",
            "_view_name": "LayoutView",
            "align_content": null,
            "align_items": null,
            "align_self": null,
            "border": null,
            "bottom": null,
            "display": null,
            "flex": null,
            "flex_flow": null,
            "grid_area": null,
            "grid_auto_columns": null,
            "grid_auto_flow": null,
            "grid_auto_rows": null,
            "grid_column": null,
            "grid_gap": null,
            "grid_row": null,
            "grid_template_areas": null,
            "grid_template_columns": null,
            "grid_template_rows": null,
            "height": null,
            "justify_content": null,
            "justify_items": null,
            "left": null,
            "margin": null,
            "max_height": null,
            "max_width": null,
            "min_height": null,
            "min_width": null,
            "object_fit": null,
            "object_position": null,
            "order": null,
            "overflow": null,
            "overflow_x": null,
            "overflow_y": null,
            "padding": null,
            "right": null,
            "top": null,
            "visibility": null,
            "width": null
          }
        },
        "126632eeba2c409db12b2b208ab3fbb1": {
          "model_module": "@jupyter-widgets/controls",
          "model_name": "ProgressStyleModel",
          "model_module_version": "1.5.0",
          "state": {
            "_model_module": "@jupyter-widgets/controls",
            "_model_module_version": "1.5.0",
            "_model_name": "ProgressStyleModel",
            "_view_count": null,
            "_view_module": "@jupyter-widgets/base",
            "_view_module_version": "1.2.0",
            "_view_name": "StyleView",
            "bar_color": null,
            "description_width": ""
          }
        },
        "60a65ce7dbe54c8e8580e22c002fc801": {
          "model_module": "@jupyter-widgets/base",
          "model_name": "LayoutModel",
          "model_module_version": "1.2.0",
          "state": {
            "_model_module": "@jupyter-widgets/base",
            "_model_module_version": "1.2.0",
            "_model_name": "LayoutModel",
            "_view_count": null,
            "_view_module": "@jupyter-widgets/base",
            "_view_module_version": "1.2.0",
            "_view_name": "LayoutView",
            "align_content": null,
            "align_items": null,
            "align_self": null,
            "border": null,
            "bottom": null,
            "display": null,
            "flex": null,
            "flex_flow": null,
            "grid_area": null,
            "grid_auto_columns": null,
            "grid_auto_flow": null,
            "grid_auto_rows": null,
            "grid_column": null,
            "grid_gap": null,
            "grid_row": null,
            "grid_template_areas": null,
            "grid_template_columns": null,
            "grid_template_rows": null,
            "height": null,
            "justify_content": null,
            "justify_items": null,
            "left": null,
            "margin": null,
            "max_height": null,
            "max_width": null,
            "min_height": null,
            "min_width": null,
            "object_fit": null,
            "object_position": null,
            "order": null,
            "overflow": null,
            "overflow_x": null,
            "overflow_y": null,
            "padding": null,
            "right": null,
            "top": null,
            "visibility": null,
            "width": null
          }
        },
        "fc9fd646de0f44588fee2709ac839819": {
          "model_module": "@jupyter-widgets/controls",
          "model_name": "DescriptionStyleModel",
          "model_module_version": "1.5.0",
          "state": {
            "_model_module": "@jupyter-widgets/controls",
            "_model_module_version": "1.5.0",
            "_model_name": "DescriptionStyleModel",
            "_view_count": null,
            "_view_module": "@jupyter-widgets/base",
            "_view_module_version": "1.2.0",
            "_view_name": "StyleView",
            "description_width": ""
          }
        },
        "f764e189c9fc45469778462259c490f0": {
          "model_module": "@jupyter-widgets/controls",
          "model_name": "HBoxModel",
          "model_module_version": "1.5.0",
          "state": {
            "_dom_classes": [],
            "_model_module": "@jupyter-widgets/controls",
            "_model_module_version": "1.5.0",
            "_model_name": "HBoxModel",
            "_view_count": null,
            "_view_module": "@jupyter-widgets/controls",
            "_view_module_version": "1.5.0",
            "_view_name": "HBoxView",
            "box_style": "",
            "children": [
              "IPY_MODEL_cd498b4df1cf4697904ae92efeeff7be",
              "IPY_MODEL_53043a9b937f4f34a544a338c0ff49b6",
              "IPY_MODEL_bcea5462d57b4bb6a72597f4216d264d"
            ],
            "layout": "IPY_MODEL_5d989505f496442dba430cc1a85c1e35"
          }
        },
        "cd498b4df1cf4697904ae92efeeff7be": {
          "model_module": "@jupyter-widgets/controls",
          "model_name": "HTMLModel",
          "model_module_version": "1.5.0",
          "state": {
            "_dom_classes": [],
            "_model_module": "@jupyter-widgets/controls",
            "_model_module_version": "1.5.0",
            "_model_name": "HTMLModel",
            "_view_count": null,
            "_view_module": "@jupyter-widgets/controls",
            "_view_module_version": "1.5.0",
            "_view_name": "HTMLView",
            "description": "",
            "description_tooltip": null,
            "layout": "IPY_MODEL_8893008b487a448fa1575471dc109280",
            "placeholder": "\u200b",
            "style": "IPY_MODEL_1344b3c89e744b069593fddc2066245b",
            "value": "vocab.txt:\u2007100%"
          }
        },
        "53043a9b937f4f34a544a338c0ff49b6": {
          "model_module": "@jupyter-widgets/controls",
          "model_name": "FloatProgressModel",
          "model_module_version": "1.5.0",
          "state": {
            "_dom_classes": [],
            "_model_module": "@jupyter-widgets/controls",
            "_model_module_version": "1.5.0",
            "_model_name": "FloatProgressModel",
            "_view_count": null,
            "_view_module": "@jupyter-widgets/controls",
            "_view_module_version": "1.5.0",
            "_view_name": "ProgressView",
            "bar_style": "success",
            "description": "",
            "description_tooltip": null,
            "layout": "IPY_MODEL_ce75a27701fa43a8a90007f9bd2514ed",
            "max": 231508,
            "min": 0,
            "orientation": "horizontal",
            "style": "IPY_MODEL_e23cacf050584072934f3f1a0be22c27",
            "value": 231508
          }
        },
        "bcea5462d57b4bb6a72597f4216d264d": {
          "model_module": "@jupyter-widgets/controls",
          "model_name": "HTMLModel",
          "model_module_version": "1.5.0",
          "state": {
            "_dom_classes": [],
            "_model_module": "@jupyter-widgets/controls",
            "_model_module_version": "1.5.0",
            "_model_name": "HTMLModel",
            "_view_count": null,
            "_view_module": "@jupyter-widgets/controls",
            "_view_module_version": "1.5.0",
            "_view_name": "HTMLView",
            "description": "",
            "description_tooltip": null,
            "layout": "IPY_MODEL_4e191bc0b4824f719fa56096b40d4822",
            "placeholder": "\u200b",
            "style": "IPY_MODEL_99bab4aaab644c008383a806f7cf4d36",
            "value": "\u2007232k/232k\u2007[00:00&lt;00:00,\u20072.98MB/s]"
          }
        },
        "5d989505f496442dba430cc1a85c1e35": {
          "model_module": "@jupyter-widgets/base",
          "model_name": "LayoutModel",
          "model_module_version": "1.2.0",
          "state": {
            "_model_module": "@jupyter-widgets/base",
            "_model_module_version": "1.2.0",
            "_model_name": "LayoutModel",
            "_view_count": null,
            "_view_module": "@jupyter-widgets/base",
            "_view_module_version": "1.2.0",
            "_view_name": "LayoutView",
            "align_content": null,
            "align_items": null,
            "align_self": null,
            "border": null,
            "bottom": null,
            "display": null,
            "flex": null,
            "flex_flow": null,
            "grid_area": null,
            "grid_auto_columns": null,
            "grid_auto_flow": null,
            "grid_auto_rows": null,
            "grid_column": null,
            "grid_gap": null,
            "grid_row": null,
            "grid_template_areas": null,
            "grid_template_columns": null,
            "grid_template_rows": null,
            "height": null,
            "justify_content": null,
            "justify_items": null,
            "left": null,
            "margin": null,
            "max_height": null,
            "max_width": null,
            "min_height": null,
            "min_width": null,
            "object_fit": null,
            "object_position": null,
            "order": null,
            "overflow": null,
            "overflow_x": null,
            "overflow_y": null,
            "padding": null,
            "right": null,
            "top": null,
            "visibility": null,
            "width": null
          }
        },
        "8893008b487a448fa1575471dc109280": {
          "model_module": "@jupyter-widgets/base",
          "model_name": "LayoutModel",
          "model_module_version": "1.2.0",
          "state": {
            "_model_module": "@jupyter-widgets/base",
            "_model_module_version": "1.2.0",
            "_model_name": "LayoutModel",
            "_view_count": null,
            "_view_module": "@jupyter-widgets/base",
            "_view_module_version": "1.2.0",
            "_view_name": "LayoutView",
            "align_content": null,
            "align_items": null,
            "align_self": null,
            "border": null,
            "bottom": null,
            "display": null,
            "flex": null,
            "flex_flow": null,
            "grid_area": null,
            "grid_auto_columns": null,
            "grid_auto_flow": null,
            "grid_auto_rows": null,
            "grid_column": null,
            "grid_gap": null,
            "grid_row": null,
            "grid_template_areas": null,
            "grid_template_columns": null,
            "grid_template_rows": null,
            "height": null,
            "justify_content": null,
            "justify_items": null,
            "left": null,
            "margin": null,
            "max_height": null,
            "max_width": null,
            "min_height": null,
            "min_width": null,
            "object_fit": null,
            "object_position": null,
            "order": null,
            "overflow": null,
            "overflow_x": null,
            "overflow_y": null,
            "padding": null,
            "right": null,
            "top": null,
            "visibility": null,
            "width": null
          }
        },
        "1344b3c89e744b069593fddc2066245b": {
          "model_module": "@jupyter-widgets/controls",
          "model_name": "DescriptionStyleModel",
          "model_module_version": "1.5.0",
          "state": {
            "_model_module": "@jupyter-widgets/controls",
            "_model_module_version": "1.5.0",
            "_model_name": "DescriptionStyleModel",
            "_view_count": null,
            "_view_module": "@jupyter-widgets/base",
            "_view_module_version": "1.2.0",
            "_view_name": "StyleView",
            "description_width": ""
          }
        },
        "ce75a27701fa43a8a90007f9bd2514ed": {
          "model_module": "@jupyter-widgets/base",
          "model_name": "LayoutModel",
          "model_module_version": "1.2.0",
          "state": {
            "_model_module": "@jupyter-widgets/base",
            "_model_module_version": "1.2.0",
            "_model_name": "LayoutModel",
            "_view_count": null,
            "_view_module": "@jupyter-widgets/base",
            "_view_module_version": "1.2.0",
            "_view_name": "LayoutView",
            "align_content": null,
            "align_items": null,
            "align_self": null,
            "border": null,
            "bottom": null,
            "display": null,
            "flex": null,
            "flex_flow": null,
            "grid_area": null,
            "grid_auto_columns": null,
            "grid_auto_flow": null,
            "grid_auto_rows": null,
            "grid_column": null,
            "grid_gap": null,
            "grid_row": null,
            "grid_template_areas": null,
            "grid_template_columns": null,
            "grid_template_rows": null,
            "height": null,
            "justify_content": null,
            "justify_items": null,
            "left": null,
            "margin": null,
            "max_height": null,
            "max_width": null,
            "min_height": null,
            "min_width": null,
            "object_fit": null,
            "object_position": null,
            "order": null,
            "overflow": null,
            "overflow_x": null,
            "overflow_y": null,
            "padding": null,
            "right": null,
            "top": null,
            "visibility": null,
            "width": null
          }
        },
        "e23cacf050584072934f3f1a0be22c27": {
          "model_module": "@jupyter-widgets/controls",
          "model_name": "ProgressStyleModel",
          "model_module_version": "1.5.0",
          "state": {
            "_model_module": "@jupyter-widgets/controls",
            "_model_module_version": "1.5.0",
            "_model_name": "ProgressStyleModel",
            "_view_count": null,
            "_view_module": "@jupyter-widgets/base",
            "_view_module_version": "1.2.0",
            "_view_name": "StyleView",
            "bar_color": null,
            "description_width": ""
          }
        },
        "4e191bc0b4824f719fa56096b40d4822": {
          "model_module": "@jupyter-widgets/base",
          "model_name": "LayoutModel",
          "model_module_version": "1.2.0",
          "state": {
            "_model_module": "@jupyter-widgets/base",
            "_model_module_version": "1.2.0",
            "_model_name": "LayoutModel",
            "_view_count": null,
            "_view_module": "@jupyter-widgets/base",
            "_view_module_version": "1.2.0",
            "_view_name": "LayoutView",
            "align_content": null,
            "align_items": null,
            "align_self": null,
            "border": null,
            "bottom": null,
            "display": null,
            "flex": null,
            "flex_flow": null,
            "grid_area": null,
            "grid_auto_columns": null,
            "grid_auto_flow": null,
            "grid_auto_rows": null,
            "grid_column": null,
            "grid_gap": null,
            "grid_row": null,
            "grid_template_areas": null,
            "grid_template_columns": null,
            "grid_template_rows": null,
            "height": null,
            "justify_content": null,
            "justify_items": null,
            "left": null,
            "margin": null,
            "max_height": null,
            "max_width": null,
            "min_height": null,
            "min_width": null,
            "object_fit": null,
            "object_position": null,
            "order": null,
            "overflow": null,
            "overflow_x": null,
            "overflow_y": null,
            "padding": null,
            "right": null,
            "top": null,
            "visibility": null,
            "width": null
          }
        },
        "99bab4aaab644c008383a806f7cf4d36": {
          "model_module": "@jupyter-widgets/controls",
          "model_name": "DescriptionStyleModel",
          "model_module_version": "1.5.0",
          "state": {
            "_model_module": "@jupyter-widgets/controls",
            "_model_module_version": "1.5.0",
            "_model_name": "DescriptionStyleModel",
            "_view_count": null,
            "_view_module": "@jupyter-widgets/base",
            "_view_module_version": "1.2.0",
            "_view_name": "StyleView",
            "description_width": ""
          }
        },
        "de263ca09bd343109ca82252a80e1996": {
          "model_module": "@jupyter-widgets/controls",
          "model_name": "HBoxModel",
          "model_module_version": "1.5.0",
          "state": {
            "_dom_classes": [],
            "_model_module": "@jupyter-widgets/controls",
            "_model_module_version": "1.5.0",
            "_model_name": "HBoxModel",
            "_view_count": null,
            "_view_module": "@jupyter-widgets/controls",
            "_view_module_version": "1.5.0",
            "_view_name": "HBoxView",
            "box_style": "",
            "children": [
              "IPY_MODEL_a6d8f086f27c433383aeeb8cface5b90",
              "IPY_MODEL_206aea2081334d2c9aea2fbbafd9f882",
              "IPY_MODEL_efaa69ea6621495683b6ac99d797c71c"
            ],
            "layout": "IPY_MODEL_76c82dd2d9e340599419617e2e49af72"
          }
        },
        "a6d8f086f27c433383aeeb8cface5b90": {
          "model_module": "@jupyter-widgets/controls",
          "model_name": "HTMLModel",
          "model_module_version": "1.5.0",
          "state": {
            "_dom_classes": [],
            "_model_module": "@jupyter-widgets/controls",
            "_model_module_version": "1.5.0",
            "_model_name": "HTMLModel",
            "_view_count": null,
            "_view_module": "@jupyter-widgets/controls",
            "_view_module_version": "1.5.0",
            "_view_name": "HTMLView",
            "description": "",
            "description_tooltip": null,
            "layout": "IPY_MODEL_1fd9e067ad4d413ea9d6f03fa55df205",
            "placeholder": "\u200b",
            "style": "IPY_MODEL_7a7c00060e174dc0a784e13bc40a33bd",
            "value": "tokenizer.json:\u2007100%"
          }
        },
        "206aea2081334d2c9aea2fbbafd9f882": {
          "model_module": "@jupyter-widgets/controls",
          "model_name": "FloatProgressModel",
          "model_module_version": "1.5.0",
          "state": {
            "_dom_classes": [],
            "_model_module": "@jupyter-widgets/controls",
            "_model_module_version": "1.5.0",
            "_model_name": "FloatProgressModel",
            "_view_count": null,
            "_view_module": "@jupyter-widgets/controls",
            "_view_module_version": "1.5.0",
            "_view_name": "ProgressView",
            "bar_style": "success",
            "description": "",
            "description_tooltip": null,
            "layout": "IPY_MODEL_1380d39dde1847cab5a7446e83cc55c4",
            "max": 466062,
            "min": 0,
            "orientation": "horizontal",
            "style": "IPY_MODEL_b4b272497ac542fca5fa4815d51f7ea2",
            "value": 466062
          }
        },
        "efaa69ea6621495683b6ac99d797c71c": {
          "model_module": "@jupyter-widgets/controls",
          "model_name": "HTMLModel",
          "model_module_version": "1.5.0",
          "state": {
            "_dom_classes": [],
            "_model_module": "@jupyter-widgets/controls",
            "_model_module_version": "1.5.0",
            "_model_name": "HTMLModel",
            "_view_count": null,
            "_view_module": "@jupyter-widgets/controls",
            "_view_module_version": "1.5.0",
            "_view_name": "HTMLView",
            "description": "",
            "description_tooltip": null,
            "layout": "IPY_MODEL_40b1c80cd8434d23907f2db32ba8c5cb",
            "placeholder": "\u200b",
            "style": "IPY_MODEL_1a39f19263124229960f9a3ebbe90203",
            "value": "\u2007466k/466k\u2007[00:00&lt;00:00,\u20075.98MB/s]"
          }
        },
        "76c82dd2d9e340599419617e2e49af72": {
          "model_module": "@jupyter-widgets/base",
          "model_name": "LayoutModel",
          "model_module_version": "1.2.0",
          "state": {
            "_model_module": "@jupyter-widgets/base",
            "_model_module_version": "1.2.0",
            "_model_name": "LayoutModel",
            "_view_count": null,
            "_view_module": "@jupyter-widgets/base",
            "_view_module_version": "1.2.0",
            "_view_name": "LayoutView",
            "align_content": null,
            "align_items": null,
            "align_self": null,
            "border": null,
            "bottom": null,
            "display": null,
            "flex": null,
            "flex_flow": null,
            "grid_area": null,
            "grid_auto_columns": null,
            "grid_auto_flow": null,
            "grid_auto_rows": null,
            "grid_column": null,
            "grid_gap": null,
            "grid_row": null,
            "grid_template_areas": null,
            "grid_template_columns": null,
            "grid_template_rows": null,
            "height": null,
            "justify_content": null,
            "justify_items": null,
            "left": null,
            "margin": null,
            "max_height": null,
            "max_width": null,
            "min_height": null,
            "min_width": null,
            "object_fit": null,
            "object_position": null,
            "order": null,
            "overflow": null,
            "overflow_x": null,
            "overflow_y": null,
            "padding": null,
            "right": null,
            "top": null,
            "visibility": null,
            "width": null
          }
        },
        "1fd9e067ad4d413ea9d6f03fa55df205": {
          "model_module": "@jupyter-widgets/base",
          "model_name": "LayoutModel",
          "model_module_version": "1.2.0",
          "state": {
            "_model_module": "@jupyter-widgets/base",
            "_model_module_version": "1.2.0",
            "_model_name": "LayoutModel",
            "_view_count": null,
            "_view_module": "@jupyter-widgets/base",
            "_view_module_version": "1.2.0",
            "_view_name": "LayoutView",
            "align_content": null,
            "align_items": null,
            "align_self": null,
            "border": null,
            "bottom": null,
            "display": null,
            "flex": null,
            "flex_flow": null,
            "grid_area": null,
            "grid_auto_columns": null,
            "grid_auto_flow": null,
            "grid_auto_rows": null,
            "grid_column": null,
            "grid_gap": null,
            "grid_row": null,
            "grid_template_areas": null,
            "grid_template_columns": null,
            "grid_template_rows": null,
            "height": null,
            "justify_content": null,
            "justify_items": null,
            "left": null,
            "margin": null,
            "max_height": null,
            "max_width": null,
            "min_height": null,
            "min_width": null,
            "object_fit": null,
            "object_position": null,
            "order": null,
            "overflow": null,
            "overflow_x": null,
            "overflow_y": null,
            "padding": null,
            "right": null,
            "top": null,
            "visibility": null,
            "width": null
          }
        },
        "7a7c00060e174dc0a784e13bc40a33bd": {
          "model_module": "@jupyter-widgets/controls",
          "model_name": "DescriptionStyleModel",
          "model_module_version": "1.5.0",
          "state": {
            "_model_module": "@jupyter-widgets/controls",
            "_model_module_version": "1.5.0",
            "_model_name": "DescriptionStyleModel",
            "_view_count": null,
            "_view_module": "@jupyter-widgets/base",
            "_view_module_version": "1.2.0",
            "_view_name": "StyleView",
            "description_width": ""
          }
        },
        "1380d39dde1847cab5a7446e83cc55c4": {
          "model_module": "@jupyter-widgets/base",
          "model_name": "LayoutModel",
          "model_module_version": "1.2.0",
          "state": {
            "_model_module": "@jupyter-widgets/base",
            "_model_module_version": "1.2.0",
            "_model_name": "LayoutModel",
            "_view_count": null,
            "_view_module": "@jupyter-widgets/base",
            "_view_module_version": "1.2.0",
            "_view_name": "LayoutView",
            "align_content": null,
            "align_items": null,
            "align_self": null,
            "border": null,
            "bottom": null,
            "display": null,
            "flex": null,
            "flex_flow": null,
            "grid_area": null,
            "grid_auto_columns": null,
            "grid_auto_flow": null,
            "grid_auto_rows": null,
            "grid_column": null,
            "grid_gap": null,
            "grid_row": null,
            "grid_template_areas": null,
            "grid_template_columns": null,
            "grid_template_rows": null,
            "height": null,
            "justify_content": null,
            "justify_items": null,
            "left": null,
            "margin": null,
            "max_height": null,
            "max_width": null,
            "min_height": null,
            "min_width": null,
            "object_fit": null,
            "object_position": null,
            "order": null,
            "overflow": null,
            "overflow_x": null,
            "overflow_y": null,
            "padding": null,
            "right": null,
            "top": null,
            "visibility": null,
            "width": null
          }
        },
        "b4b272497ac542fca5fa4815d51f7ea2": {
          "model_module": "@jupyter-widgets/controls",
          "model_name": "ProgressStyleModel",
          "model_module_version": "1.5.0",
          "state": {
            "_model_module": "@jupyter-widgets/controls",
            "_model_module_version": "1.5.0",
            "_model_name": "ProgressStyleModel",
            "_view_count": null,
            "_view_module": "@jupyter-widgets/base",
            "_view_module_version": "1.2.0",
            "_view_name": "StyleView",
            "bar_color": null,
            "description_width": ""
          }
        },
        "40b1c80cd8434d23907f2db32ba8c5cb": {
          "model_module": "@jupyter-widgets/base",
          "model_name": "LayoutModel",
          "model_module_version": "1.2.0",
          "state": {
            "_model_module": "@jupyter-widgets/base",
            "_model_module_version": "1.2.0",
            "_model_name": "LayoutModel",
            "_view_count": null,
            "_view_module": "@jupyter-widgets/base",
            "_view_module_version": "1.2.0",
            "_view_name": "LayoutView",
            "align_content": null,
            "align_items": null,
            "align_self": null,
            "border": null,
            "bottom": null,
            "display": null,
            "flex": null,
            "flex_flow": null,
            "grid_area": null,
            "grid_auto_columns": null,
            "grid_auto_flow": null,
            "grid_auto_rows": null,
            "grid_column": null,
            "grid_gap": null,
            "grid_row": null,
            "grid_template_areas": null,
            "grid_template_columns": null,
            "grid_template_rows": null,
            "height": null,
            "justify_content": null,
            "justify_items": null,
            "left": null,
            "margin": null,
            "max_height": null,
            "max_width": null,
            "min_height": null,
            "min_width": null,
            "object_fit": null,
            "object_position": null,
            "order": null,
            "overflow": null,
            "overflow_x": null,
            "overflow_y": null,
            "padding": null,
            "right": null,
            "top": null,
            "visibility": null,
            "width": null
          }
        },
        "1a39f19263124229960f9a3ebbe90203": {
          "model_module": "@jupyter-widgets/controls",
          "model_name": "DescriptionStyleModel",
          "model_module_version": "1.5.0",
          "state": {
            "_model_module": "@jupyter-widgets/controls",
            "_model_module_version": "1.5.0",
            "_model_name": "DescriptionStyleModel",
            "_view_count": null,
            "_view_module": "@jupyter-widgets/base",
            "_view_module_version": "1.2.0",
            "_view_name": "StyleView",
            "description_width": ""
          }
        },
        "077e256ad444458cad03daa1d2259381": {
          "model_module": "@jupyter-widgets/controls",
          "model_name": "HBoxModel",
          "model_module_version": "1.5.0",
          "state": {
            "_dom_classes": [],
            "_model_module": "@jupyter-widgets/controls",
            "_model_module_version": "1.5.0",
            "_model_name": "HBoxModel",
            "_view_count": null,
            "_view_module": "@jupyter-widgets/controls",
            "_view_module_version": "1.5.0",
            "_view_name": "HBoxView",
            "box_style": "",
            "children": [
              "IPY_MODEL_80116d806ac84fdd8c7385381773ca54",
              "IPY_MODEL_b39ffc8951a547cc917a7aa00d76a408",
              "IPY_MODEL_89679ed46a7842b49788c0d1d20ae9fe"
            ],
            "layout": "IPY_MODEL_68c4d2e2f85743cbb0ea20c80696c57c"
          }
        },
        "80116d806ac84fdd8c7385381773ca54": {
          "model_module": "@jupyter-widgets/controls",
          "model_name": "HTMLModel",
          "model_module_version": "1.5.0",
          "state": {
            "_dom_classes": [],
            "_model_module": "@jupyter-widgets/controls",
            "_model_module_version": "1.5.0",
            "_model_name": "HTMLModel",
            "_view_count": null,
            "_view_module": "@jupyter-widgets/controls",
            "_view_module_version": "1.5.0",
            "_view_name": "HTMLView",
            "description": "",
            "description_tooltip": null,
            "layout": "IPY_MODEL_c5992675365440e89ccca4554d77b0ca",
            "placeholder": "\u200b",
            "style": "IPY_MODEL_893bf3ce8ae44006a0128d0d478380aa",
            "value": "config.json:\u2007100%"
          }
        },
        "b39ffc8951a547cc917a7aa00d76a408": {
          "model_module": "@jupyter-widgets/controls",
          "model_name": "FloatProgressModel",
          "model_module_version": "1.5.0",
          "state": {
            "_dom_classes": [],
            "_model_module": "@jupyter-widgets/controls",
            "_model_module_version": "1.5.0",
            "_model_name": "FloatProgressModel",
            "_view_count": null,
            "_view_module": "@jupyter-widgets/controls",
            "_view_module_version": "1.5.0",
            "_view_name": "ProgressView",
            "bar_style": "success",
            "description": "",
            "description_tooltip": null,
            "layout": "IPY_MODEL_fd3c76cac24543a3b3a9c067e5922549",
            "max": 570,
            "min": 0,
            "orientation": "horizontal",
            "style": "IPY_MODEL_6328c43e1b264d44807d9895b15e1926",
            "value": 570
          }
        },
        "89679ed46a7842b49788c0d1d20ae9fe": {
          "model_module": "@jupyter-widgets/controls",
          "model_name": "HTMLModel",
          "model_module_version": "1.5.0",
          "state": {
            "_dom_classes": [],
            "_model_module": "@jupyter-widgets/controls",
            "_model_module_version": "1.5.0",
            "_model_name": "HTMLModel",
            "_view_count": null,
            "_view_module": "@jupyter-widgets/controls",
            "_view_module_version": "1.5.0",
            "_view_name": "HTMLView",
            "description": "",
            "description_tooltip": null,
            "layout": "IPY_MODEL_453492d633bf40c68e1417b78eee567d",
            "placeholder": "\u200b",
            "style": "IPY_MODEL_9ce48e3fcb6c4068bff15ea122577d56",
            "value": "\u2007570/570\u2007[00:00&lt;00:00,\u200713.4kB/s]"
          }
        },
        "68c4d2e2f85743cbb0ea20c80696c57c": {
          "model_module": "@jupyter-widgets/base",
          "model_name": "LayoutModel",
          "model_module_version": "1.2.0",
          "state": {
            "_model_module": "@jupyter-widgets/base",
            "_model_module_version": "1.2.0",
            "_model_name": "LayoutModel",
            "_view_count": null,
            "_view_module": "@jupyter-widgets/base",
            "_view_module_version": "1.2.0",
            "_view_name": "LayoutView",
            "align_content": null,
            "align_items": null,
            "align_self": null,
            "border": null,
            "bottom": null,
            "display": null,
            "flex": null,
            "flex_flow": null,
            "grid_area": null,
            "grid_auto_columns": null,
            "grid_auto_flow": null,
            "grid_auto_rows": null,
            "grid_column": null,
            "grid_gap": null,
            "grid_row": null,
            "grid_template_areas": null,
            "grid_template_columns": null,
            "grid_template_rows": null,
            "height": null,
            "justify_content": null,
            "justify_items": null,
            "left": null,
            "margin": null,
            "max_height": null,
            "max_width": null,
            "min_height": null,
            "min_width": null,
            "object_fit": null,
            "object_position": null,
            "order": null,
            "overflow": null,
            "overflow_x": null,
            "overflow_y": null,
            "padding": null,
            "right": null,
            "top": null,
            "visibility": null,
            "width": null
          }
        },
        "c5992675365440e89ccca4554d77b0ca": {
          "model_module": "@jupyter-widgets/base",
          "model_name": "LayoutModel",
          "model_module_version": "1.2.0",
          "state": {
            "_model_module": "@jupyter-widgets/base",
            "_model_module_version": "1.2.0",
            "_model_name": "LayoutModel",
            "_view_count": null,
            "_view_module": "@jupyter-widgets/base",
            "_view_module_version": "1.2.0",
            "_view_name": "LayoutView",
            "align_content": null,
            "align_items": null,
            "align_self": null,
            "border": null,
            "bottom": null,
            "display": null,
            "flex": null,
            "flex_flow": null,
            "grid_area": null,
            "grid_auto_columns": null,
            "grid_auto_flow": null,
            "grid_auto_rows": null,
            "grid_column": null,
            "grid_gap": null,
            "grid_row": null,
            "grid_template_areas": null,
            "grid_template_columns": null,
            "grid_template_rows": null,
            "height": null,
            "justify_content": null,
            "justify_items": null,
            "left": null,
            "margin": null,
            "max_height": null,
            "max_width": null,
            "min_height": null,
            "min_width": null,
            "object_fit": null,
            "object_position": null,
            "order": null,
            "overflow": null,
            "overflow_x": null,
            "overflow_y": null,
            "padding": null,
            "right": null,
            "top": null,
            "visibility": null,
            "width": null
          }
        },
        "893bf3ce8ae44006a0128d0d478380aa": {
          "model_module": "@jupyter-widgets/controls",
          "model_name": "DescriptionStyleModel",
          "model_module_version": "1.5.0",
          "state": {
            "_model_module": "@jupyter-widgets/controls",
            "_model_module_version": "1.5.0",
            "_model_name": "DescriptionStyleModel",
            "_view_count": null,
            "_view_module": "@jupyter-widgets/base",
            "_view_module_version": "1.2.0",
            "_view_name": "StyleView",
            "description_width": ""
          }
        },
        "fd3c76cac24543a3b3a9c067e5922549": {
          "model_module": "@jupyter-widgets/base",
          "model_name": "LayoutModel",
          "model_module_version": "1.2.0",
          "state": {
            "_model_module": "@jupyter-widgets/base",
            "_model_module_version": "1.2.0",
            "_model_name": "LayoutModel",
            "_view_count": null,
            "_view_module": "@jupyter-widgets/base",
            "_view_module_version": "1.2.0",
            "_view_name": "LayoutView",
            "align_content": null,
            "align_items": null,
            "align_self": null,
            "border": null,
            "bottom": null,
            "display": null,
            "flex": null,
            "flex_flow": null,
            "grid_area": null,
            "grid_auto_columns": null,
            "grid_auto_flow": null,
            "grid_auto_rows": null,
            "grid_column": null,
            "grid_gap": null,
            "grid_row": null,
            "grid_template_areas": null,
            "grid_template_columns": null,
            "grid_template_rows": null,
            "height": null,
            "justify_content": null,
            "justify_items": null,
            "left": null,
            "margin": null,
            "max_height": null,
            "max_width": null,
            "min_height": null,
            "min_width": null,
            "object_fit": null,
            "object_position": null,
            "order": null,
            "overflow": null,
            "overflow_x": null,
            "overflow_y": null,
            "padding": null,
            "right": null,
            "top": null,
            "visibility": null,
            "width": null
          }
        },
        "6328c43e1b264d44807d9895b15e1926": {
          "model_module": "@jupyter-widgets/controls",
          "model_name": "ProgressStyleModel",
          "model_module_version": "1.5.0",
          "state": {
            "_model_module": "@jupyter-widgets/controls",
            "_model_module_version": "1.5.0",
            "_model_name": "ProgressStyleModel",
            "_view_count": null,
            "_view_module": "@jupyter-widgets/base",
            "_view_module_version": "1.2.0",
            "_view_name": "StyleView",
            "bar_color": null,
            "description_width": ""
          }
        },
        "453492d633bf40c68e1417b78eee567d": {
          "model_module": "@jupyter-widgets/base",
          "model_name": "LayoutModel",
          "model_module_version": "1.2.0",
          "state": {
            "_model_module": "@jupyter-widgets/base",
            "_model_module_version": "1.2.0",
            "_model_name": "LayoutModel",
            "_view_count": null,
            "_view_module": "@jupyter-widgets/base",
            "_view_module_version": "1.2.0",
            "_view_name": "LayoutView",
            "align_content": null,
            "align_items": null,
            "align_self": null,
            "border": null,
            "bottom": null,
            "display": null,
            "flex": null,
            "flex_flow": null,
            "grid_area": null,
            "grid_auto_columns": null,
            "grid_auto_flow": null,
            "grid_auto_rows": null,
            "grid_column": null,
            "grid_gap": null,
            "grid_row": null,
            "grid_template_areas": null,
            "grid_template_columns": null,
            "grid_template_rows": null,
            "height": null,
            "justify_content": null,
            "justify_items": null,
            "left": null,
            "margin": null,
            "max_height": null,
            "max_width": null,
            "min_height": null,
            "min_width": null,
            "object_fit": null,
            "object_position": null,
            "order": null,
            "overflow": null,
            "overflow_x": null,
            "overflow_y": null,
            "padding": null,
            "right": null,
            "top": null,
            "visibility": null,
            "width": null
          }
        },
        "9ce48e3fcb6c4068bff15ea122577d56": {
          "model_module": "@jupyter-widgets/controls",
          "model_name": "DescriptionStyleModel",
          "model_module_version": "1.5.0",
          "state": {
            "_model_module": "@jupyter-widgets/controls",
            "_model_module_version": "1.5.0",
            "_model_name": "DescriptionStyleModel",
            "_view_count": null,
            "_view_module": "@jupyter-widgets/base",
            "_view_module_version": "1.2.0",
            "_view_name": "StyleView",
            "description_width": ""
          }
        },
        "036e439d08ee4b36a5550d216313efbc": {
          "model_module": "@jupyter-widgets/controls",
          "model_name": "HBoxModel",
          "model_module_version": "1.5.0",
          "state": {
            "_dom_classes": [],
            "_model_module": "@jupyter-widgets/controls",
            "_model_module_version": "1.5.0",
            "_model_name": "HBoxModel",
            "_view_count": null,
            "_view_module": "@jupyter-widgets/controls",
            "_view_module_version": "1.5.0",
            "_view_name": "HBoxView",
            "box_style": "",
            "children": [
              "IPY_MODEL_d0ec853b8dda44cbb843b304ac94f8ce",
              "IPY_MODEL_81e04216ea4745bd9135044ceb5eb832",
              "IPY_MODEL_317e8600a07145558fe9fd2e0604348c"
            ],
            "layout": "IPY_MODEL_a942beb89ab0467db7ffc0f56e157a83"
          }
        },
        "d0ec853b8dda44cbb843b304ac94f8ce": {
          "model_module": "@jupyter-widgets/controls",
          "model_name": "HTMLModel",
          "model_module_version": "1.5.0",
          "state": {
            "_dom_classes": [],
            "_model_module": "@jupyter-widgets/controls",
            "_model_module_version": "1.5.0",
            "_model_name": "HTMLModel",
            "_view_count": null,
            "_view_module": "@jupyter-widgets/controls",
            "_view_module_version": "1.5.0",
            "_view_name": "HTMLView",
            "description": "",
            "description_tooltip": null,
            "layout": "IPY_MODEL_995e95098e774a20826d7acc764df63e",
            "placeholder": "\u200b",
            "style": "IPY_MODEL_e626930036d94180b9a3961458afbbe4",
            "value": "model.safetensors:\u2007100%"
          }
        },
        "81e04216ea4745bd9135044ceb5eb832": {
          "model_module": "@jupyter-widgets/controls",
          "model_name": "FloatProgressModel",
          "model_module_version": "1.5.0",
          "state": {
            "_dom_classes": [],
            "_model_module": "@jupyter-widgets/controls",
            "_model_module_version": "1.5.0",
            "_model_name": "FloatProgressModel",
            "_view_count": null,
            "_view_module": "@jupyter-widgets/controls",
            "_view_module_version": "1.5.0",
            "_view_name": "ProgressView",
            "bar_style": "success",
            "description": "",
            "description_tooltip": null,
            "layout": "IPY_MODEL_16dd47b8c4724d29b3b5d00e10f33955",
            "max": 440449768,
            "min": 0,
            "orientation": "horizontal",
            "style": "IPY_MODEL_4a4d1a4925c34d4e9a3efbb8e579e1e9",
            "value": 440449768
          }
        },
        "317e8600a07145558fe9fd2e0604348c": {
          "model_module": "@jupyter-widgets/controls",
          "model_name": "HTMLModel",
          "model_module_version": "1.5.0",
          "state": {
            "_dom_classes": [],
            "_model_module": "@jupyter-widgets/controls",
            "_model_module_version": "1.5.0",
            "_model_name": "HTMLModel",
            "_view_count": null,
            "_view_module": "@jupyter-widgets/controls",
            "_view_module_version": "1.5.0",
            "_view_name": "HTMLView",
            "description": "",
            "description_tooltip": null,
            "layout": "IPY_MODEL_31e0febd7df84997af2754ac0549f550",
            "placeholder": "\u200b",
            "style": "IPY_MODEL_f4f680fe56634c6181aa80569dca92fd",
            "value": "\u2007440M/440M\u2007[00:17&lt;00:00,\u200732.7MB/s]"
          }
        },
        "a942beb89ab0467db7ffc0f56e157a83": {
          "model_module": "@jupyter-widgets/base",
          "model_name": "LayoutModel",
          "model_module_version": "1.2.0",
          "state": {
            "_model_module": "@jupyter-widgets/base",
            "_model_module_version": "1.2.0",
            "_model_name": "LayoutModel",
            "_view_count": null,
            "_view_module": "@jupyter-widgets/base",
            "_view_module_version": "1.2.0",
            "_view_name": "LayoutView",
            "align_content": null,
            "align_items": null,
            "align_self": null,
            "border": null,
            "bottom": null,
            "display": null,
            "flex": null,
            "flex_flow": null,
            "grid_area": null,
            "grid_auto_columns": null,
            "grid_auto_flow": null,
            "grid_auto_rows": null,
            "grid_column": null,
            "grid_gap": null,
            "grid_row": null,
            "grid_template_areas": null,
            "grid_template_columns": null,
            "grid_template_rows": null,
            "height": null,
            "justify_content": null,
            "justify_items": null,
            "left": null,
            "margin": null,
            "max_height": null,
            "max_width": null,
            "min_height": null,
            "min_width": null,
            "object_fit": null,
            "object_position": null,
            "order": null,
            "overflow": null,
            "overflow_x": null,
            "overflow_y": null,
            "padding": null,
            "right": null,
            "top": null,
            "visibility": null,
            "width": null
          }
        },
        "995e95098e774a20826d7acc764df63e": {
          "model_module": "@jupyter-widgets/base",
          "model_name": "LayoutModel",
          "model_module_version": "1.2.0",
          "state": {
            "_model_module": "@jupyter-widgets/base",
            "_model_module_version": "1.2.0",
            "_model_name": "LayoutModel",
            "_view_count": null,
            "_view_module": "@jupyter-widgets/base",
            "_view_module_version": "1.2.0",
            "_view_name": "LayoutView",
            "align_content": null,
            "align_items": null,
            "align_self": null,
            "border": null,
            "bottom": null,
            "display": null,
            "flex": null,
            "flex_flow": null,
            "grid_area": null,
            "grid_auto_columns": null,
            "grid_auto_flow": null,
            "grid_auto_rows": null,
            "grid_column": null,
            "grid_gap": null,
            "grid_row": null,
            "grid_template_areas": null,
            "grid_template_columns": null,
            "grid_template_rows": null,
            "height": null,
            "justify_content": null,
            "justify_items": null,
            "left": null,
            "margin": null,
            "max_height": null,
            "max_width": null,
            "min_height": null,
            "min_width": null,
            "object_fit": null,
            "object_position": null,
            "order": null,
            "overflow": null,
            "overflow_x": null,
            "overflow_y": null,
            "padding": null,
            "right": null,
            "top": null,
            "visibility": null,
            "width": null
          }
        },
        "e626930036d94180b9a3961458afbbe4": {
          "model_module": "@jupyter-widgets/controls",
          "model_name": "DescriptionStyleModel",
          "model_module_version": "1.5.0",
          "state": {
            "_model_module": "@jupyter-widgets/controls",
            "_model_module_version": "1.5.0",
            "_model_name": "DescriptionStyleModel",
            "_view_count": null,
            "_view_module": "@jupyter-widgets/base",
            "_view_module_version": "1.2.0",
            "_view_name": "StyleView",
            "description_width": ""
          }
        },
        "16dd47b8c4724d29b3b5d00e10f33955": {
          "model_module": "@jupyter-widgets/base",
          "model_name": "LayoutModel",
          "model_module_version": "1.2.0",
          "state": {
            "_model_module": "@jupyter-widgets/base",
            "_model_module_version": "1.2.0",
            "_model_name": "LayoutModel",
            "_view_count": null,
            "_view_module": "@jupyter-widgets/base",
            "_view_module_version": "1.2.0",
            "_view_name": "LayoutView",
            "align_content": null,
            "align_items": null,
            "align_self": null,
            "border": null,
            "bottom": null,
            "display": null,
            "flex": null,
            "flex_flow": null,
            "grid_area": null,
            "grid_auto_columns": null,
            "grid_auto_flow": null,
            "grid_auto_rows": null,
            "grid_column": null,
            "grid_gap": null,
            "grid_row": null,
            "grid_template_areas": null,
            "grid_template_columns": null,
            "grid_template_rows": null,
            "height": null,
            "justify_content": null,
            "justify_items": null,
            "left": null,
            "margin": null,
            "max_height": null,
            "max_width": null,
            "min_height": null,
            "min_width": null,
            "object_fit": null,
            "object_position": null,
            "order": null,
            "overflow": null,
            "overflow_x": null,
            "overflow_y": null,
            "padding": null,
            "right": null,
            "top": null,
            "visibility": null,
            "width": null
          }
        },
        "4a4d1a4925c34d4e9a3efbb8e579e1e9": {
          "model_module": "@jupyter-widgets/controls",
          "model_name": "ProgressStyleModel",
          "model_module_version": "1.5.0",
          "state": {
            "_model_module": "@jupyter-widgets/controls",
            "_model_module_version": "1.5.0",
            "_model_name": "ProgressStyleModel",
            "_view_count": null,
            "_view_module": "@jupyter-widgets/base",
            "_view_module_version": "1.2.0",
            "_view_name": "StyleView",
            "bar_color": null,
            "description_width": ""
          }
        },
        "31e0febd7df84997af2754ac0549f550": {
          "model_module": "@jupyter-widgets/base",
          "model_name": "LayoutModel",
          "model_module_version": "1.2.0",
          "state": {
            "_model_module": "@jupyter-widgets/base",
            "_model_module_version": "1.2.0",
            "_model_name": "LayoutModel",
            "_view_count": null,
            "_view_module": "@jupyter-widgets/base",
            "_view_module_version": "1.2.0",
            "_view_name": "LayoutView",
            "align_content": null,
            "align_items": null,
            "align_self": null,
            "border": null,
            "bottom": null,
            "display": null,
            "flex": null,
            "flex_flow": null,
            "grid_area": null,
            "grid_auto_columns": null,
            "grid_auto_flow": null,
            "grid_auto_rows": null,
            "grid_column": null,
            "grid_gap": null,
            "grid_row": null,
            "grid_template_areas": null,
            "grid_template_columns": null,
            "grid_template_rows": null,
            "height": null,
            "justify_content": null,
            "justify_items": null,
            "left": null,
            "margin": null,
            "max_height": null,
            "max_width": null,
            "min_height": null,
            "min_width": null,
            "object_fit": null,
            "object_position": null,
            "order": null,
            "overflow": null,
            "overflow_x": null,
            "overflow_y": null,
            "padding": null,
            "right": null,
            "top": null,
            "visibility": null,
            "width": null
          }
        },
        "f4f680fe56634c6181aa80569dca92fd": {
          "model_module": "@jupyter-widgets/controls",
          "model_name": "DescriptionStyleModel",
          "model_module_version": "1.5.0",
          "state": {
            "_model_module": "@jupyter-widgets/controls",
            "_model_module_version": "1.5.0",
            "_model_name": "DescriptionStyleModel",
            "_view_count": null,
            "_view_module": "@jupyter-widgets/base",
            "_view_module_version": "1.2.0",
            "_view_name": "StyleView",
            "description_width": ""
          }
        },
        "56b080efcca64deaa8087403066d46c0": {
          "model_module": "@jupyter-widgets/controls",
          "model_name": "HBoxModel",
          "model_module_version": "1.5.0",
          "state": {
            "_dom_classes": [],
            "_model_module": "@jupyter-widgets/controls",
            "_model_module_version": "1.5.0",
            "_model_name": "HBoxModel",
            "_view_count": null,
            "_view_module": "@jupyter-widgets/controls",
            "_view_module_version": "1.5.0",
            "_view_name": "HBoxView",
            "box_style": "",
            "children": [
              "IPY_MODEL_fae0c8d7df614e089ce23759342065d6",
              "IPY_MODEL_bdeb1aae481d40f681a9eda90206ad30",
              "IPY_MODEL_56fcf6f32bef482ea5ed6000d13e835c"
            ],
            "layout": "IPY_MODEL_42bdb3887df84dfc96fe2f1945caeb43"
          }
        },
        "fae0c8d7df614e089ce23759342065d6": {
          "model_module": "@jupyter-widgets/controls",
          "model_name": "HTMLModel",
          "model_module_version": "1.5.0",
          "state": {
            "_dom_classes": [],
            "_model_module": "@jupyter-widgets/controls",
            "_model_module_version": "1.5.0",
            "_model_name": "HTMLModel",
            "_view_count": null,
            "_view_module": "@jupyter-widgets/controls",
            "_view_module_version": "1.5.0",
            "_view_name": "HTMLView",
            "description": "",
            "description_tooltip": null,
            "layout": "IPY_MODEL_266bdeb4fe9b455b8724ee21e32ca4f3",
            "placeholder": "\u200b",
            "style": "IPY_MODEL_c7b00358743e47e587855b147c451a78",
            "value": "tokenizer_config.json:\u2007100%"
          }
        },
        "bdeb1aae481d40f681a9eda90206ad30": {
          "model_module": "@jupyter-widgets/controls",
          "model_name": "FloatProgressModel",
          "model_module_version": "1.5.0",
          "state": {
            "_dom_classes": [],
            "_model_module": "@jupyter-widgets/controls",
            "_model_module_version": "1.5.0",
            "_model_name": "FloatProgressModel",
            "_view_count": null,
            "_view_module": "@jupyter-widgets/controls",
            "_view_module_version": "1.5.0",
            "_view_name": "ProgressView",
            "bar_style": "success",
            "description": "",
            "description_tooltip": null,
            "layout": "IPY_MODEL_87a7146dda3c4a75b98dcf1d81e9d0d4",
            "max": 48,
            "min": 0,
            "orientation": "horizontal",
            "style": "IPY_MODEL_9d6eea73220349be99ef42a62424bac0",
            "value": 48
          }
        },
        "56fcf6f32bef482ea5ed6000d13e835c": {
          "model_module": "@jupyter-widgets/controls",
          "model_name": "HTMLModel",
          "model_module_version": "1.5.0",
          "state": {
            "_dom_classes": [],
            "_model_module": "@jupyter-widgets/controls",
            "_model_module_version": "1.5.0",
            "_model_name": "HTMLModel",
            "_view_count": null,
            "_view_module": "@jupyter-widgets/controls",
            "_view_module_version": "1.5.0",
            "_view_name": "HTMLView",
            "description": "",
            "description_tooltip": null,
            "layout": "IPY_MODEL_a8aded9acfc145fea59c7b02ce5ebe27",
            "placeholder": "\u200b",
            "style": "IPY_MODEL_3c11ffbc82df48e5a7510b76ecf877d5",
            "value": "\u200748.0/48.0\u2007[00:00&lt;00:00,\u20073.52kB/s]"
          }
        },
        "42bdb3887df84dfc96fe2f1945caeb43": {
          "model_module": "@jupyter-widgets/base",
          "model_name": "LayoutModel",
          "model_module_version": "1.2.0",
          "state": {
            "_model_module": "@jupyter-widgets/base",
            "_model_module_version": "1.2.0",
            "_model_name": "LayoutModel",
            "_view_count": null,
            "_view_module": "@jupyter-widgets/base",
            "_view_module_version": "1.2.0",
            "_view_name": "LayoutView",
            "align_content": null,
            "align_items": null,
            "align_self": null,
            "border": null,
            "bottom": null,
            "display": null,
            "flex": null,
            "flex_flow": null,
            "grid_area": null,
            "grid_auto_columns": null,
            "grid_auto_flow": null,
            "grid_auto_rows": null,
            "grid_column": null,
            "grid_gap": null,
            "grid_row": null,
            "grid_template_areas": null,
            "grid_template_columns": null,
            "grid_template_rows": null,
            "height": null,
            "justify_content": null,
            "justify_items": null,
            "left": null,
            "margin": null,
            "max_height": null,
            "max_width": null,
            "min_height": null,
            "min_width": null,
            "object_fit": null,
            "object_position": null,
            "order": null,
            "overflow": null,
            "overflow_x": null,
            "overflow_y": null,
            "padding": null,
            "right": null,
            "top": null,
            "visibility": null,
            "width": null
          }
        },
        "266bdeb4fe9b455b8724ee21e32ca4f3": {
          "model_module": "@jupyter-widgets/base",
          "model_name": "LayoutModel",
          "model_module_version": "1.2.0",
          "state": {
            "_model_module": "@jupyter-widgets/base",
            "_model_module_version": "1.2.0",
            "_model_name": "LayoutModel",
            "_view_count": null,
            "_view_module": "@jupyter-widgets/base",
            "_view_module_version": "1.2.0",
            "_view_name": "LayoutView",
            "align_content": null,
            "align_items": null,
            "align_self": null,
            "border": null,
            "bottom": null,
            "display": null,
            "flex": null,
            "flex_flow": null,
            "grid_area": null,
            "grid_auto_columns": null,
            "grid_auto_flow": null,
            "grid_auto_rows": null,
            "grid_column": null,
            "grid_gap": null,
            "grid_row": null,
            "grid_template_areas": null,
            "grid_template_columns": null,
            "grid_template_rows": null,
            "height": null,
            "justify_content": null,
            "justify_items": null,
            "left": null,
            "margin": null,
            "max_height": null,
            "max_width": null,
            "min_height": null,
            "min_width": null,
            "object_fit": null,
            "object_position": null,
            "order": null,
            "overflow": null,
            "overflow_x": null,
            "overflow_y": null,
            "padding": null,
            "right": null,
            "top": null,
            "visibility": null,
            "width": null
          }
        },
        "c7b00358743e47e587855b147c451a78": {
          "model_module": "@jupyter-widgets/controls",
          "model_name": "DescriptionStyleModel",
          "model_module_version": "1.5.0",
          "state": {
            "_model_module": "@jupyter-widgets/controls",
            "_model_module_version": "1.5.0",
            "_model_name": "DescriptionStyleModel",
            "_view_count": null,
            "_view_module": "@jupyter-widgets/base",
            "_view_module_version": "1.2.0",
            "_view_name": "StyleView",
            "description_width": ""
          }
        },
        "87a7146dda3c4a75b98dcf1d81e9d0d4": {
          "model_module": "@jupyter-widgets/base",
          "model_name": "LayoutModel",
          "model_module_version": "1.2.0",
          "state": {
            "_model_module": "@jupyter-widgets/base",
            "_model_module_version": "1.2.0",
            "_model_name": "LayoutModel",
            "_view_count": null,
            "_view_module": "@jupyter-widgets/base",
            "_view_module_version": "1.2.0",
            "_view_name": "LayoutView",
            "align_content": null,
            "align_items": null,
            "align_self": null,
            "border": null,
            "bottom": null,
            "display": null,
            "flex": null,
            "flex_flow": null,
            "grid_area": null,
            "grid_auto_columns": null,
            "grid_auto_flow": null,
            "grid_auto_rows": null,
            "grid_column": null,
            "grid_gap": null,
            "grid_row": null,
            "grid_template_areas": null,
            "grid_template_columns": null,
            "grid_template_rows": null,
            "height": null,
            "justify_content": null,
            "justify_items": null,
            "left": null,
            "margin": null,
            "max_height": null,
            "max_width": null,
            "min_height": null,
            "min_width": null,
            "object_fit": null,
            "object_position": null,
            "order": null,
            "overflow": null,
            "overflow_x": null,
            "overflow_y": null,
            "padding": null,
            "right": null,
            "top": null,
            "visibility": null,
            "width": null
          }
        },
        "9d6eea73220349be99ef42a62424bac0": {
          "model_module": "@jupyter-widgets/controls",
          "model_name": "ProgressStyleModel",
          "model_module_version": "1.5.0",
          "state": {
            "_model_module": "@jupyter-widgets/controls",
            "_model_module_version": "1.5.0",
            "_model_name": "ProgressStyleModel",
            "_view_count": null,
            "_view_module": "@jupyter-widgets/base",
            "_view_module_version": "1.2.0",
            "_view_name": "StyleView",
            "bar_color": null,
            "description_width": ""
          }
        },
        "a8aded9acfc145fea59c7b02ce5ebe27": {
          "model_module": "@jupyter-widgets/base",
          "model_name": "LayoutModel",
          "model_module_version": "1.2.0",
          "state": {
            "_model_module": "@jupyter-widgets/base",
            "_model_module_version": "1.2.0",
            "_model_name": "LayoutModel",
            "_view_count": null,
            "_view_module": "@jupyter-widgets/base",
            "_view_module_version": "1.2.0",
            "_view_name": "LayoutView",
            "align_content": null,
            "align_items": null,
            "align_self": null,
            "border": null,
            "bottom": null,
            "display": null,
            "flex": null,
            "flex_flow": null,
            "grid_area": null,
            "grid_auto_columns": null,
            "grid_auto_flow": null,
            "grid_auto_rows": null,
            "grid_column": null,
            "grid_gap": null,
            "grid_row": null,
            "grid_template_areas": null,
            "grid_template_columns": null,
            "grid_template_rows": null,
            "height": null,
            "justify_content": null,
            "justify_items": null,
            "left": null,
            "margin": null,
            "max_height": null,
            "max_width": null,
            "min_height": null,
            "min_width": null,
            "object_fit": null,
            "object_position": null,
            "order": null,
            "overflow": null,
            "overflow_x": null,
            "overflow_y": null,
            "padding": null,
            "right": null,
            "top": null,
            "visibility": null,
            "width": null
          }
        },
        "3c11ffbc82df48e5a7510b76ecf877d5": {
          "model_module": "@jupyter-widgets/controls",
          "model_name": "DescriptionStyleModel",
          "model_module_version": "1.5.0",
          "state": {
            "_model_module": "@jupyter-widgets/controls",
            "_model_module_version": "1.5.0",
            "_model_name": "DescriptionStyleModel",
            "_view_count": null,
            "_view_module": "@jupyter-widgets/base",
            "_view_module_version": "1.2.0",
            "_view_name": "StyleView",
            "description_width": ""
          }
        },
        "241efad8f2354dce9bedad17914149cd": {
          "model_module": "@jupyter-widgets/controls",
          "model_name": "HBoxModel",
          "model_module_version": "1.5.0",
          "state": {
            "_dom_classes": [],
            "_model_module": "@jupyter-widgets/controls",
            "_model_module_version": "1.5.0",
            "_model_name": "HBoxModel",
            "_view_count": null,
            "_view_module": "@jupyter-widgets/controls",
            "_view_module_version": "1.5.0",
            "_view_name": "HBoxView",
            "box_style": "",
            "children": [
              "IPY_MODEL_2a76b8c4f3804856a2484df679208791",
              "IPY_MODEL_a70b9fa21bd44fb0a19cb1106f48285d",
              "IPY_MODEL_a4ad1dd60e5f47b0a0a87c949277c490"
            ],
            "layout": "IPY_MODEL_9ebedf14448444be8c546c09f087b6a3"
          }
        },
        "2a76b8c4f3804856a2484df679208791": {
          "model_module": "@jupyter-widgets/controls",
          "model_name": "HTMLModel",
          "model_module_version": "1.5.0",
          "state": {
            "_dom_classes": [],
            "_model_module": "@jupyter-widgets/controls",
            "_model_module_version": "1.5.0",
            "_model_name": "HTMLModel",
            "_view_count": null,
            "_view_module": "@jupyter-widgets/controls",
            "_view_module_version": "1.5.0",
            "_view_name": "HTMLView",
            "description": "",
            "description_tooltip": null,
            "layout": "IPY_MODEL_6e84d012a76345b89b96341785941851",
            "placeholder": "\u200b",
            "style": "IPY_MODEL_fdfd1249bac04c47968e4b67f7dd09eb",
            "value": "vocab.txt:\u2007100%"
          }
        },
        "a70b9fa21bd44fb0a19cb1106f48285d": {
          "model_module": "@jupyter-widgets/controls",
          "model_name": "FloatProgressModel",
          "model_module_version": "1.5.0",
          "state": {
            "_dom_classes": [],
            "_model_module": "@jupyter-widgets/controls",
            "_model_module_version": "1.5.0",
            "_model_name": "FloatProgressModel",
            "_view_count": null,
            "_view_module": "@jupyter-widgets/controls",
            "_view_module_version": "1.5.0",
            "_view_name": "ProgressView",
            "bar_style": "success",
            "description": "",
            "description_tooltip": null,
            "layout": "IPY_MODEL_ffc4397a2ae2483585693b61b478c893",
            "max": 231508,
            "min": 0,
            "orientation": "horizontal",
            "style": "IPY_MODEL_bbfc0f33292a4e1d801c43f9309e6004",
            "value": 231508
          }
        },
        "a4ad1dd60e5f47b0a0a87c949277c490": {
          "model_module": "@jupyter-widgets/controls",
          "model_name": "HTMLModel",
          "model_module_version": "1.5.0",
          "state": {
            "_dom_classes": [],
            "_model_module": "@jupyter-widgets/controls",
            "_model_module_version": "1.5.0",
            "_model_name": "HTMLModel",
            "_view_count": null,
            "_view_module": "@jupyter-widgets/controls",
            "_view_module_version": "1.5.0",
            "_view_name": "HTMLView",
            "description": "",
            "description_tooltip": null,
            "layout": "IPY_MODEL_bf38a868f63642c4b1a1f1e6b5ae147f",
            "placeholder": "\u200b",
            "style": "IPY_MODEL_c77bb2367ac14a639d10bdfed9168258",
            "value": "\u2007232k/232k\u2007[00:00&lt;00:00,\u20073.17MB/s]"
          }
        },
        "9ebedf14448444be8c546c09f087b6a3": {
          "model_module": "@jupyter-widgets/base",
          "model_name": "LayoutModel",
          "model_module_version": "1.2.0",
          "state": {
            "_model_module": "@jupyter-widgets/base",
            "_model_module_version": "1.2.0",
            "_model_name": "LayoutModel",
            "_view_count": null,
            "_view_module": "@jupyter-widgets/base",
            "_view_module_version": "1.2.0",
            "_view_name": "LayoutView",
            "align_content": null,
            "align_items": null,
            "align_self": null,
            "border": null,
            "bottom": null,
            "display": null,
            "flex": null,
            "flex_flow": null,
            "grid_area": null,
            "grid_auto_columns": null,
            "grid_auto_flow": null,
            "grid_auto_rows": null,
            "grid_column": null,
            "grid_gap": null,
            "grid_row": null,
            "grid_template_areas": null,
            "grid_template_columns": null,
            "grid_template_rows": null,
            "height": null,
            "justify_content": null,
            "justify_items": null,
            "left": null,
            "margin": null,
            "max_height": null,
            "max_width": null,
            "min_height": null,
            "min_width": null,
            "object_fit": null,
            "object_position": null,
            "order": null,
            "overflow": null,
            "overflow_x": null,
            "overflow_y": null,
            "padding": null,
            "right": null,
            "top": null,
            "visibility": null,
            "width": null
          }
        },
        "6e84d012a76345b89b96341785941851": {
          "model_module": "@jupyter-widgets/base",
          "model_name": "LayoutModel",
          "model_module_version": "1.2.0",
          "state": {
            "_model_module": "@jupyter-widgets/base",
            "_model_module_version": "1.2.0",
            "_model_name": "LayoutModel",
            "_view_count": null,
            "_view_module": "@jupyter-widgets/base",
            "_view_module_version": "1.2.0",
            "_view_name": "LayoutView",
            "align_content": null,
            "align_items": null,
            "align_self": null,
            "border": null,
            "bottom": null,
            "display": null,
            "flex": null,
            "flex_flow": null,
            "grid_area": null,
            "grid_auto_columns": null,
            "grid_auto_flow": null,
            "grid_auto_rows": null,
            "grid_column": null,
            "grid_gap": null,
            "grid_row": null,
            "grid_template_areas": null,
            "grid_template_columns": null,
            "grid_template_rows": null,
            "height": null,
            "justify_content": null,
            "justify_items": null,
            "left": null,
            "margin": null,
            "max_height": null,
            "max_width": null,
            "min_height": null,
            "min_width": null,
            "object_fit": null,
            "object_position": null,
            "order": null,
            "overflow": null,
            "overflow_x": null,
            "overflow_y": null,
            "padding": null,
            "right": null,
            "top": null,
            "visibility": null,
            "width": null
          }
        },
        "fdfd1249bac04c47968e4b67f7dd09eb": {
          "model_module": "@jupyter-widgets/controls",
          "model_name": "DescriptionStyleModel",
          "model_module_version": "1.5.0",
          "state": {
            "_model_module": "@jupyter-widgets/controls",
            "_model_module_version": "1.5.0",
            "_model_name": "DescriptionStyleModel",
            "_view_count": null,
            "_view_module": "@jupyter-widgets/base",
            "_view_module_version": "1.2.0",
            "_view_name": "StyleView",
            "description_width": ""
          }
        },
        "ffc4397a2ae2483585693b61b478c893": {
          "model_module": "@jupyter-widgets/base",
          "model_name": "LayoutModel",
          "model_module_version": "1.2.0",
          "state": {
            "_model_module": "@jupyter-widgets/base",
            "_model_module_version": "1.2.0",
            "_model_name": "LayoutModel",
            "_view_count": null,
            "_view_module": "@jupyter-widgets/base",
            "_view_module_version": "1.2.0",
            "_view_name": "LayoutView",
            "align_content": null,
            "align_items": null,
            "align_self": null,
            "border": null,
            "bottom": null,
            "display": null,
            "flex": null,
            "flex_flow": null,
            "grid_area": null,
            "grid_auto_columns": null,
            "grid_auto_flow": null,
            "grid_auto_rows": null,
            "grid_column": null,
            "grid_gap": null,
            "grid_row": null,
            "grid_template_areas": null,
            "grid_template_columns": null,
            "grid_template_rows": null,
            "height": null,
            "justify_content": null,
            "justify_items": null,
            "left": null,
            "margin": null,
            "max_height": null,
            "max_width": null,
            "min_height": null,
            "min_width": null,
            "object_fit": null,
            "object_position": null,
            "order": null,
            "overflow": null,
            "overflow_x": null,
            "overflow_y": null,
            "padding": null,
            "right": null,
            "top": null,
            "visibility": null,
            "width": null
          }
        },
        "bbfc0f33292a4e1d801c43f9309e6004": {
          "model_module": "@jupyter-widgets/controls",
          "model_name": "ProgressStyleModel",
          "model_module_version": "1.5.0",
          "state": {
            "_model_module": "@jupyter-widgets/controls",
            "_model_module_version": "1.5.0",
            "_model_name": "ProgressStyleModel",
            "_view_count": null,
            "_view_module": "@jupyter-widgets/base",
            "_view_module_version": "1.2.0",
            "_view_name": "StyleView",
            "bar_color": null,
            "description_width": ""
          }
        },
        "bf38a868f63642c4b1a1f1e6b5ae147f": {
          "model_module": "@jupyter-widgets/base",
          "model_name": "LayoutModel",
          "model_module_version": "1.2.0",
          "state": {
            "_model_module": "@jupyter-widgets/base",
            "_model_module_version": "1.2.0",
            "_model_name": "LayoutModel",
            "_view_count": null,
            "_view_module": "@jupyter-widgets/base",
            "_view_module_version": "1.2.0",
            "_view_name": "LayoutView",
            "align_content": null,
            "align_items": null,
            "align_self": null,
            "border": null,
            "bottom": null,
            "display": null,
            "flex": null,
            "flex_flow": null,
            "grid_area": null,
            "grid_auto_columns": null,
            "grid_auto_flow": null,
            "grid_auto_rows": null,
            "grid_column": null,
            "grid_gap": null,
            "grid_row": null,
            "grid_template_areas": null,
            "grid_template_columns": null,
            "grid_template_rows": null,
            "height": null,
            "justify_content": null,
            "justify_items": null,
            "left": null,
            "margin": null,
            "max_height": null,
            "max_width": null,
            "min_height": null,
            "min_width": null,
            "object_fit": null,
            "object_position": null,
            "order": null,
            "overflow": null,
            "overflow_x": null,
            "overflow_y": null,
            "padding": null,
            "right": null,
            "top": null,
            "visibility": null,
            "width": null
          }
        },
        "c77bb2367ac14a639d10bdfed9168258": {
          "model_module": "@jupyter-widgets/controls",
          "model_name": "DescriptionStyleModel",
          "model_module_version": "1.5.0",
          "state": {
            "_model_module": "@jupyter-widgets/controls",
            "_model_module_version": "1.5.0",
            "_model_name": "DescriptionStyleModel",
            "_view_count": null,
            "_view_module": "@jupyter-widgets/base",
            "_view_module_version": "1.2.0",
            "_view_name": "StyleView",
            "description_width": ""
          }
        },
        "c4e3dae3f1f04958956c69e1fa227533": {
          "model_module": "@jupyter-widgets/controls",
          "model_name": "HBoxModel",
          "model_module_version": "1.5.0",
          "state": {
            "_dom_classes": [],
            "_model_module": "@jupyter-widgets/controls",
            "_model_module_version": "1.5.0",
            "_model_name": "HBoxModel",
            "_view_count": null,
            "_view_module": "@jupyter-widgets/controls",
            "_view_module_version": "1.5.0",
            "_view_name": "HBoxView",
            "box_style": "",
            "children": [
              "IPY_MODEL_1ae2e95e00cc45c099af2fc532367c68",
              "IPY_MODEL_85cc9f4f85f44797b0851fff4593f830",
              "IPY_MODEL_02231b52db6d4ecca588c740582aa2ef"
            ],
            "layout": "IPY_MODEL_9c766452ad204344aa2bcdabefc528e8"
          }
        },
        "1ae2e95e00cc45c099af2fc532367c68": {
          "model_module": "@jupyter-widgets/controls",
          "model_name": "HTMLModel",
          "model_module_version": "1.5.0",
          "state": {
            "_dom_classes": [],
            "_model_module": "@jupyter-widgets/controls",
            "_model_module_version": "1.5.0",
            "_model_name": "HTMLModel",
            "_view_count": null,
            "_view_module": "@jupyter-widgets/controls",
            "_view_module_version": "1.5.0",
            "_view_name": "HTMLView",
            "description": "",
            "description_tooltip": null,
            "layout": "IPY_MODEL_952db7df4dd24c87b4fed89abf1accfd",
            "placeholder": "\u200b",
            "style": "IPY_MODEL_6a60db0df26e4b4d8c3ecc7e91964c5c",
            "value": "tokenizer.json:\u2007100%"
          }
        },
        "85cc9f4f85f44797b0851fff4593f830": {
          "model_module": "@jupyter-widgets/controls",
          "model_name": "FloatProgressModel",
          "model_module_version": "1.5.0",
          "state": {
            "_dom_classes": [],
            "_model_module": "@jupyter-widgets/controls",
            "_model_module_version": "1.5.0",
            "_model_name": "FloatProgressModel",
            "_view_count": null,
            "_view_module": "@jupyter-widgets/controls",
            "_view_module_version": "1.5.0",
            "_view_name": "ProgressView",
            "bar_style": "success",
            "description": "",
            "description_tooltip": null,
            "layout": "IPY_MODEL_db7b0026680b4d5ba881d573388ca92b",
            "max": 466062,
            "min": 0,
            "orientation": "horizontal",
            "style": "IPY_MODEL_49782749634048d7826f37fc39f1a99f",
            "value": 466062
          }
        },
        "02231b52db6d4ecca588c740582aa2ef": {
          "model_module": "@jupyter-widgets/controls",
          "model_name": "HTMLModel",
          "model_module_version": "1.5.0",
          "state": {
            "_dom_classes": [],
            "_model_module": "@jupyter-widgets/controls",
            "_model_module_version": "1.5.0",
            "_model_name": "HTMLModel",
            "_view_count": null,
            "_view_module": "@jupyter-widgets/controls",
            "_view_module_version": "1.5.0",
            "_view_name": "HTMLView",
            "description": "",
            "description_tooltip": null,
            "layout": "IPY_MODEL_044c47d3450c4421ab28417efa5dfbaf",
            "placeholder": "\u200b",
            "style": "IPY_MODEL_964fea63a69f4030b20feb964101378e",
            "value": "\u2007466k/466k\u2007[00:00&lt;00:00,\u20078.20MB/s]"
          }
        },
        "9c766452ad204344aa2bcdabefc528e8": {
          "model_module": "@jupyter-widgets/base",
          "model_name": "LayoutModel",
          "model_module_version": "1.2.0",
          "state": {
            "_model_module": "@jupyter-widgets/base",
            "_model_module_version": "1.2.0",
            "_model_name": "LayoutModel",
            "_view_count": null,
            "_view_module": "@jupyter-widgets/base",
            "_view_module_version": "1.2.0",
            "_view_name": "LayoutView",
            "align_content": null,
            "align_items": null,
            "align_self": null,
            "border": null,
            "bottom": null,
            "display": null,
            "flex": null,
            "flex_flow": null,
            "grid_area": null,
            "grid_auto_columns": null,
            "grid_auto_flow": null,
            "grid_auto_rows": null,
            "grid_column": null,
            "grid_gap": null,
            "grid_row": null,
            "grid_template_areas": null,
            "grid_template_columns": null,
            "grid_template_rows": null,
            "height": null,
            "justify_content": null,
            "justify_items": null,
            "left": null,
            "margin": null,
            "max_height": null,
            "max_width": null,
            "min_height": null,
            "min_width": null,
            "object_fit": null,
            "object_position": null,
            "order": null,
            "overflow": null,
            "overflow_x": null,
            "overflow_y": null,
            "padding": null,
            "right": null,
            "top": null,
            "visibility": null,
            "width": null
          }
        },
        "952db7df4dd24c87b4fed89abf1accfd": {
          "model_module": "@jupyter-widgets/base",
          "model_name": "LayoutModel",
          "model_module_version": "1.2.0",
          "state": {
            "_model_module": "@jupyter-widgets/base",
            "_model_module_version": "1.2.0",
            "_model_name": "LayoutModel",
            "_view_count": null,
            "_view_module": "@jupyter-widgets/base",
            "_view_module_version": "1.2.0",
            "_view_name": "LayoutView",
            "align_content": null,
            "align_items": null,
            "align_self": null,
            "border": null,
            "bottom": null,
            "display": null,
            "flex": null,
            "flex_flow": null,
            "grid_area": null,
            "grid_auto_columns": null,
            "grid_auto_flow": null,
            "grid_auto_rows": null,
            "grid_column": null,
            "grid_gap": null,
            "grid_row": null,
            "grid_template_areas": null,
            "grid_template_columns": null,
            "grid_template_rows": null,
            "height": null,
            "justify_content": null,
            "justify_items": null,
            "left": null,
            "margin": null,
            "max_height": null,
            "max_width": null,
            "min_height": null,
            "min_width": null,
            "object_fit": null,
            "object_position": null,
            "order": null,
            "overflow": null,
            "overflow_x": null,
            "overflow_y": null,
            "padding": null,
            "right": null,
            "top": null,
            "visibility": null,
            "width": null
          }
        },
        "6a60db0df26e4b4d8c3ecc7e91964c5c": {
          "model_module": "@jupyter-widgets/controls",
          "model_name": "DescriptionStyleModel",
          "model_module_version": "1.5.0",
          "state": {
            "_model_module": "@jupyter-widgets/controls",
            "_model_module_version": "1.5.0",
            "_model_name": "DescriptionStyleModel",
            "_view_count": null,
            "_view_module": "@jupyter-widgets/base",
            "_view_module_version": "1.2.0",
            "_view_name": "StyleView",
            "description_width": ""
          }
        },
        "db7b0026680b4d5ba881d573388ca92b": {
          "model_module": "@jupyter-widgets/base",
          "model_name": "LayoutModel",
          "model_module_version": "1.2.0",
          "state": {
            "_model_module": "@jupyter-widgets/base",
            "_model_module_version": "1.2.0",
            "_model_name": "LayoutModel",
            "_view_count": null,
            "_view_module": "@jupyter-widgets/base",
            "_view_module_version": "1.2.0",
            "_view_name": "LayoutView",
            "align_content": null,
            "align_items": null,
            "align_self": null,
            "border": null,
            "bottom": null,
            "display": null,
            "flex": null,
            "flex_flow": null,
            "grid_area": null,
            "grid_auto_columns": null,
            "grid_auto_flow": null,
            "grid_auto_rows": null,
            "grid_column": null,
            "grid_gap": null,
            "grid_row": null,
            "grid_template_areas": null,
            "grid_template_columns": null,
            "grid_template_rows": null,
            "height": null,
            "justify_content": null,
            "justify_items": null,
            "left": null,
            "margin": null,
            "max_height": null,
            "max_width": null,
            "min_height": null,
            "min_width": null,
            "object_fit": null,
            "object_position": null,
            "order": null,
            "overflow": null,
            "overflow_x": null,
            "overflow_y": null,
            "padding": null,
            "right": null,
            "top": null,
            "visibility": null,
            "width": null
          }
        },
        "49782749634048d7826f37fc39f1a99f": {
          "model_module": "@jupyter-widgets/controls",
          "model_name": "ProgressStyleModel",
          "model_module_version": "1.5.0",
          "state": {
            "_model_module": "@jupyter-widgets/controls",
            "_model_module_version": "1.5.0",
            "_model_name": "ProgressStyleModel",
            "_view_count": null,
            "_view_module": "@jupyter-widgets/base",
            "_view_module_version": "1.2.0",
            "_view_name": "StyleView",
            "bar_color": null,
            "description_width": ""
          }
        },
        "044c47d3450c4421ab28417efa5dfbaf": {
          "model_module": "@jupyter-widgets/base",
          "model_name": "LayoutModel",
          "model_module_version": "1.2.0",
          "state": {
            "_model_module": "@jupyter-widgets/base",
            "_model_module_version": "1.2.0",
            "_model_name": "LayoutModel",
            "_view_count": null,
            "_view_module": "@jupyter-widgets/base",
            "_view_module_version": "1.2.0",
            "_view_name": "LayoutView",
            "align_content": null,
            "align_items": null,
            "align_self": null,
            "border": null,
            "bottom": null,
            "display": null,
            "flex": null,
            "flex_flow": null,
            "grid_area": null,
            "grid_auto_columns": null,
            "grid_auto_flow": null,
            "grid_auto_rows": null,
            "grid_column": null,
            "grid_gap": null,
            "grid_row": null,
            "grid_template_areas": null,
            "grid_template_columns": null,
            "grid_template_rows": null,
            "height": null,
            "justify_content": null,
            "justify_items": null,
            "left": null,
            "margin": null,
            "max_height": null,
            "max_width": null,
            "min_height": null,
            "min_width": null,
            "object_fit": null,
            "object_position": null,
            "order": null,
            "overflow": null,
            "overflow_x": null,
            "overflow_y": null,
            "padding": null,
            "right": null,
            "top": null,
            "visibility": null,
            "width": null
          }
        },
        "964fea63a69f4030b20feb964101378e": {
          "model_module": "@jupyter-widgets/controls",
          "model_name": "DescriptionStyleModel",
          "model_module_version": "1.5.0",
          "state": {
            "_model_module": "@jupyter-widgets/controls",
            "_model_module_version": "1.5.0",
            "_model_name": "DescriptionStyleModel",
            "_view_count": null,
            "_view_module": "@jupyter-widgets/base",
            "_view_module_version": "1.2.0",
            "_view_name": "StyleView",
            "description_width": ""
          }
        },
        "state": {}
      }
    }
  },
  "cells": [
    {
      "cell_type": "markdown",
      "source": [
        "##\uad6c\uae00 BERT\uc758 \ub9c8\uc2a4\ud06c\ub4dc \uc5b8\uc5b4\ubaa8\ub378(Masked Language Model)\uc2e4\uc2b5\n",
        "\n",
        "\uc0ac\uc804 \ud559\uc2b5\ub41c \ud55c\uad6d\uc5b4 BERT \ub97c \uc774\uc6a9\ud558\uc5ec \ub9c8\uc2a4\ud06c\ub4dc \uc5b8\uc5b4 \ubaa8\ub378\uc744 \uc2e4\uc2b5\ud574\ubd05\uc2dc\ub2e4. \uc774\ubc88 \uc2e4\uc2b5\uc744 \uc704\ud574\uc11c\ub9cc\uc774 \uc544\n",
        "\ub2c8\ub77c \uc55e\uc73c\ub85c \uc0ac\uc804 \ud559\uc2b5\ub41c BERT \ub97c \uc0ac\uc6a9\ud560 \ub54c\ub294 transformers \ub77c\ub294 \ud328\ud0a4\uc9c0\ub97c \uc790\uc8fc \uc0ac\uc6a9\ud558\uac8c \ub429\ub2c8\ub2e4. \uc2e4\uc2b5\n",
        "\ud658\uacbd\uc5d0 transformers \ud328\ud0a4\uc9c0\ub97c \uc124\uce58\ud574\ub461\uc2dc\ub2e4."
      ],
      "metadata": {
        "id": "AxV78apwVxvv"
      }
    },
    {
      "cell_type": "code",
      "execution_count": 1,
      "metadata": {
        "colab": {
          "base_uri": "https://localhost:8080/"
        },
        "id": "OgSN5zIFVtpf",
        "executionInfo": {
          "status": "ok",
          "timestamp": 1751877552617,
          "user_tz": -540,
          "elapsed": 16748,
          "user": {
            "displayName": "\uc720\uc9c4\ucca0",
            "userId": "18428759730043573350"
          }
        },
        "outputId": "1e071a7d-c847-4ed8-c6fd-f60381e961b2"
      },
      "outputs": [
        {
          "output_type": "stream",
          "name": "stdout",
          "text": [
            "Requirement already satisfied: transformers in /usr/local/lib/python3.11/dist-packages (4.53.0)\n",
            "Requirement already satisfied: filelock in /usr/local/lib/python3.11/dist-packages (from transformers) (3.18.0)\n",
            "Requirement already satisfied: huggingface-hub<1.0,>=0.30.0 in /usr/local/lib/python3.11/dist-packages (from transformers) (0.33.1)\n",
            "Requirement already satisfied: numpy>=1.17 in /usr/local/lib/python3.11/dist-packages (from transformers) (2.0.2)\n",
            "Requirement already satisfied: packaging>=20.0 in /usr/local/lib/python3.11/dist-packages (from transformers) (24.2)\n",
            "Requirement already satisfied: pyyaml>=5.1 in /usr/local/lib/python3.11/dist-packages (from transformers) (6.0.2)\n",
            "Requirement already satisfied: regex!=2019.12.17 in /usr/local/lib/python3.11/dist-packages (from transformers) (2024.11.6)\n",
            "Requirement already satisfied: requests in /usr/local/lib/python3.11/dist-packages (from transformers) (2.32.3)\n",
            "Requirement already satisfied: tokenizers<0.22,>=0.21 in /usr/local/lib/python3.11/dist-packages (from transformers) (0.21.2)\n",
            "Requirement already satisfied: safetensors>=0.4.3 in /usr/local/lib/python3.11/dist-packages (from transformers) (0.5.3)\n",
            "Requirement already satisfied: tqdm>=4.27 in /usr/local/lib/python3.11/dist-packages (from transformers) (4.67.1)\n",
            "Requirement already satisfied: fsspec>=2023.5.0 in /usr/local/lib/python3.11/dist-packages (from huggingface-hub<1.0,>=0.30.0->transformers) (2025.3.2)\n",
            "Requirement already satisfied: typing-extensions>=3.7.4.3 in /usr/local/lib/python3.11/dist-packages (from huggingface-hub<1.0,>=0.30.0->transformers) (4.14.0)\n",
            "Requirement already satisfied: hf-xet<2.0.0,>=1.1.2 in /usr/local/lib/python3.11/dist-packages (from huggingface-hub<1.0,>=0.30.0->transformers) (1.1.5)\n",
            "Requirement already satisfied: charset-normalizer<4,>=2 in /usr/local/lib/python3.11/dist-packages (from requests->transformers) (3.4.2)\n",
            "Requirement already satisfied: idna<4,>=2.5 in /usr/local/lib/python3.11/dist-packages (from requests->transformers) (3.10)\n",
            "Requirement already satisfied: urllib3<3,>=1.21.1 in /usr/local/lib/python3.11/dist-packages (from requests->transformers) (2.4.0)\n",
            "Requirement already satisfied: certifi>=2017.4.17 in /usr/local/lib/python3.11/dist-packages (from requests->transformers) (2025.6.15)\n"
          ]
        }
      ],
      "source": [
        "!pip install transformers"
      ]
    },
    {
      "cell_type": "markdown",
      "source": [
        "### 1. \ub9c8\uc2a4\ud06c\ub4dc \uc5b8\uc5b4 \ubaa8\ub378\uacfc \ud1a0\ud06c\ub098\uc774\uc800\n",
        "\n",
        "transformers \ud328\ud0a4\uc9c0\ub97c \uc0ac\uc6a9\ud558\uc5ec \ubaa8\ub378\uacfc \ud1a0\ud06c\ub098\uc774\uc800\ub97c \ub85c\ub4dc\ud569\ub2c8\ub2e4. BERT \ub294 \uc774\ubbf8 \ub204\uad70\uac00\uac00 \ud559\uc2b5\ud574\ub454 \ubaa8\n",
        "\ub378\uc744 \uc0ac\uc6a9\ud558\ub294 \uac83\uc774\ubbc0\ub85c \uc6b0\ub9ac\uac00 \uc0ac\uc6a9\ud558\ub294 \ubaa8\ub378\uacfc \ud1a0\ud06c\ub098\uc774\uc800\ub294 \ud56d\uc0c1 \ub9f5\ud551 \uad00\uacc4\uc5ec\uc57c \ud569\ub2c8\ub2e4. \uc608\ub97c \ub4e4\uc5b4\uc11c\n",
        "A \ub77c\ub294 \uc774\ub984\uc758 BERT \ub97c \uc0ac\uc6a9\ud558\ub294\ub370, B \ub77c\ub294 \uc774\ub984\uc758 BERT \uc758 \ud1a0\ud06c\ub098\uc774\uc800\ub97c \uc0ac\uc6a9\ud558\uba74 \ubaa8\ub378\uc740 \ud14d\uc2a4\ud2b8\ub97c \uc81c\n",
        "\ub300\ub85c \uc774\ud574\ud560 \uc218 \uc5c6\uc2b5\ub2c8\ub2e4. A \ub77c\ub294 BERT \uc758 \ud1a0\ud06c\ub098\uc774\uc800\ub294\u2019 \uc0ac\uacfc\u2019 \ub77c\ub294 \ub2e8\uc5b4\ub97c 36 \ubc88\uc73c\ub85c \uc815\uc218 \uc778\ucf54\ub529\ud558\ub294\n",
        "\ubc18\uba74\uc5d0, B \ub77c\ub294 BERT \uc758 \ud1a0\ud06c\ub098\uc774\uc800\ub294\u2019 \uc0ac\uacfc\u2019 \ub77c\ub294 \ub2e8\uc5b4\ub97c 42 \ubc88\uc73c\ub85c \uc815\uc218 \uc778\ucf54\ub529\ud558\ub294 \ub4f1 \ub2e8\uc5b4\uc640 \ub9f5\ud551\ub418\ub294\n",
        "\uc815\uc218 \uc815\ubcf4 \uc790\uccb4\uac00 \ub2e4\ub974\uae30 \ub54c\ubb38\uc785\ub2c8\ub2e4."
      ],
      "metadata": {
        "id": "7CnWlNw4WJkZ"
      }
    },
    {
      "cell_type": "code",
      "source": [
        "from transformers import TFBertForMaskedLM\n",
        "from transformers import AutoTokenizer"
      ],
      "metadata": {
        "id": "hU5vDnblWHBR",
        "executionInfo": {
          "status": "ok",
          "timestamp": 1751877594623,
          "user_tz": -540,
          "elapsed": 41994,
          "user": {
            "displayName": "\uc720\uc9c4\ucca0",
            "userId": "18428759730043573350"
          }
        }
      },
      "execution_count": 2,
      "outputs": []
    },
    {
      "cell_type": "markdown",
      "source": [
        "TFBertForMaskedLM.from_pretrained(\u2018BERT \ubaa8\ub378 \uc774\ub984\u2019) \uc744 \ub123\uc73c\uba74 [MASK] \ub77c\uace0 \ub418\uc5b4\uc788\ub294 \ub2e8\uc5b4\ub97c \ub9de\ucd94\n",
        "\uae30 \uc704\ud55c \ub9c8\uc2a4\ud06c\ub4dc \uc5b8\uc5b4 \ubaa8\ub378\ub9c1\uc744 \uc704\ud55c \uad6c\uc870\ub85c BERT \ub97c \ub85c\ub4dc\ud569\ub2c8\ub2e4. \ub2e4\uc2dc \ub9d0\ud574\uc11c BERT \ub97c \ub9c8\uc2a4\ud06c\ub4dc \uc5b8\uc5b4\n",
        "\ubaa8\ub378 \ud615\ud0dc\ub85c \ub85c\ub4dc\ud569\ub2c8\ub2e4."
      ],
      "metadata": {
        "id": "rv7X9-WzWvKO"
      }
    },
    {
      "cell_type": "markdown",
      "source": [
        "AutoTokenizer.from_pretrained(\u2018\ubaa8\ub378 \uc774\ub984\u2019) \uc744 \ub123\uc73c\uba74 \ud574\ub2f9 \ubaa8\ub378\uc774 \ud559\uc2b5\ub418\uc5c8\uc744 \ub2f9\uc2dc\uc5d0 \uc0ac\uc6a9\ub418\uc5c8\ub358 \ud1a0\ud06c\n",
        "\ub098\uc774\uc800\ub97c \ub85c\ub4dc\ud569\ub2c8\ub2e4."
      ],
      "metadata": {
        "id": "AFNOreekZgqT"
      }
    },
    {
      "cell_type": "code",
      "source": [
        "model = TFBertForMaskedLM.from_pretrained('bert-large-uncased')\n",
        "tokenizer = AutoTokenizer.from_pretrained('bert-large-uncased')"
      ],
      "metadata": {
        "colab": {
          "base_uri": "https://localhost:8080/",
          "height": 397,
          "referenced_widgets": [
            "ba6a2d43ca004a93b88a26563b61a5ef",
            "0026e6fdcf9c4ea0b480775bdcd9994b",
            "0ebf59fb774843f483ffe9271ef853df",
            "c5a4a694b8f841909a4f02bd23532d8f",
            "60b8173a9990405e97b1b8d4dbdb4adc",
            "a273b778bcf74eb0a2d0fd53bef3428d",
            "5b217ba6797b4ccfbb38eb48f111943e",
            "39587fd6da054433a0551d498732eb1a",
            "e86a7b0ab6d34726b87f684182207072",
            "3f721470596140b28959d95aad395f9f",
            "138c5c5310b646bfbdb0ba7ae63376a3",
            "8602aae1d3cc441bbaa704457c30521f",
            "09aae3f41076465dba3b4ec445765224",
            "a5657048be654197ac4b364aaffcc94f",
            "a6e97df1e3a241c0a19814403d343e2a",
            "7aae10bfc4254556a226eaed457f02bf",
            "0449935afd224634936c1dd38335e972",
            "29dc5ffca2bf4929895a311ee1cf386b",
            "143c6c9681924fe09c94225892bfac24",
            "9e24252d2c68463e8221c43d7f183571",
            "a79ece5817484df78b1103d1480bf3a5",
            "240426240a1344deb087badcccfc5246",
            "547f5891eaa449a89b1ece6788491899",
            "b63c9141ef364125b01a5743589bf850",
            "e167a112d3a143a38c9b847321ae1fbf",
            "36861ddc8dfe4977865d42c85a1afa40",
            "073a8ce2d5574cc99236001c3e6d3cfc",
            "ed4f3d9554b041798c4bb277ae4e6edc",
            "c8b867b06b3c41ba9b6812dc34a1b170",
            "52cfafe54cf748858ef6c751332e74b5",
            "126632eeba2c409db12b2b208ab3fbb1",
            "60a65ce7dbe54c8e8580e22c002fc801",
            "fc9fd646de0f44588fee2709ac839819",
            "f764e189c9fc45469778462259c490f0",
            "cd498b4df1cf4697904ae92efeeff7be",
            "53043a9b937f4f34a544a338c0ff49b6",
            "bcea5462d57b4bb6a72597f4216d264d",
            "5d989505f496442dba430cc1a85c1e35",
            "8893008b487a448fa1575471dc109280",
            "1344b3c89e744b069593fddc2066245b",
            "ce75a27701fa43a8a90007f9bd2514ed",
            "e23cacf050584072934f3f1a0be22c27",
            "4e191bc0b4824f719fa56096b40d4822",
            "99bab4aaab644c008383a806f7cf4d36",
            "de263ca09bd343109ca82252a80e1996",
            "a6d8f086f27c433383aeeb8cface5b90",
            "206aea2081334d2c9aea2fbbafd9f882",
            "efaa69ea6621495683b6ac99d797c71c",
            "76c82dd2d9e340599419617e2e49af72",
            "1fd9e067ad4d413ea9d6f03fa55df205",
            "7a7c00060e174dc0a784e13bc40a33bd",
            "1380d39dde1847cab5a7446e83cc55c4",
            "b4b272497ac542fca5fa4815d51f7ea2",
            "40b1c80cd8434d23907f2db32ba8c5cb",
            "1a39f19263124229960f9a3ebbe90203"
          ]
        },
        "id": "3fZ0v5taWncV",
        "executionInfo": {
          "status": "ok",
          "timestamp": 1751877673888,
          "user_tz": -540,
          "elapsed": 79316,
          "user": {
            "displayName": "\uc720\uc9c4\ucca0",
            "userId": "18428759730043573350"
          }
        },
        "outputId": "1faba7ee-564c-4fbb-ed91-bc9f7726fc12"
      },
      "execution_count": 3,
      "outputs": [
        {
          "output_type": "stream",
          "name": "stderr",
          "text": [
            "/usr/local/lib/python3.11/dist-packages/huggingface_hub/utils/_auth.py:94: UserWarning: \n",
            "The secret `HF_TOKEN` does not exist in your Colab secrets.\n",
            "To authenticate with the Hugging Face Hub, create a token in your settings tab (https://huggingface.co/settings/tokens), set it as secret in your Google Colab and restart your session.\n",
            "You will be able to reuse this secret in all of your notebooks.\n",
            "Please note that authentication is recommended but still optional to access public models or datasets.\n",
            "  warnings.warn(\n"
          ]
        },
        {
          "output_type": "display_data",
          "data": {
            "text/plain": [
              "config.json:   0%|          | 0.00/571 [00:00<?, ?B/s]"
            ],
            "application/vnd.jupyter.widget-view+json": {
              "version_major": 2,
              "version_minor": 0,
              "model_id": "ba6a2d43ca004a93b88a26563b61a5ef"
            }
          },
          "metadata": {}
        },
        {
          "output_type": "display_data",
          "data": {
            "text/plain": [
              "model.safetensors:   0%|          | 0.00/1.34G [00:00<?, ?B/s]"
            ],
            "application/vnd.jupyter.widget-view+json": {
              "version_major": 2,
              "version_minor": 0,
              "model_id": "8602aae1d3cc441bbaa704457c30521f"
            }
          },
          "metadata": {}
        },
        {
          "output_type": "stream",
          "name": "stderr",
          "text": [
            "TensorFlow and JAX classes are deprecated and will be removed in Transformers v5. We recommend migrating to PyTorch classes or pinning your version of Transformers.\n",
            "All PyTorch model weights were used when initializing TFBertForMaskedLM.\n",
            "\n",
            "All the weights of TFBertForMaskedLM were initialized from the PyTorch model.\n",
            "If your task is similar to the task the model of the checkpoint was trained on, you can already use TFBertForMaskedLM for predictions without further training.\n"
          ]
        },
        {
          "output_type": "display_data",
          "data": {
            "text/plain": [
              "tokenizer_config.json:   0%|          | 0.00/48.0 [00:00<?, ?B/s]"
            ],
            "application/vnd.jupyter.widget-view+json": {
              "version_major": 2,
              "version_minor": 0,
              "model_id": "547f5891eaa449a89b1ece6788491899"
            }
          },
          "metadata": {}
        },
        {
          "output_type": "display_data",
          "data": {
            "text/plain": [
              "vocab.txt:   0%|          | 0.00/232k [00:00<?, ?B/s]"
            ],
            "application/vnd.jupyter.widget-view+json": {
              "version_major": 2,
              "version_minor": 0,
              "model_id": "f764e189c9fc45469778462259c490f0"
            }
          },
          "metadata": {}
        },
        {
          "output_type": "display_data",
          "data": {
            "text/plain": [
              "tokenizer.json:   0%|          | 0.00/466k [00:00<?, ?B/s]"
            ],
            "application/vnd.jupyter.widget-view+json": {
              "version_major": 2,
              "version_minor": 0,
              "model_id": "de263ca09bd343109ca82252a80e1996"
            }
          },
          "metadata": {}
        }
      ]
    },
    {
      "cell_type": "markdown",
      "source": [
        "###2. BERT\uc758 \uc785\ub825\n",
        "\u2019Soccer is a really fun [MASK]\u2019 \ub77c\ub294 \uc784\uc758\uc758 \ubb38\uc7a5\uc774 \uc788\ub2e4\uace0 \ud574\ubd05\uc2dc\ub2e4. \uc774\ub97c \ub9c8\uc2a4\ud06c\ub4dc \uc5b8\uc5b4 \ubaa8\ub378\uc758 \uc785\ub825\uc73c\n",
        "\ub85c \ub123\uc73c\uba74, \ub9c8\uc2a4\ud06c\ub4dc \uc5b8\uc5b4 \ubaa8\ub378\uc740 [MASK] \uc758 \uc704\uce58\uc5d0 \ud574\ub2f9\ud558\ub294 \ub2e8\uc5b4\ub97c \uc608\uce21\ud569\ub2c8\ub2e4. \ub9c8\uc2a4\ud06c\ub4dc \uc5b8\uc5b4 \ubaa8\ub378\uc758\n",
        "\uc608\uce21 \uacb0\uacfc\ub97c \ubcf4\uae30\uc704\ud574\uc11c bert\u2010large\u2010uncased \uc758 \ud1a0\ud06c\ub098\uc774\uc800\ub97c \uc0ac\uc6a9\ud558\uc5ec \ud574\ub2f9 \ubb38\uc7a5\uc744 \uc815\uc218 \uc778\ucf54\ub529\ud574\ubd05\uc2dc\n",
        "\ub2e4."
      ],
      "metadata": {
        "id": "3Pa0hA7AZ-LJ"
      }
    },
    {
      "cell_type": "code",
      "source": [
        "inputs = tokenizer('Soccer is a really fun [MASK].', return_tensors='tf')"
      ],
      "metadata": {
        "colab": {
          "base_uri": "https://localhost:8080/"
        },
        "id": "j5aixrPjZyDQ",
        "executionInfo": {
          "status": "ok",
          "timestamp": 1751877673934,
          "user_tz": -540,
          "elapsed": 43,
          "user": {
            "displayName": "\uc720\uc9c4\ucca0",
            "userId": "18428759730043573350"
          }
        },
        "outputId": "e50171aa-f101-406a-fd31-958793ccb591"
      },
      "execution_count": 4,
      "outputs": [
        {
          "output_type": "stream",
          "name": "stderr",
          "text": [
            "TensorFlow and JAX classes are deprecated and will be removed in Transformers v5. We recommend migrating to PyTorch classes or pinning your version of Transformers.\n"
          ]
        }
      ]
    },
    {
      "cell_type": "markdown",
      "source": [
        "\ud1a0\ud06c\ub098\uc774\uc800\ub85c \ubcc0\ud658\ub41c \uacb0\uacfc\uc5d0\uc11c input_ids \ub97c \ud1b5\ud574 \uc815\uc218 \uc778\ucf54\ub529 \uacb0\uacfc\ub97c \ud655\uc778\ud560 \uc218 \uc788\uc2b5\ub2c8\ub2e4."
      ],
      "metadata": {
        "id": "CouTmF4HafOD"
      }
    },
    {
      "cell_type": "code",
      "source": [
        "print(inputs['input_ids'])"
      ],
      "metadata": {
        "colab": {
          "base_uri": "https://localhost:8080/"
        },
        "id": "VSubMgFYaWfp",
        "executionInfo": {
          "status": "ok",
          "timestamp": 1751877673966,
          "user_tz": -540,
          "elapsed": 28,
          "user": {
            "displayName": "\uc720\uc9c4\ucca0",
            "userId": "18428759730043573350"
          }
        },
        "outputId": "3505f6cf-9da7-489e-d736-49be88e53bb8"
      },
      "execution_count": 5,
      "outputs": [
        {
          "output_type": "stream",
          "name": "stdout",
          "text": [
            "tf.Tensor([[ 101 4715 2003 1037 2428 4569  103 1012  102]], shape=(1, 9), dtype=int32)\n"
          ]
        }
      ]
    },
    {
      "cell_type": "markdown",
      "source": [
        "\ud1a0\ud06c\ub098\uc774\uc800\ub85c \ubcc0\ud658\ub41c \uacb0\uacfc\uc5d0\uc11c token_type_ids \ub97c \ud1b5\ud574\uc11c \ubb38\uc7a5\uc744 \uad6c\ubd84\ud558\ub294 \uc138\uadf8\uba3c\ud2b8 \uc778\ucf54\ub529 \uacb0\uacfc\ub97c \ud655\n",
        "\uc778\ud560 \uc218 \uc788\uc2b5\ub2c8\ub2e4."
      ],
      "metadata": {
        "id": "njatlmCNak4N"
      }
    },
    {
      "cell_type": "code",
      "source": [
        "print(inputs['token_type_ids'])"
      ],
      "metadata": {
        "colab": {
          "base_uri": "https://localhost:8080/"
        },
        "id": "Je0LiwMMabTa",
        "executionInfo": {
          "status": "ok",
          "timestamp": 1751877674003,
          "user_tz": -540,
          "elapsed": 32,
          "user": {
            "displayName": "\uc720\uc9c4\ucca0",
            "userId": "18428759730043573350"
          }
        },
        "outputId": "e62ff711-91da-4abd-99a1-61311999c6e1"
      },
      "execution_count": 6,
      "outputs": [
        {
          "output_type": "stream",
          "name": "stdout",
          "text": [
            "tf.Tensor([[0 0 0 0 0 0 0 0 0]], shape=(1, 9), dtype=int32)\n"
          ]
        }
      ]
    },
    {
      "cell_type": "markdown",
      "source": [
        "\ud604\uc7ac\uc758 \uc785\ub825\uc740 \ubb38\uc7a5\uc774 \ub450 \uac1c\uac00 \uc544\ub2c8\ub77c \ud55c \uac1c\uc774\ubbc0\ub85c \uc5ec\uae30\uc11c\ub294 \ubb38\uc7a5 \uae38\uc774\ub9cc\ud07c\uc758 0 \uc2dc\ud000\uc2a4\ub97c \uc5bb\uc2b5\ub2c8\ub2e4. \ub9cc\uc57d\n",
        "\ubb38\uc7a5\uc774 \ub450 \uac1c\uc600\ub2e4\uba74 \ub450\ubc88\uc9f8 \ubb38\uc7a5\uc774 \uc2dc\uc791\ub418\ub294 \uad6c\uac04\ubd80\ud130\ub294 1 \uc758 \uc2dc\ud000\uc2a4\uac00 \ub098\uc624\uac8c \ub418\uc9c0\ub9cc, \uc5ec\uae30\uc11c\ub294 \ud574\ub2f9\ub418\n",
        "\uc9c0 \uc54a\uc2b5\ub2c8\ub2e4.\n",
        "\ud1a0\ud06c\ub098\uc774\uc800\ub85c \ubcc0\ud658\ub41c \uacb0\uacfc\uc5d0\uc11c attention_mask \ub97c \ud1b5\ud574\uc11c \uc2e4\uc81c \ub2e8\uc5b4\uc640 \ud328\ub529 \ud1a0\ud070\uc744 \uad6c\ubd84\ud558\ub294 \uc6a9\ub3c4\uc778 \uc5b4\n",
        "\ud150\uc158 \ub9c8\uc2a4\ud06c\ub97c \ud655\uc778\ud560 \uc218 \uc788\uc2b5\ub2c8\ub2e4."
      ],
      "metadata": {
        "id": "YhudO9vIawZZ"
      }
    },
    {
      "cell_type": "code",
      "source": [
        "print(inputs['attention_mask'])"
      ],
      "metadata": {
        "colab": {
          "base_uri": "https://localhost:8080/"
        },
        "id": "66BqCTsjarrS",
        "executionInfo": {
          "status": "ok",
          "timestamp": 1751877674031,
          "user_tz": -540,
          "elapsed": 26,
          "user": {
            "displayName": "\uc720\uc9c4\ucca0",
            "userId": "18428759730043573350"
          }
        },
        "outputId": "b21e2337-e7e3-47ee-e000-5260b16e18a4"
      },
      "execution_count": 7,
      "outputs": [
        {
          "output_type": "stream",
          "name": "stdout",
          "text": [
            "tf.Tensor([[1 1 1 1 1 1 1 1 1]], shape=(1, 9), dtype=int32)\n"
          ]
        }
      ]
    },
    {
      "cell_type": "markdown",
      "source": [
        "\ud604\uc7ac\uc758 \uc785\ub825\uc5d0\uc11c\ub294 \ud328\ub529\uc774 \uc5c6\uc73c\ubbc0\ub85c \uc5ec\uae30\uc11c\ub294 \ubb38\uc7a5 \uae38\uc774\ub9cc\ud07c\uc758 1 \uc2dc\ud000\uc2a4\ub97c \uc5bb\uc2b5\ub2c8\ub2e4. \ub9cc\uc57d \ub4a4\uc5d0 \ud328\ub529\uc774\n",
        "\uc788\uc5c8\ub2e4\uba74 \ud328\ub529\uc774 \uc2dc\uc791\ub418\ub294 \uad6c\uac04\ubd80\ud130\ub294 0 \uc758 \uc2dc\ud000\uc2a4\uac00 \ub098\uc624\uac8c \ub418\uc9c0\ub9cc, \uc5ec\uae30\uc11c\ub294 \ud574\ub2f9\ub418\uc9c0 \uc54a\uc2b5\ub2c8\ub2e4. \uc880 \ub354\n",
        "\ub2e4\uc591\ud55c \ud328\ud134\uc758 \uc785\ub825\uc740 \ub4a4\uc758 \ud14d\uc2a4\ud2b8 \ubd84\ub958, \uac1c\uccb4\uba85 \uc778\uc2dd, \uc9c8\uc758 \uc751\ub2f5 \uc2e4\uc2b5\uc5d0\uc11c \uc774\uc5b4\uc11c \ubcf4\uaca0\uc2b5\ub2c8\ub2e4."
      ],
      "metadata": {
        "id": "NfGY2bOza-FX"
      }
    },
    {
      "cell_type": "markdown",
      "source": [
        "###3. \ud1a0\ud070 \uc608\uce21\ud558\uae30\n",
        "FillMaskPipeline \uc740 \ubaa8\ub378\uacfc \ud1a0\ud06c\ub098\uc774\uc800\ub97c \uc9c0\uc815\ud558\uba74 \uc190\uc27d\uac8c \ub9c8\uc2a4\ud06c\ub4dc \uc5b8\uc5b4 \ubaa8\ub378\uc758 \uc608\uce21 \uacb0\uacfc\ub97c \uc815\ub9ac\ud574\uc11c\n",
        "\ubcf4\uc5ec\uc90d\ub2c8\ub2e4. FillMaskPipeline \uc5d0 \uc6b0\uc120 \uc55e\uc11c \ubd88\ub7ec\uc628 \ubaa8\ub378\uacfc \ud1a0\ud06c\ub098\uc774\uc800\ub97c \uc9c0\uc815\ud574\uc90d\ub2c8\ub2e4."
      ],
      "metadata": {
        "id": "RKoKzl_tbAKU"
      }
    },
    {
      "cell_type": "code",
      "source": [
        "from transformers import FillMaskPipeline\n",
        "pip = FillMaskPipeline(model=model, tokenizer=tokenizer)"
      ],
      "metadata": {
        "colab": {
          "base_uri": "https://localhost:8080/"
        },
        "id": "qYQ1ePQ6a4Gy",
        "executionInfo": {
          "status": "ok",
          "timestamp": 1751877676749,
          "user_tz": -540,
          "elapsed": 2714,
          "user": {
            "displayName": "\uc720\uc9c4\ucca0",
            "userId": "18428759730043573350"
          }
        },
        "outputId": "e9cfdd49-f951-492e-c328-b806d123fe26"
      },
      "execution_count": 8,
      "outputs": [
        {
          "output_type": "stream",
          "name": "stderr",
          "text": [
            "TensorFlow and JAX classes are deprecated and will be removed in Transformers v5. We recommend migrating to PyTorch classes or pinning your version of Transformers.\n",
            "Device set to use 0\n"
          ]
        }
      ]
    },
    {
      "cell_type": "markdown",
      "source": [
        "\uc774\uc81c \uc785\ub825 \ubb38\uc7a5\uc73c\ub85c\ubd80\ud130 [MASK] \uc758 \uc704\uce58\uc5d0 \ub4e4\uc5b4\uac08 \uc218 \uc788\ub294 \uc0c1\uc704 5 \uac1c\uc758 \ud6c4\ubcf4 \ub2e8\uc5b4\ub4e4\uc744 \ucd9c\ub825\ud574\ubd05\uc2dc\ub2e4."
      ],
      "metadata": {
        "id": "YxxVJwwabtfm"
      }
    },
    {
      "cell_type": "code",
      "source": [
        "pip('Soccer is a really fun [MASK].')"
      ],
      "metadata": {
        "colab": {
          "base_uri": "https://localhost:8080/"
        },
        "id": "mzb0aNcMbphB",
        "executionInfo": {
          "status": "ok",
          "timestamp": 1751877678188,
          "user_tz": -540,
          "elapsed": 1436,
          "user": {
            "displayName": "\uc720\uc9c4\ucca0",
            "userId": "18428759730043573350"
          }
        },
        "outputId": "e2560abe-cfd8-4038-a8a6-dc1a868f2e3b"
      },
      "execution_count": 9,
      "outputs": [
        {
          "output_type": "execute_result",
          "data": {
            "text/plain": [
              "[{'score': 0.7621113061904907,\n",
              "  'token': 4368,\n",
              "  'token_str': 'sport',\n",
              "  'sequence': 'soccer is a really fun sport.'},\n",
              " {'score': 0.20342056453227997,\n",
              "  'token': 2208,\n",
              "  'token_str': 'game',\n",
              "  'sequence': 'soccer is a really fun game.'},\n",
              " {'score': 0.012208598665893078,\n",
              "  'token': 2518,\n",
              "  'token_str': 'thing',\n",
              "  'sequence': 'soccer is a really fun thing.'},\n",
              " {'score': 0.001863026642240584,\n",
              "  'token': 4023,\n",
              "  'token_str': 'activity',\n",
              "  'sequence': 'soccer is a really fun activity.'},\n",
              " {'score': 0.001335486420430243,\n",
              "  'token': 2492,\n",
              "  'token_str': 'field',\n",
              "  'sequence': 'soccer is a really fun field.'}]"
            ]
          },
          "metadata": {},
          "execution_count": 9
        }
      ]
    },
    {
      "cell_type": "code",
      "source": [
        "pip('The Avengers is really fun [MASK].')"
      ],
      "metadata": {
        "colab": {
          "base_uri": "https://localhost:8080/"
        },
        "id": "-x0Y6svOb1ix",
        "executionInfo": {
          "status": "ok",
          "timestamp": 1751877679213,
          "user_tz": -540,
          "elapsed": 1021,
          "user": {
            "displayName": "\uc720\uc9c4\ucca0",
            "userId": "18428759730043573350"
          }
        },
        "outputId": "b5fac0e3-9a62-44a9-c5ed-fb94ef069838"
      },
      "execution_count": 10,
      "outputs": [
        {
          "output_type": "execute_result",
          "data": {
            "text/plain": [
              "[{'score': 0.19735634326934814,\n",
              "  'token': 2295,\n",
              "  'token_str': 'though',\n",
              "  'sequence': 'the avengers is really fun though.'},\n",
              " {'score': 0.17442849278450012,\n",
              "  'token': 4933,\n",
              "  'token_str': 'stuff',\n",
              "  'sequence': 'the avengers is really fun stuff.'},\n",
              " {'score': 0.10920818895101547,\n",
              "  'token': 2205,\n",
              "  'token_str': 'too',\n",
              "  'sequence': 'the avengers is really fun too.'},\n",
              " {'score': 0.02360236831009388,\n",
              "  'token': 2182,\n",
              "  'token_str': 'here',\n",
              "  'sequence': 'the avengers is really fun here.'},\n",
              " {'score': 0.021633947268128395,\n",
              "  'token': 1000,\n",
              "  'token_str': '\"',\n",
              "  'sequence': 'the avengers is really fun \".'}]"
            ]
          },
          "metadata": {},
          "execution_count": 10
        }
      ]
    },
    {
      "cell_type": "code",
      "source": [
        "pip('I went to [MASK] this morning.')"
      ],
      "metadata": {
        "colab": {
          "base_uri": "https://localhost:8080/"
        },
        "id": "pQE5Ehq0cR7t",
        "executionInfo": {
          "status": "ok",
          "timestamp": 1751877680231,
          "user_tz": -540,
          "elapsed": 1014,
          "user": {
            "displayName": "\uc720\uc9c4\ucca0",
            "userId": "18428759730043573350"
          }
        },
        "outputId": "44326837-289f-4f78-dff7-647779247c92"
      },
      "execution_count": 11,
      "outputs": [
        {
          "output_type": "execute_result",
          "data": {
            "text/plain": [
              "[{'score': 0.3573073446750641,\n",
              "  'token': 2147,\n",
              "  'token_str': 'work',\n",
              "  'sequence': 'i went to work this morning.'},\n",
              " {'score': 0.23304398357868195,\n",
              "  'token': 2793,\n",
              "  'token_str': 'bed',\n",
              "  'sequence': 'i went to bed this morning.'},\n",
              " {'score': 0.1284506916999817,\n",
              "  'token': 2082,\n",
              "  'token_str': 'school',\n",
              "  'sequence': 'i went to school this morning.'},\n",
              " {'score': 0.06230578571557999,\n",
              "  'token': 3637,\n",
              "  'token_str': 'sleep',\n",
              "  'sequence': 'i went to sleep this morning.'},\n",
              " {'score': 0.046952586621046066,\n",
              "  'token': 2465,\n",
              "  'token_str': 'class',\n",
              "  'sequence': 'i went to class this morning.'}]"
            ]
          },
          "metadata": {},
          "execution_count": 11
        }
      ]
    },
    {
      "cell_type": "markdown",
      "source": [
        "## \uad6c\uae00 BERT\uc758 \ub2e4\uc74c \ubb38\uc7a5 \uc608\uce21(Next Sentence Prediction)\n",
        "\uc0ac\uc804 \ud559\uc2b5\ub41c \ud55c\uad6d\uc5b4 BERT \ub97c \uc774\uc6a9\ud558\uc5ec \ub2e4\uc74c \ubb38\uc7a5 \uc608\uce21\uc744 \uc2e4\uc2b5\ud574\ubd05\uc2dc\ub2e4. \uc774\ubc88 \uc2e4\uc2b5\uc744 \uc704\ud574\uc11c\ub9cc\uc774 \uc544\ub2c8\ub77c\n",
        "\uc55e\uc73c\ub85c \uc0ac\uc804 \ud559\uc2b5\ub41c BERT \ub97c \uc0ac\uc6a9\ud560 \ub54c\ub294 transformers \ub77c\ub294 \ud328\ud0a4\uc9c0\ub97c \uc790\uc8fc \uc0ac\uc6a9\ud558\uac8c \ub429\ub2c8\ub2e4. \uc2e4\uc2b5 \ud658\uacbd\n",
        "\uc5d0 transformers \ud328\ud0a4\uc9c0\ub97c \uc124\uce58\ud574\ub461\uc2dc\ub2e4."
      ],
      "metadata": {
        "id": "ccDRVds_CyVv"
      }
    },
    {
      "cell_type": "markdown",
      "source": [
        "### 1. \ub2e4\uc74c \ubb38\uc7a5 \uc608\uce21 \ubaa8\ub378\uacfc \ud1a0\ud06c\ub098\uc774\uc800\n",
        "transformers \ud328\ud0a4\uc9c0\ub97c \uc0ac\uc6a9\ud558\uc5ec \ubaa8\ub378\uacfc \ud1a0\ud06c\ub098\uc774\uc800\ub97c \ub85c\ub4dc\ud569\ub2c8\ub2e4. BERT \ub294 \uc774\ubbf8 \ub204\uad70\uac00\uac00 \ud559\uc2b5\ud574\ub454 \ubaa8\n",
        "\ub378\uc744 \uc0ac\uc6a9\ud558\ub294 \uac83\uc774\ubbc0\ub85c \uc6b0\ub9ac\uac00 \uc0ac\uc6a9\ud558\ub294 \ubaa8\ub378\uacfc \ud1a0\ud06c\ub098\uc774\uc800\ub294 \ud56d\uc0c1 \ub9f5\ud551 \uad00\uacc4\uc5ec\uc57c \ud569\ub2c8\ub2e4."
      ],
      "metadata": {
        "id": "SPGJrx9AD-FR"
      }
    },
    {
      "cell_type": "code",
      "source": [
        "import tensorflow as tf\n",
        "from transformers import TFBertForNextSentencePrediction\n",
        "from transformers import AutoTokenizer"
      ],
      "metadata": {
        "id": "mBFu3BZmcdNW",
        "executionInfo": {
          "status": "ok",
          "timestamp": 1751878048808,
          "user_tz": -540,
          "elapsed": 6,
          "user": {
            "displayName": "\uc720\uc9c4\ucca0",
            "userId": "18428759730043573350"
          }
        }
      },
      "execution_count": 12,
      "outputs": []
    },
    {
      "cell_type": "markdown",
      "source": [
        "TFBertForNextSentencePrediction.from_pretrained(\u2018BERT \ubaa8\ub378 \uc774\ub984\u2019) \uc744 \ub123\uc73c\uba74 \ub450 \uac1c\uc758 \ubb38\uc7a5\uc774 \uc774\uc5b4\n",
        "\uc9c0\ub294 \ubb38\uc7a5 \uad00\uacc4\uc778\uc9c0 \uc5ec\ubd80\ub97c \ud310\ub2e8\ud558\ub294 BERT \uad6c\uc870\ub97c \ub85c\ub4dc\ud569\ub2c8\ub2e4.\n",
        "AutoTokenizer.from_pretrained(\u2018\ubaa8\ub378 \uc774\ub984\u2019) \uc744 \ub123\uc73c\uba74 \ud574\ub2f9 \ubaa8\ub378\uc774 \ud559\uc2b5\ub418\uc5c8\uc744 \ub2f9\uc2dc\uc5d0 \uc0ac\uc6a9\ub418\uc5c8\ub358 \ud1a0\ud06c\n",
        "\ub098\uc774\uc800\ub97c \ub85c\ub4dc\ud569\ub2c8\ub2e4."
      ],
      "metadata": {
        "id": "bSv16_5jEeWH"
      }
    },
    {
      "cell_type": "code",
      "source": [
        "model = TFBertForNextSentencePrediction.from_pretrained('bert-base-uncased')\n",
        "tokenizer = AutoTokenizer.from_pretrained('bert-base-uncased')"
      ],
      "metadata": {
        "colab": {
          "base_uri": "https://localhost:8080/",
          "height": 270,
          "referenced_widgets": [
            "077e256ad444458cad03daa1d2259381",
            "80116d806ac84fdd8c7385381773ca54",
            "b39ffc8951a547cc917a7aa00d76a408",
            "89679ed46a7842b49788c0d1d20ae9fe",
            "68c4d2e2f85743cbb0ea20c80696c57c",
            "c5992675365440e89ccca4554d77b0ca",
            "893bf3ce8ae44006a0128d0d478380aa",
            "fd3c76cac24543a3b3a9c067e5922549",
            "6328c43e1b264d44807d9895b15e1926",
            "453492d633bf40c68e1417b78eee567d",
            "9ce48e3fcb6c4068bff15ea122577d56",
            "036e439d08ee4b36a5550d216313efbc",
            "d0ec853b8dda44cbb843b304ac94f8ce",
            "81e04216ea4745bd9135044ceb5eb832",
            "317e8600a07145558fe9fd2e0604348c",
            "a942beb89ab0467db7ffc0f56e157a83",
            "995e95098e774a20826d7acc764df63e",
            "e626930036d94180b9a3961458afbbe4",
            "16dd47b8c4724d29b3b5d00e10f33955",
            "4a4d1a4925c34d4e9a3efbb8e579e1e9",
            "31e0febd7df84997af2754ac0549f550",
            "f4f680fe56634c6181aa80569dca92fd",
            "56b080efcca64deaa8087403066d46c0",
            "fae0c8d7df614e089ce23759342065d6",
            "bdeb1aae481d40f681a9eda90206ad30",
            "56fcf6f32bef482ea5ed6000d13e835c",
            "42bdb3887df84dfc96fe2f1945caeb43",
            "266bdeb4fe9b455b8724ee21e32ca4f3",
            "c7b00358743e47e587855b147c451a78",
            "87a7146dda3c4a75b98dcf1d81e9d0d4",
            "9d6eea73220349be99ef42a62424bac0",
            "a8aded9acfc145fea59c7b02ce5ebe27",
            "3c11ffbc82df48e5a7510b76ecf877d5",
            "241efad8f2354dce9bedad17914149cd",
            "2a76b8c4f3804856a2484df679208791",
            "a70b9fa21bd44fb0a19cb1106f48285d",
            "a4ad1dd60e5f47b0a0a87c949277c490",
            "9ebedf14448444be8c546c09f087b6a3",
            "6e84d012a76345b89b96341785941851",
            "fdfd1249bac04c47968e4b67f7dd09eb",
            "ffc4397a2ae2483585693b61b478c893",
            "bbfc0f33292a4e1d801c43f9309e6004",
            "bf38a868f63642c4b1a1f1e6b5ae147f",
            "c77bb2367ac14a639d10bdfed9168258",
            "c4e3dae3f1f04958956c69e1fa227533",
            "1ae2e95e00cc45c099af2fc532367c68",
            "85cc9f4f85f44797b0851fff4593f830",
            "02231b52db6d4ecca588c740582aa2ef",
            "9c766452ad204344aa2bcdabefc528e8",
            "952db7df4dd24c87b4fed89abf1accfd",
            "6a60db0df26e4b4d8c3ecc7e91964c5c",
            "db7b0026680b4d5ba881d573388ca92b",
            "49782749634048d7826f37fc39f1a99f",
            "044c47d3450c4421ab28417efa5dfbaf",
            "964fea63a69f4030b20feb964101378e"
          ]
        },
        "id": "AOKLW-ifEZq7",
        "executionInfo": {
          "status": "ok",
          "timestamp": 1751878190588,
          "user_tz": -540,
          "elapsed": 24676,
          "user": {
            "displayName": "\uc720\uc9c4\ucca0",
            "userId": "18428759730043573350"
          }
        },
        "outputId": "8535b6e5-5007-494e-b1a9-6b8eb58df56e"
      },
      "execution_count": 13,
      "outputs": [
        {
          "output_type": "display_data",
          "data": {
            "text/plain": [
              "config.json:   0%|          | 0.00/570 [00:00<?, ?B/s]"
            ],
            "application/vnd.jupyter.widget-view+json": {
              "version_major": 2,
              "version_minor": 0,
              "model_id": "077e256ad444458cad03daa1d2259381"
            }
          },
          "metadata": {}
        },
        {
          "output_type": "display_data",
          "data": {
            "text/plain": [
              "model.safetensors:   0%|          | 0.00/440M [00:00<?, ?B/s]"
            ],
            "application/vnd.jupyter.widget-view+json": {
              "version_major": 2,
              "version_minor": 0,
              "model_id": "036e439d08ee4b36a5550d216313efbc"
            }
          },
          "metadata": {}
        },
        {
          "output_type": "stream",
          "name": "stderr",
          "text": [
            "All PyTorch model weights were used when initializing TFBertForNextSentencePrediction.\n",
            "\n",
            "All the weights of TFBertForNextSentencePrediction were initialized from the PyTorch model.\n",
            "If your task is similar to the task the model of the checkpoint was trained on, you can already use TFBertForNextSentencePrediction for predictions without further training.\n"
          ]
        },
        {
          "output_type": "display_data",
          "data": {
            "text/plain": [
              "tokenizer_config.json:   0%|          | 0.00/48.0 [00:00<?, ?B/s]"
            ],
            "application/vnd.jupyter.widget-view+json": {
              "version_major": 2,
              "version_minor": 0,
              "model_id": "56b080efcca64deaa8087403066d46c0"
            }
          },
          "metadata": {}
        },
        {
          "output_type": "display_data",
          "data": {
            "text/plain": [
              "vocab.txt:   0%|          | 0.00/232k [00:00<?, ?B/s]"
            ],
            "application/vnd.jupyter.widget-view+json": {
              "version_major": 2,
              "version_minor": 0,
              "model_id": "241efad8f2354dce9bedad17914149cd"
            }
          },
          "metadata": {}
        },
        {
          "output_type": "display_data",
          "data": {
            "text/plain": [
              "tokenizer.json:   0%|          | 0.00/466k [00:00<?, ?B/s]"
            ],
            "application/vnd.jupyter.widget-view+json": {
              "version_major": 2,
              "version_minor": 0,
              "model_id": "c4e3dae3f1f04958956c69e1fa227533"
            }
          },
          "metadata": {}
        }
      ]
    },
    {
      "cell_type": "markdown",
      "source": [
        "###2. BERT\uc758 \uc785\ub825\n",
        "\ub2e4\uc74c \ubb38\uc7a5 \uc608\uce21\uc744 \uc704\ud574 \ubb38\ub9e5 \uc0c1\uc73c\ub85c \uc2e4\uc81c\ub85c \uc774\uc5b4\uc9c0\ub294 \ub450 \uac1c\uc758 \ubb38\uc7a5\uc744 \uc900\ube44\ud569\ub2c8\ub2e4."
      ],
      "metadata": {
        "id": "Rcjyka7aE4IV"
      }
    },
    {
      "cell_type": "code",
      "source": [
        "prompt = \"In Italy, pizza served in formal settings, such as at a restaurant, is presented unsliced.\"\n",
        "next_sentence = \"pizza is eaten with the use of a knife and fork. In casual settings, however, it is cut into wedges to be eaten while held in the hand.\""
      ],
      "metadata": {
        "id": "h1MNuPqYFchM",
        "executionInfo": {
          "status": "ok",
          "timestamp": 1751878362121,
          "user_tz": -540,
          "elapsed": 16,
          "user": {
            "displayName": "\uc720\uc9c4\ucca0",
            "userId": "18428759730043573350"
          }
        }
      },
      "execution_count": 16,
      "outputs": []
    },
    {
      "cell_type": "markdown",
      "source": [
        "\uc55e\uc11c \uc900\ube44\ud55c bert\u2010base\u2010uncased \uc758 \ud1a0\ud06c\ub098\uc774\uc800\ub97c \uc0ac\uc6a9\ud558\uc5ec \ub450 \uac1c\uc758 \ubb38\uc7a5\uc744 \uc815\uc218 \uc778\ucf54\ub529\ud574\ubd05\uc2dc\ub2e4."
      ],
      "metadata": {
        "id": "0cZEXBdkFpJc"
      }
    },
    {
      "cell_type": "code",
      "source": [
        "encoding = tokenizer(prompt, next_sentence, return_tensors='tf')"
      ],
      "metadata": {
        "id": "eECYZzreFgsz",
        "executionInfo": {
          "status": "ok",
          "timestamp": 1751878405635,
          "user_tz": -540,
          "elapsed": 51,
          "user": {
            "displayName": "\uc720\uc9c4\ucca0",
            "userId": "18428759730043573350"
          }
        }
      },
      "execution_count": 17,
      "outputs": []
    },
    {
      "cell_type": "code",
      "source": [
        "print(encoding['input_ids'])"
      ],
      "metadata": {
        "colab": {
          "base_uri": "https://localhost:8080/"
        },
        "id": "uAo2lL_TFwx4",
        "executionInfo": {
          "status": "ok",
          "timestamp": 1751878421902,
          "user_tz": -540,
          "elapsed": 36,
          "user": {
            "displayName": "\uc720\uc9c4\ucca0",
            "userId": "18428759730043573350"
          }
        },
        "outputId": "be8146c8-06c2-44d2-88f9-7bd49d6d5291"
      },
      "execution_count": 18,
      "outputs": [
        {
          "output_type": "stream",
          "name": "stdout",
          "text": [
            "tf.Tensor(\n",
            "[[  101  1999  3304  1010 10733  2366  1999  5337 10906  1010  2107  2004\n",
            "   2012  1037  4825  1010  2003  3591  4895 14540  6610  2094  1012   102\n",
            "  10733  2003  8828  2007  1996  2224  1997  1037  5442  1998  9292  1012\n",
            "   1999 10017 10906  1010  2174  1010  2009  2003  3013  2046 17632  2015\n",
            "   2000  2022  8828  2096  2218  1999  1996  2192  1012   102]], shape=(1, 58), dtype=int32)\n"
          ]
        }
      ]
    },
    {
      "cell_type": "markdown",
      "source": [
        "\uc5ec\uae30\uc11c \uc8fc\uc758\ud560 \uc810\uc740 \uc5ec\uae30\uc11c 101 \uacfc 102 \ub294 \ud2b9\ubcc4 \ud1a0\ud070\uc774\ub77c\ub294 \uc810\uc785\ub2c8\ub2e4. \uc2e4\uc81c\ub85c \ud574\ub2f9 \ud1a0\ud06c\ub098\uc774\uc800\uc758 [CLS] \ud1a0\n",
        "\ud070\uacfc [SEP] \ud1a0\ud070\uc758 \ubc88\ud638\ub97c \ucd9c\ub825\ud574\ubd05\uc2dc\ub2e4."
      ],
      "metadata": {
        "id": "yH3d91svGCLP"
      }
    },
    {
      "cell_type": "code",
      "source": [
        "print(tokenizer.cls_token, ':', tokenizer.cls_token_id)\n",
        "print(tokenizer.sep_token, ':', tokenizer.sep_token_id)"
      ],
      "metadata": {
        "colab": {
          "base_uri": "https://localhost:8080/"
        },
        "id": "Sb_NbFFEF0wQ",
        "executionInfo": {
          "status": "ok",
          "timestamp": 1751878525760,
          "user_tz": -540,
          "elapsed": 51,
          "user": {
            "displayName": "\uc720\uc9c4\ucca0",
            "userId": "18428759730043573350"
          }
        },
        "outputId": "2f153f9c-b8cf-4a73-f8f5-f864f305e04b"
      },
      "execution_count": 19,
      "outputs": [
        {
          "output_type": "stream",
          "name": "stdout",
          "text": [
            "[CLS] : 101\n",
            "[SEP] : 102\n"
          ]
        }
      ]
    },
    {
      "cell_type": "markdown",
      "source": [
        "\uc704\uc758 \uc815\uc218 \uc778\ucf54\ub529 \uacb0\uacfc\ub97c \ub2e4\uc2dc \ub514\ucf54\ub529\ud574\ubcf4\uba74 \ud604\uc7ac \uc785\ub825\uc758 \uad6c\uc131\uc744 \ud655\uc778\ud560 \uc218 \uc788\uc2b5\ub2c8\ub2e4."
      ],
      "metadata": {
        "id": "NeiXct70GTQy"
      }
    },
    {
      "cell_type": "code",
      "source": [
        "print(tokenizer.decode(encoding['input_ids'][0]))"
      ],
      "metadata": {
        "colab": {
          "base_uri": "https://localhost:8080/"
        },
        "id": "PUQ07L41GOGb",
        "executionInfo": {
          "status": "ok",
          "timestamp": 1751878571587,
          "user_tz": -540,
          "elapsed": 37,
          "user": {
            "displayName": "\uc720\uc9c4\ucca0",
            "userId": "18428759730043573350"
          }
        },
        "outputId": "657c6d29-3a70-473b-f64f-d54e2930b976"
      },
      "execution_count": 20,
      "outputs": [
        {
          "output_type": "stream",
          "name": "stdout",
          "text": [
            "[CLS] in italy, pizza served in formal settings, such as at a restaurant, is presented unsliced. [SEP] pizza is eaten with the use of a knife and fork. in casual settings, however, it is cut into wedges to be eaten while held in the hand. [SEP]\n"
          ]
        }
      ]
    },
    {
      "cell_type": "markdown",
      "source": [
        "BERT \uc5d0\uc11c \ub450 \uac1c\uc758 \ubb38\uc7a5\uc774 \uc785\ub825\uc73c\ub85c \ub4e4\uc5b4\uac08 \uacbd\uc6b0\uc5d0\ub294 \ub9e8 \uc55e\uc5d0\ub294 [CLS] \ud1a0\ud070\uc774 \uc874\uc7ac\ud558\uace0, \uccab\ubc88\uc9f8 \ubb38\uc7a5\uc774 \ub05d\n",
        "\ub098\uba74 [SEP] \ud1a0\ud070, \uadf8\ub9ac\uace0 \ub450\ubc88\uc9f8 \ubb38\uc7a5\uc774 \uc885\ub8cc\ub418\uc5c8\uc744 \ub54c \ub2e4\uc2dc \ucd94\uac00\uc801\uc73c\ub85c [SEP] \ud1a0\ud070\uc774 \ucd94\uac00\ub429\ub2c8\ub2e4. \ud1a0\ud06c\ub098\n",
        "\uc774\uc800\ub85c \ubcc0\ud658\ub41c \uacb0\uacfc\uc5d0\uc11c token_type_ids \ub97c \ud1b5\ud574\uc11c \ubb38\uc7a5\uc744 \uad6c\ubd84\ud558\ub294 \uc138\uadf8\uba3c\ud2b8 \uc778\ucf54\ub529 \uacb0\uacfc\ub97c \ud655\uc778\ud560 \uc218\n",
        "\uc788\uc2b5\ub2c8\ub2e4."
      ],
      "metadata": {
        "id": "F1SuaSBuGtB0"
      }
    },
    {
      "cell_type": "code",
      "source": [
        "print(encoding['token_type_ids'])"
      ],
      "metadata": {
        "colab": {
          "base_uri": "https://localhost:8080/"
        },
        "id": "lYwyo3AvGZS0",
        "executionInfo": {
          "status": "ok",
          "timestamp": 1751878682282,
          "user_tz": -540,
          "elapsed": 27,
          "user": {
            "displayName": "\uc720\uc9c4\ucca0",
            "userId": "18428759730043573350"
          }
        },
        "outputId": "63ec983e-f590-4fe2-bc74-6e5c9c69e934"
      },
      "execution_count": 22,
      "outputs": [
        {
          "output_type": "stream",
          "name": "stdout",
          "text": [
            "tf.Tensor(\n",
            "[[0 0 0 0 0 0 0 0 0 0 0 0 0 0 0 0 0 0 0 0 0 0 0 0 1 1 1 1 1 1 1 1 1 1 1 1\n",
            "  1 1 1 1 1 1 1 1 1 1 1 1 1 1 1 1 1 1 1 1 1 1]], shape=(1, 58), dtype=int32)\n"
          ]
        }
      ]
    },
    {
      "cell_type": "markdown",
      "source": [
        "0 \uc774 \uc5f0\uc18d\uc801\uc73c\ub85c \ub4f1\uc7a5\ud558\ub2e4\uac00 \uc5b4\ub290 \uc21c\uac04\ubd80\ud130 1 \uc774 \uc5f0\uc18d\uc801\uc73c\ub85c \ub4f1\uc7a5\ud558\ub294\ub370, \uc774\ub294 [CLS] \ud1a0\ud070\uc758 \uc704\uce58\ubd80\ud130 \uccab\n",
        "\ubc88\uc9f8 \ubb38\uc7a5\uc774 \ub05d\ub098\uace0\ub098\uc11c \ub4f1\uc7a5\ud55c [SEP] \ud1a0\ud070\uae4c\uc9c0\uc758 \uc704\uce58\uc5d0\ub294 0 \uc774 \ub4f1\uc7a5\ud558\uace0, \ub2e4\uc74c \ub450\ubc88\uc9f8 \ubb38\uc7a5\ubd80\ud130\ub294 1 \uc774\n",
        "\ub4f1\uc7a5\ud558\ub294 \uac83\uc785\ub2c8\ub2e4. token_type_ids \uc5d0\uc11c\ub294 0 \uacfc 1 \ub85c \ub450 \uac1c\uc758 \ubb38\uc7a5\uc744 \uad6c\ubd84\ud558\uace0 \uc788\uc2b5\ub2c8\ub2e4."
      ],
      "metadata": {
        "id": "-jcS9iNgG476"
      }
    },
    {
      "cell_type": "markdown",
      "source": [
        "###3. \ub2e4\uc74c \ubb38\uc7a5 \uc608\uce21\ud558\uae30\n",
        "\uc774\uc81c TFBertForNextSentencePrediction \ub97c \ud1b5\ud574\uc11c \ub2e4\uc74c \ubb38\uc7a5\uc744 \uc608\uce21\ud574\ubd05\uc2dc\ub2e4. \ubaa8\ub378\uc5d0 \uc785\ub825\uc744 \ub123\uc73c\uba74, \ud574\n",
        "\ub2f9 \ubaa8\ub378\uc740 \uc18c\ud504\ud2b8\ub9e5\uc2a4 \ud568\uc218\ub97c \uc9c0\ub098\uae30 \uc804\uc758 \uac12\uc778 logits \uc744 \ub9ac\ud134\ud569\ub2c8\ub2e4. \ud574\ub2f9 \uac12\uc744 \uc18c\ud504\ud2b8\ub9e5\uc2a4 \ud568\uc218\ub97c \ud1b5\uacfc\n",
        "\uc2dc\ud0a8 \ud6c4\uc5d0 \uac01 \ub808\uc774\ube14\uc5d0 \ub300\ud55c \ud655\ub960\uac12\uc744 \ucd9c\ub825\ud574\ubd05\uc2dc\ub2e4."
      ],
      "metadata": {
        "id": "frDo4iJMHCYm"
      }
    },
    {
      "cell_type": "code",
      "source": [
        "logits = model(encoding['input_ids'], token_type_ids=encoding['token_type_ids'])[0]\n",
        "softmax = tf.keras.layers.Softmax()\n",
        "probs = softmax(logits)\n",
        "print(probs)\n"
      ],
      "metadata": {
        "colab": {
          "base_uri": "https://localhost:8080/"
        },
        "id": "E0aytIlMGxnT",
        "executionInfo": {
          "status": "ok",
          "timestamp": 1751878870304,
          "user_tz": -540,
          "elapsed": 1315,
          "user": {
            "displayName": "\uc720\uc9c4\ucca0",
            "userId": "18428759730043573350"
          }
        },
        "outputId": "622065bb-a8d9-4273-9f63-a70d7fb0a30e"
      },
      "execution_count": 23,
      "outputs": [
        {
          "output_type": "stream",
          "name": "stdout",
          "text": [
            "tf.Tensor([[9.9999714e-01 2.8381855e-06]], shape=(1, 2), dtype=float32)\n"
          ]
        }
      ]
    },
    {
      "cell_type": "markdown",
      "source": [
        "0 \ubc88 \uc778\ub371\uc2a4\uc5d0 \ub300\ud55c \ud655\ub960\uac12\uc774 1 \ubc88 \uc778\ub371\uc2a4\uc5d0 \ub300\ud55c \ud655\ub960\uac12\ubcf4\ub2e4 \ud6e8\uc52c \ud07d\ub2c8\ub2e4. \uc2e4\uc9c8\uc801\uc73c\ub85c \ubaa8\ub378\uc774 \uc608\uce21\ud55c \ub808\n",
        "\uc774\ube14\uc740 0 \uc774\ub77c\ub294 \ub73b\uc785\ub2c8\ub2e4. \uc774\uc81c \ub450 \uac1c\uc758 \uac12 \uc911 \ub354 \ud070 \uac12\uc744 \ubaa8\ub378\uc758 \uc608\uce21\uac12\uc73c\ub85c \ud310\ub2e8\ud558\ub3c4\ub85d \ub354 \ud070 \ud655\ub960\uac12\uc744\n",
        "\uac00\uc9c4 \uc778\ub371\uc2a4\ub97c \ub9ac\ud134\ud558\ub3c4\ub85d \ud569\ub2c8\ub2e4."
      ],
      "metadata": {
        "id": "pftKcTwsHtVV"
      }
    },
    {
      "cell_type": "code",
      "source": [
        "print('\ucd5c\uc885 \uc608\uce21 \ub808\uc774\ube14:', tf.math.argmax(probs, axis=-1).numpy())"
      ],
      "metadata": {
        "colab": {
          "base_uri": "https://localhost:8080/"
        },
        "id": "WPoj8tCSHh6A",
        "executionInfo": {
          "status": "ok",
          "timestamp": 1751878961528,
          "user_tz": -540,
          "elapsed": 50,
          "user": {
            "displayName": "\uc720\uc9c4\ucca0",
            "userId": "18428759730043573350"
          }
        },
        "outputId": "9a9f2bca-e2e2-4b67-9db5-3a6058fc9d78"
      },
      "execution_count": 24,
      "outputs": [
        {
          "output_type": "stream",
          "name": "stdout",
          "text": [
            "\ucd5c\uc885 \uc608\uce21 \ub808\uc774\ube14: [0]\n"
          ]
        }
      ]
    },
    {
      "cell_type": "markdown",
      "source": [
        "\ucd5c\uc885 \uc608\uce21 \ub808\uc774\ube14\uc740 0 \uc785\ub2c8\ub2e4. \uc774\ub294 BERT \uac00 \ub2e4\uc74c \ubb38\uc7a5 \uc608\uce21\uc744 \ud559\uc2b5\ud588\uc744 \ub2f9\uc2dc\uc5d0 \uc2e4\uc9c8\uc801\uc73c\ub85c \uc774\uc5b4\uc9c0\ub294 \ub450\n",
        "\uac1c\uc758 \ubb38\uc7a5\uc758 \ub808\uc774\ube14\uc740 0. \uc774\uc5b4\uc9c0\uc9c0 \uc54a\ub294 \ub450 \uac1c\uc758 \ubb38\uc7a5\uc758 \uacbd\uc6b0\uc5d0\ub294 \ub808\uc774\ube14\uc744 1 \ub85c \ub450\uace0\uc11c \uc774\uc9c4 \ubd84\ub958\ub85c \ud559\uc2b5\n",
        "\uc744 \ud558\uc600\uae30 \ub54c\ubb38\uc785\ub2c8\ub2e4. \uc774\ubc88\uc5d0\ub294 \uc774\uc5b4\uc9c0\uc9c0 \uc54a\ub294 \ub450 \uac1c\uc758 \ubb38\uc7a5\uc73c\ub85c \ud14c\uc2a4\ud2b8\ud574\ubd05\uc2dc\ub2e4. \uc804\uccb4\uc801\uc778 \uacfc\uc815\uc740 \uc774\uc804\n",
        "\uacfc \uac19\uc2b5\ub2c8\ub2e4."
      ],
      "metadata": {
        "id": "Tf2MId8CH_7n"
      }
    },
    {
      "cell_type": "code",
      "source": [
        "# \uc0c1 \uad00 \uc5c6 \ub294 \ub450 \uac1c \uc758 \ubb38 \uc7a5\n",
        "prompt = \"In Italy, pizza served in formal settings, such as at a restaurant, is presented unsliced.\"\n",
        "next_sentence = \"The sky is blue due to the shorter wavelength of blue light.\"\n",
        "\n",
        "encoding = tokenizer(prompt, next_sentence, return_tensors='tf')\n",
        "logits = model(encoding['input_ids'], token_type_ids=encoding['token_type_ids'])[0]\n",
        "\n",
        "softmax = tf.keras.layers.Softmax()\n",
        "probs = softmax(logits)\n",
        "print('\ucd5c\uc885 \uc608\uce21 \ub808\uc774\ube14 : ', tf.math.argmax(probs, axis=-1).numpy())"
      ],
      "metadata": {
        "colab": {
          "base_uri": "https://localhost:8080/"
        },
        "id": "TuyQ3Q0dITs1",
        "executionInfo": {
          "status": "ok",
          "timestamp": 1751879216249,
          "user_tz": -540,
          "elapsed": 501,
          "user": {
            "displayName": "\uc720\uc9c4\ucca0",
            "userId": "18428759730043573350"
          }
        },
        "outputId": "5ace1e4e-8892-494c-d14b-d23484e17349"
      },
      "execution_count": 25,
      "outputs": [
        {
          "output_type": "stream",
          "name": "stdout",
          "text": [
            "\ucd5c\uc885 \uc608\uce21 \ub808\uc774\ube14 :  [1]\n"
          ]
        }
      ]
    },
    {
      "cell_type": "code",
      "source": [],
      "metadata": {
        "id": "Vrzh85h7I2kd"
      },
      "execution_count": null,
      "outputs": []
    }
  ]
}